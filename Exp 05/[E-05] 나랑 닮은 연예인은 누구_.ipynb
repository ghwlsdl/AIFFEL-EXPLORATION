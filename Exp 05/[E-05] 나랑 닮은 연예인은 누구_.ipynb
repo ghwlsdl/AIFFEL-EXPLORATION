{
 "cells": [
  {
   "cell_type": "code",
   "execution_count": null,
   "id": "improving-partner",
   "metadata": {},
   "outputs": [],
   "source": [
    "# [E-05] 나랑 닮은 연예인은 누구?\n",
    "\n",
    "# Step1. 사진 모으기\n",
    "# Step2. 얼굴 영역 자르기\n",
    "# Step3. 얼굴 영역의 임베딩 추출하기\n",
    "# Step4. 모은 연예인들과 비교하기\n",
    "# Step5. 다양한 재미있는 시각화 시도해 보기\n",
    "# Step6. 평가 및 회고"
   ]
  },
  {
   "cell_type": "markdown",
   "id": "synthetic-belize",
   "metadata": {},
   "source": [
    "# Step1. 사진 모으기\n",
    "\n",
    "---\n",
    " \n",
    "## 1. 내 사진 찍기\n",
    "\n",
    "내 사진을 2장 이상 포함합시다.\n",
    "내 사진들끼리의 얼굴 임베딩 벡터 거리를 구해 봅시다. 닮았음을 확인할 수 있는 좋은 베이스라인이 될 수 있습니다.\n",
    "혹시 내 사진들끼리의 거리가 멀게 나온다면 왜 그럴지 생각해 봅시다.\n",
    "\n",
    "## 2. 비교할 연예인 사진 모으기\n",
    "\n",
    "스터디원 (김성연님, 안가영님)과 본인이 모은 연예인 및 만화캐릭터 사진 (총 176장) 을 기반으로 프로젝트를 진행할 예정입니다.\n",
    "\n",
    "+ a (원하는 결과값이 나오지 않을 시, https://aiffel.agit.io/g/300307139/wall/324271445 링크에서 참조한 2000여장을 추가할 예정입니다.)"
   ]
  },
  {
   "cell_type": "markdown",
   "id": "visible-arrest",
   "metadata": {},
   "source": [
    "# Step2. 얼굴 영역 자르기\n",
    "\n",
    "---\n",
    "\n",
    "임베딩 추출을 위해서는 얼굴 영역을 잘라줘야 합니다.\n",
    "\n",
    "위 Step1.에서 찾은 이미지들을 이전에 만들었던 get_cropped_face(image_file)을 통해서 잘라줍시다!\n",
    "\n",
    "자른 이미지는 PIL의 Image.fromarray를 통해서 PIL Image로 변환한 뒤에 저장을 해두면\n",
    "\n",
    "다양한 재미있는 시각화를 시도해 보는 데 도움이 될 것입니다."
   ]
  },
  {
   "cell_type": "code",
   "execution_count": 1,
   "id": "innovative-transportation",
   "metadata": {},
   "outputs": [],
   "source": [
    "#    힌트\n",
    "#    from PIL import Image\n",
    "#    face = get_cropped_face(image_path)\n",
    "#    pillow_image = Image.fromarray(face)\n",
    "#    pillow_image.save(path_to_save)"
   ]
  },
  {
   "cell_type": "code",
   "execution_count": 6,
   "id": "identical-coupon",
   "metadata": {},
   "outputs": [
    {
     "name": "stdout",
     "output_type": "stream",
     "text": [
      "1\n"
     ]
    }
   ],
   "source": [
    "import face_recognition\n",
    "import os\n",
    "from PIL import Image\n",
    "\n",
    "dir_path = os.getenv('HOME')+'/aiffel/face_embedding/Exp05_dataset'\n",
    "file_list = os.listdir(dir_path)\n",
    "\n",
    "print(len(file_list))"
   ]
  },
  {
   "cell_type": "markdown",
   "id": "shaped-narrow",
   "metadata": {},
   "source": [
    "- 해당 프로젝트에서 사용할 이미지들의 총 갯수 (284장)\n",
    "- os.listdir(): 해당 폴더 내의 모든 파일명과 디렉토리명을 리스트의 형식으로 반환\n",
    "- 284장의 이미지들의 파일명을 file_list라는 변수에 저장"
   ]
  },
  {
   "cell_type": "code",
   "execution_count": 7,
   "id": "abandoned-thumb",
   "metadata": {},
   "outputs": [],
   "source": [
    "def get_gropped_face(image_file):\n",
    "    image = face_recognition.load_image_file(image_file)\n",
    "    face_locations = face_recognition.face_locations(image)\n",
    "    a, b, c, d = face_locations[0]\n",
    "    cropped_face = image[a:c,d:b,:]\n",
    "    \n",
    "    return cropped_face"
   ]
  },
  {
   "cell_type": "markdown",
   "id": "roman-gazette",
   "metadata": {},
   "source": [
    "- get_gropped_face(): 이미지 파일에서 얼굴 영역을 가져오는 함수\n",
    "- face_recognition을 이용하여 이미지 내의 얼굴을 찾기 위해서 Detection 과정을 거치고, 찾은 얼굴 영역을 Crop"
   ]
  },
  {
   "cell_type": "code",
   "execution_count": 8,
   "id": "wound-polls",
   "metadata": {},
   "outputs": [
    {
     "name": "stdout",
     "output_type": "stream",
     "text": [
      "이호진.jpg was removed\n",
      "Cropped images are saved\n"
     ]
    }
   ],
   "source": [
    "def save_cropped_face(dir_path):\n",
    "    file_list = os.listdir(dir_path)\n",
    "    \n",
    "    for file in file_list:\n",
    "        try:\n",
    "            img_path = os.path.join(dir_path, file)\n",
    "            face = get_gropped_face(img_path)\n",
    "            pillow_image = Image.fromarray(face)\n",
    "            path_to_save = os.path.join(save_path, file)\n",
    "            pillow_image.save(path_to_save)\n",
    "            \n",
    "        except:\n",
    "            os.remove(img_path)\n",
    "            print(file, \"was removed\")\n",
    "\n",
    "    print('Cropped images are saved')\n",
    "\n",
    "save_path = os.getenv('HOME')+'/aiffel/face_embedding/images_cropped'\n",
    "save_cropped_face(dir_path)"
   ]
  },
  {
   "cell_type": "markdown",
   "id": "appreciated-links",
   "metadata": {},
   "source": [
    "- save_cropped_face(): get_gropped_face() 함수를 이용하여 얼굴 영역을 자르고, 해당 얼굴 영역을 이미지로 저장하는 함수\n",
    "- try, except 구문을 이용하여, 얼굴 인식이 안되는 사진을 삭제 (얼굴 인식이 안되는 이미지가 남아있을 경우, 추후에 문제가 발생하기 때문에 삭제)\n",
    "- 얼굴 영역을 자른 이미지를 images_cropped 폴더에 저장 (해당 이미지는 마지막 시각화 부분에서 사용할 예정)"
   ]
  },
  {
   "cell_type": "code",
   "execution_count": 9,
   "id": "composed-president",
   "metadata": {},
   "outputs": [],
   "source": [
    "import glob\n",
    "\n",
    "files = glob.glob(os.path.join(save_path, '*.png'))\n",
    "for file in files:\n",
    "    if not os.path.isdir(file):\n",
    "        src = os.path.splitext(file)\n",
    "        os.rename(file, src[0] + '.jpg')"
   ]
  },
  {
   "cell_type": "code",
   "execution_count": 10,
   "id": "remarkable-hungarian",
   "metadata": {},
   "outputs": [],
   "source": [
    "files = glob.glob(os.path.join(save_path, '*.jpeg'))\n",
    "for file in files:\n",
    "    if not os.path.isdir(file):\n",
    "        src = os.path.splitext(file)\n",
    "        os.rename(file, src[0] + '.jpg')"
   ]
  },
  {
   "cell_type": "markdown",
   "id": "intended-enterprise",
   "metadata": {},
   "source": [
    "- 기존 파일들의 확장자가 jpg, jpeg, png로 다양함\n",
    "- 마지막에 get_nearest_image() 함수에서 이미지들을 불러올때, '*.jpg'라는 형식을 사용하기 때문에, 모든 이미지 파일의 확장자를 jpg로 변환"
   ]
  },
  {
   "cell_type": "markdown",
   "id": "bearing-wealth",
   "metadata": {},
   "source": [
    "# Step3. 얼굴 영역의 임베딩 추출하기\n",
    "\n",
    "---\n",
    "\n",
    "이제 얼굴 영역으로 잘린 이미지들이 여럿 생겼을 텐데요.\n",
    "\n",
    "그 이미지를 face_recognition 을 사용해서 이미지를 불러오고 임베딩을 추출해 봅시다.\n",
    "\n",
    "다른 사람의 임베딩은 구분할 수 있게 따로 저장해 주세요. 이전에 만들었던 다음 함수들을 활용하면 손쉽게 수행 가능합니다.\n",
    "\n",
    "- def get_face_embedding(face) : 얼굴영역으로부터 얼굴 임베딩 벡터를 구하는 함수\n",
    "- def get_face_embedding_dict(dir_path) : 디렉토리 안에 있는 모든 이미지의 임베딩 딕셔너리를 구하는 함수"
   ]
  },
  {
   "cell_type": "code",
   "execution_count": 11,
   "id": "freelance-fighter",
   "metadata": {},
   "outputs": [],
   "source": [
    "def get_face_embedding(face):\n",
    "    return face_recognition.face_encodings(face)"
   ]
  },
  {
   "cell_type": "markdown",
   "id": "based-armor",
   "metadata": {},
   "source": [
    "- 얼굴 영역으로부터 얼굴 embedding 벡터를 구하는 함수"
   ]
  },
  {
   "cell_type": "code",
   "execution_count": 14,
   "id": "exterior-delicious",
   "metadata": {},
   "outputs": [
    {
     "name": "stdout",
     "output_type": "stream",
     "text": [
      "Embedding dictionary was made\n"
     ]
    },
    {
     "ename": "KeyError",
     "evalue": "'이호진'",
     "output_type": "error",
     "traceback": [
      "\u001b[0;31m---------------------------------------------------------------------------\u001b[0m",
      "\u001b[0;31mKeyError\u001b[0m                                  Traceback (most recent call last)",
      "\u001b[0;32m<ipython-input-14-a0ea98b4ecb2>\u001b[0m in \u001b[0;36m<module>\u001b[0;34m\u001b[0m\n\u001b[1;32m     16\u001b[0m \u001b[0;31m# 내 사진의 임베딩 딕셔너리 출력\u001b[0m\u001b[0;34m\u001b[0m\u001b[0;34m\u001b[0m\u001b[0;34m\u001b[0m\u001b[0m\n\u001b[1;32m     17\u001b[0m \u001b[0membedding_dict\u001b[0m \u001b[0;34m=\u001b[0m \u001b[0mget_face_embedding_dict\u001b[0m\u001b[0;34m(\u001b[0m\u001b[0mdir_path\u001b[0m\u001b[0;34m)\u001b[0m\u001b[0;34m\u001b[0m\u001b[0;34m\u001b[0m\u001b[0m\n\u001b[0;32m---> 18\u001b[0;31m \u001b[0membedding_dict\u001b[0m\u001b[0;34m[\u001b[0m\u001b[0;34m'이호진'\u001b[0m\u001b[0;34m]\u001b[0m\u001b[0;34m\u001b[0m\u001b[0;34m\u001b[0m\u001b[0m\n\u001b[0m",
      "\u001b[0;31mKeyError\u001b[0m: '이호진'"
     ]
    }
   ],
   "source": [
    "def get_face_embedding_dict(dir_path):\n",
    "    file_list = os.listdir(dir_path)\n",
    "    embedding_dict = {}\n",
    "    \n",
    "    for file in file_list:\n",
    "        img_path = os.path.join(dir_path, file)\n",
    "        face = get_gropped_face(img_path)\n",
    "        embedding = get_face_embedding(face)\n",
    "        if len(embedding) > 0:  # 얼굴영역 face가 제대로 detect되지 않으면 len(embedding)==0인 경우가 발생하므로 \n",
    "            # os.path.splitext(file)[0]에는 이미지파일명에서 확장자를 제거한 이름이 담깁니다. \n",
    "            embedding_dict[os.path.splitext(file)[0]] = embedding[0]\n",
    "    \n",
    "    print(\"Embedding dictionary was made\")\n",
    "    return embedding_dict\n",
    "\n",
    "# 내 사진의 임베딩 딕셔너리 출력\n",
    "embedding_dict = get_face_embedding_dict(dir_path)\n",
    "embedding_dict['이호진']"
   ]
  },
  {
   "cell_type": "code",
   "execution_count": null,
   "id": "deluxe-print",
   "metadata": {},
   "outputs": [],
   "source": []
  },
  {
   "cell_type": "code",
   "execution_count": null,
   "id": "textile-omaha",
   "metadata": {},
   "outputs": [],
   "source": []
  },
  {
   "cell_type": "code",
   "execution_count": null,
   "id": "curious-pacific",
   "metadata": {},
   "outputs": [],
   "source": []
  },
  {
   "cell_type": "code",
   "execution_count": null,
   "id": "vital-thickness",
   "metadata": {},
   "outputs": [],
   "source": []
  },
  {
   "cell_type": "code",
   "execution_count": null,
   "id": "meaning-defense",
   "metadata": {},
   "outputs": [],
   "source": []
  },
  {
   "cell_type": "markdown",
   "id": "technological-folks",
   "metadata": {},
   "source": [
    "# Step4. 모은 연예인들과 비교하기\n",
    "\n",
    "모은 연예인 사진들과 자신의 얼굴 사진에서 추출한 임베딩 벡터들 간의\n",
    "\n",
    "거리를 비교해 보고 가장 작은 연예인이 누구인지 찾아봅시다!\n",
    "\n",
    "이전 스텝에서 만들었던 get_nearest_face(name, top=5) 함수들을 응용하면 손쉽게 수행 가능합니다."
   ]
  },
  {
   "cell_type": "markdown",
   "id": "fitting-belly",
   "metadata": {},
   "source": [
    "# Step5. 다양한 재미있는 시각화 시도해 보기\n",
    "\n",
    "비단 닮은 꼴 연예인을 찾기만 할 것이 아니라,\n",
    "\n",
    "그들의 얼굴 사진을 활용하여 재미있는 시각화를 시도해 보시기 바랍니다.\n",
    "\n",
    "tkinter나 flask를 활용해서 닮은꼴을 찾을 이미지를 업로드한 후\n",
    "\n",
    "그 이미지와 닮은 얼굴을 찾는 형태로 구현해 보는 것도 재미있을 것입니다.\n",
    "\n",
    "여러분들의 재치가 넘치는 작품들을 기대합니다. 😎"
   ]
  }
 ],
 "metadata": {
  "kernelspec": {
   "display_name": "Python 3",
   "language": "python",
   "name": "python3"
  },
  "language_info": {
   "codemirror_mode": {
    "name": "ipython",
    "version": 3
   },
   "file_extension": ".py",
   "mimetype": "text/x-python",
   "name": "python",
   "nbconvert_exporter": "python",
   "pygments_lexer": "ipython3",
   "version": "3.7.9"
  }
 },
 "nbformat": 4,
 "nbformat_minor": 5
}
