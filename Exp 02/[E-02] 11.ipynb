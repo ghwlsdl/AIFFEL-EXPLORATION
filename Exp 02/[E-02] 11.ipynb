{
 "cells": [
  {
   "cell_type": "markdown",
   "source": [
    "# 2-11. 프로젝트 (1) load_digits : 손글씨를 분류해 봅시다"
   ],
   "metadata": {}
  },
  {
   "cell_type": "markdown",
   "source": [
    "### (1) 필요한 모듈 import 하기"
   ],
   "metadata": {}
  },
  {
   "cell_type": "code",
   "execution_count": 19,
   "source": [
    "from sklearn.datasets import load_digits\r\n",
    "from sklearn.model_selection import train_test_split\r\n",
    "from sklearn.metrics import classification_report, accuracy_score"
   ],
   "outputs": [],
   "metadata": {}
  },
  {
   "cell_type": "markdown",
   "source": [
    "### (2) 데이터 준비"
   ],
   "metadata": {}
  },
  {
   "cell_type": "code",
   "execution_count": 20,
   "source": [
    "# digits 에 데이터를 할당\r\n",
    "digits = load_digits()\r\n",
    "digits_data = digits.data\r\n",
    "\r\n",
    "# digits_data.shape 와 digits.keys()를 통해 digits의 데이터를 확인\r\n",
    "print(digits_data.shape)\r\n",
    "print(digits.keys())"
   ],
   "outputs": [
    {
     "output_type": "stream",
     "name": "stdout",
     "text": [
      "(1797, 64)\n",
      "dict_keys(['data', 'target', 'frame', 'feature_names', 'target_names', 'images', 'DESCR'])\n"
     ]
    }
   ],
   "metadata": {}
  },
  {
   "cell_type": "markdown",
   "source": [
    "### (3) 데이터 이해하기"
   ],
   "metadata": {}
  },
  {
   "cell_type": "code",
   "execution_count": 21,
   "source": [
    "# Feature Data 지정하기\r\n",
    "digits.feature_names\r\n",
    "\r\n",
    "# Label Data 지정하기\r\n",
    "digits_label = digits.target\r\n",
    "print(digits_label.shape)\r\n",
    "\r\n",
    "# Target Names 출력해 보기\r\n",
    "print(digits.target_names)\r\n",
    "\r\n",
    "# 데이터 Describe 해 보기\r\n",
    "print(digits.DESCR)"
   ],
   "outputs": [
    {
     "output_type": "stream",
     "name": "stdout",
     "text": [
      "(1797,)\n",
      "[0 1 2 3 4 5 6 7 8 9]\n",
      ".. _digits_dataset:\n",
      "\n",
      "Optical recognition of handwritten digits dataset\n",
      "--------------------------------------------------\n",
      "\n",
      "**Data Set Characteristics:**\n",
      "\n",
      "    :Number of Instances: 5620\n",
      "    :Number of Attributes: 64\n",
      "    :Attribute Information: 8x8 image of integer pixels in the range 0..16.\n",
      "    :Missing Attribute Values: None\n",
      "    :Creator: E. Alpaydin (alpaydin '@' boun.edu.tr)\n",
      "    :Date: July; 1998\n",
      "\n",
      "This is a copy of the test set of the UCI ML hand-written digits datasets\n",
      "https://archive.ics.uci.edu/ml/datasets/Optical+Recognition+of+Handwritten+Digits\n",
      "\n",
      "The data set contains images of hand-written digits: 10 classes where\n",
      "each class refers to a digit.\n",
      "\n",
      "Preprocessing programs made available by NIST were used to extract\n",
      "normalized bitmaps of handwritten digits from a preprinted form. From a\n",
      "total of 43 people, 30 contributed to the training set and different 13\n",
      "to the test set. 32x32 bitmaps are divided into nonoverlapping blocks of\n",
      "4x4 and the number of on pixels are counted in each block. This generates\n",
      "an input matrix of 8x8 where each element is an integer in the range\n",
      "0..16. This reduces dimensionality and gives invariance to small\n",
      "distortions.\n",
      "\n",
      "For info on NIST preprocessing routines, see M. D. Garris, J. L. Blue, G.\n",
      "T. Candela, D. L. Dimmick, J. Geist, P. J. Grother, S. A. Janet, and C.\n",
      "L. Wilson, NIST Form-Based Handprint Recognition System, NISTIR 5469,\n",
      "1994.\n",
      "\n",
      ".. topic:: References\n",
      "\n",
      "  - C. Kaynak (1995) Methods of Combining Multiple Classifiers and Their\n",
      "    Applications to Handwritten Digit Recognition, MSc Thesis, Institute of\n",
      "    Graduate Studies in Science and Engineering, Bogazici University.\n",
      "  - E. Alpaydin, C. Kaynak (1998) Cascading Classifiers, Kybernetika.\n",
      "  - Ken Tang and Ponnuthurai N. Suganthan and Xi Yao and A. Kai Qin.\n",
      "    Linear dimensionalityreduction using relevance weighted LDA. School of\n",
      "    Electrical and Electronic Engineering Nanyang Technological University.\n",
      "    2005.\n",
      "  - Claudio Gentile. A New Approximate Maximal Margin Classification\n",
      "    Algorithm. NIPS. 2000.\n"
     ]
    }
   ],
   "metadata": {}
  },
  {
   "cell_type": "markdown",
   "source": [
    "### (4) train, test 데이터 분리"
   ],
   "metadata": {}
  },
  {
   "cell_type": "code",
   "execution_count": 22,
   "source": [
    "from sklearn.model_selection import train_test_split\r\n",
    "\r\n",
    "X_train, X_test, y_train, y_test = train_test_split(digits_data,\r\n",
    "                                                    digits_label,\r\n",
    "                                                    test_size=0.2,\r\n",
    "                                                    random_state=12)\r\n",
    "\r\n",
    "print('X_train 개수: ', len(X_train), ', X_test 개수: ', len(X_test))"
   ],
   "outputs": [
    {
     "output_type": "stream",
     "name": "stdout",
     "text": [
      "X_train 개수:  1437 , X_test 개수:  360\n"
     ]
    }
   ],
   "metadata": {}
  },
  {
   "cell_type": "markdown",
   "source": [
    "### (5) 다양한 모델로 학습시켜보기"
   ],
   "metadata": {}
  },
  {
   "cell_type": "markdown",
   "source": [
    "###    - 각 모델들의 정확도 비교를 위해 digits_accuracy 딕셔너리를 생성"
   ],
   "metadata": {}
  },
  {
   "cell_type": "code",
   "execution_count": 23,
   "source": [
    "digits_accuracy = {}"
   ],
   "outputs": [],
   "metadata": {}
  },
  {
   "cell_type": "markdown",
   "source": [
    "#### Case 1. Decision Tree 사용해 보기"
   ],
   "metadata": {}
  },
  {
   "cell_type": "code",
   "execution_count": 24,
   "source": [
    "# 모듈 import\r\n",
    "from sklearn.tree import DecisionTreeClassifier\r\n",
    "\r\n",
    "# 데이터 준비\r\n",
    "digits = load_digits()\r\n",
    "digits_data = digits.data\r\n",
    "digits_label = digits.target\r\n",
    "\r\n",
    "# train, test 데이터 분리\r\n",
    "X_train, X_test, y_train, y_test = train_test_split(digits_data, \r\n",
    "                                                    digits_label, \r\n",
    "                                                    test_size=0.2, \r\n",
    "                                                    random_state=12)\r\n",
    "\r\n",
    "# Decision Tree 모델 학습 및 예측\r\n",
    "decision_tree = DecisionTreeClassifier(random_state=32)\r\n",
    "decision_tree.fit(X_train, y_train)\r\n",
    "y_pred = decision_tree.predict(X_test)\r\n",
    "\r\n",
    "# 학습 결과 체크\r\n",
    "digits_accuracy['Decision Tree'] = accuracy_score(y_test, y_pred)\r\n",
    "\r\n",
    "print(classification_report(y_test, y_pred))"
   ],
   "outputs": [
    {
     "output_type": "stream",
     "name": "stdout",
     "text": [
      "              precision    recall  f1-score   support\n",
      "\n",
      "           0       0.97      0.97      0.97        37\n",
      "           1       0.87      0.81      0.84        32\n",
      "           2       0.74      0.89      0.81        38\n",
      "           3       0.90      0.88      0.89        43\n",
      "           4       0.94      0.85      0.89        39\n",
      "           5       0.90      0.76      0.83        34\n",
      "           6       1.00      0.97      0.98        29\n",
      "           7       0.84      0.76      0.80        42\n",
      "           8       0.65      0.69      0.67        32\n",
      "           9       0.68      0.82      0.75        34\n",
      "\n",
      "    accuracy                           0.84       360\n",
      "   macro avg       0.85      0.84      0.84       360\n",
      "weighted avg       0.85      0.84      0.84       360\n",
      "\n"
     ]
    }
   ],
   "metadata": {}
  },
  {
   "cell_type": "markdown",
   "source": [
    "#### Case 2.  Random Forest 사용해 보기"
   ],
   "metadata": {}
  },
  {
   "cell_type": "code",
   "execution_count": 25,
   "source": [
    "# 모듈 import\r\n",
    "from sklearn.ensemble import RandomForestClassifier\r\n",
    "\r\n",
    "# 데이터 준비\r\n",
    "digits = load_digits()\r\n",
    "digits_data = digits.data\r\n",
    "digits_label = digits.target\r\n",
    "\r\n",
    "# train, test 데이터 분리\r\n",
    "X_train, X_test, y_train, y_test = train_test_split(digits_data, \r\n",
    "                                                    digits_label, \r\n",
    "                                                    test_size=0.2, \r\n",
    "                                                    random_state=12)\r\n",
    "\r\n",
    "# Random Forest 모델 학습 및 예측\r\n",
    "random_forest = RandomForestClassifier(random_state=32)\r\n",
    "random_forest.fit(X_train, y_train)\r\n",
    "y_pred = random_forest.predict(X_test)\r\n",
    "\r\n",
    "# 학습 결과 체크\r\n",
    "digits_accuracy['Random Forest'] = accuracy_score(y_test, y_pred)\r\n",
    "\r\n",
    "print(classification_report(y_test, y_pred))"
   ],
   "outputs": [
    {
     "output_type": "stream",
     "name": "stdout",
     "text": [
      "              precision    recall  f1-score   support\n",
      "\n",
      "           0       0.97      1.00      0.99        37\n",
      "           1       0.97      1.00      0.98        32\n",
      "           2       1.00      1.00      1.00        38\n",
      "           3       0.98      1.00      0.99        43\n",
      "           4       1.00      0.92      0.96        39\n",
      "           5       1.00      0.91      0.95        34\n",
      "           6       1.00      0.97      0.98        29\n",
      "           7       0.98      0.98      0.98        42\n",
      "           8       0.94      1.00      0.97        32\n",
      "           9       0.89      0.94      0.91        34\n",
      "\n",
      "    accuracy                           0.97       360\n",
      "   macro avg       0.97      0.97      0.97       360\n",
      "weighted avg       0.97      0.97      0.97       360\n",
      "\n"
     ]
    }
   ],
   "metadata": {}
  },
  {
   "cell_type": "markdown",
   "source": [
    "#### Case 3. SVM 사용해 보기"
   ],
   "metadata": {}
  },
  {
   "cell_type": "code",
   "execution_count": 26,
   "source": [
    "# 모듈 import\r\n",
    "from sklearn import svm\r\n",
    "svm_model = svm.SVC()\r\n",
    "\r\n",
    "# 데이터 준비\r\n",
    "digits = load_digits()\r\n",
    "digits_data = digits.data\r\n",
    "digits_label = digits.target\r\n",
    "\r\n",
    "# SVM 모델 학습 및 예측\r\n",
    "svm_model.fit(X_train, y_train)\r\n",
    "y_pred = svm_model.predict(X_test)\r\n",
    "\r\n",
    "# 학습 결과 체크\r\n",
    "digits_accuracy['SVM'] = accuracy_score(y_test, y_pred)\r\n",
    "\r\n",
    "print(classification_report(y_test, y_pred))"
   ],
   "outputs": [
    {
     "output_type": "stream",
     "name": "stdout",
     "text": [
      "              precision    recall  f1-score   support\n",
      "\n",
      "           0       1.00      1.00      1.00        37\n",
      "           1       1.00      1.00      1.00        32\n",
      "           2       1.00      1.00      1.00        38\n",
      "           3       1.00      1.00      1.00        43\n",
      "           4       1.00      0.97      0.99        39\n",
      "           5       1.00      0.94      0.97        34\n",
      "           6       1.00      1.00      1.00        29\n",
      "           7       1.00      1.00      1.00        42\n",
      "           8       1.00      1.00      1.00        32\n",
      "           9       0.92      1.00      0.96        34\n",
      "\n",
      "    accuracy                           0.99       360\n",
      "   macro avg       0.99      0.99      0.99       360\n",
      "weighted avg       0.99      0.99      0.99       360\n",
      "\n"
     ]
    }
   ],
   "metadata": {}
  },
  {
   "cell_type": "markdown",
   "source": [
    "#### Case 4. SGD Classifier 사용해보기"
   ],
   "metadata": {}
  },
  {
   "cell_type": "code",
   "execution_count": 27,
   "source": [
    "# 모듈 import\r\n",
    "from sklearn.linear_model import SGDClassifier\r\n",
    "sgd_model = SGDClassifier()\r\n",
    "\r\n",
    "# 데이터 준비\r\n",
    "digits = load_digits()\r\n",
    "digits_data = digits.data\r\n",
    "digits_label = digits.target\r\n",
    "\r\n",
    "# SGD Classifier 모델 학습 및 예측\r\n",
    "sgd_model.fit(X_train, y_train)\r\n",
    "y_pred = sgd_model.predict(X_test)\r\n",
    "\r\n",
    "# 학습 결과 체크\r\n",
    "digits_accuracy['SGD Classifier'] = accuracy_score(y_test, y_pred)\r\n",
    "\r\n",
    "print(classification_report(y_test, y_pred))"
   ],
   "outputs": [
    {
     "output_type": "stream",
     "name": "stdout",
     "text": [
      "              precision    recall  f1-score   support\n",
      "\n",
      "           0       0.97      0.97      0.97        37\n",
      "           1       0.93      0.88      0.90        32\n",
      "           2       1.00      1.00      1.00        38\n",
      "           3       0.96      1.00      0.98        43\n",
      "           4       1.00      0.92      0.96        39\n",
      "           5       0.91      0.91      0.91        34\n",
      "           6       0.97      0.97      0.97        29\n",
      "           7       0.98      0.95      0.96        42\n",
      "           8       0.97      0.97      0.97        32\n",
      "           9       0.87      0.97      0.92        34\n",
      "\n",
      "    accuracy                           0.96       360\n",
      "   macro avg       0.96      0.95      0.95       360\n",
      "weighted avg       0.96      0.96      0.96       360\n",
      "\n"
     ]
    }
   ],
   "metadata": {}
  },
  {
   "cell_type": "markdown",
   "source": [
    "#### Case 5. Logistic Regression 사용해 보기"
   ],
   "metadata": {}
  },
  {
   "cell_type": "code",
   "execution_count": 28,
   "source": [
    "# 모듈 import\r\n",
    "from sklearn.linear_model import LogisticRegression\r\n",
    "logistic_model = LogisticRegression()\r\n",
    "\r\n",
    "# 데이터 준비\r\n",
    "digits = load_digits()\r\n",
    "digits_data = digits.data\r\n",
    "digits_label = digits.target\r\n",
    "\r\n",
    "# Logistic Regression 모델 학습 및 예측\r\n",
    "logistic_model.fit(X_train, y_train)\r\n",
    "y_pred = logistic_model.predict(X_test)\r\n",
    "\r\n",
    "# 학습 결과 체크\r\n",
    "digits_accuracy['Logistic Regression'] = accuracy_score(y_test, y_pred)\r\n",
    "\r\n",
    "print(classification_report(y_test, y_pred))"
   ],
   "outputs": [
    {
     "output_type": "stream",
     "name": "stdout",
     "text": [
      "              precision    recall  f1-score   support\n",
      "\n",
      "           0       1.00      0.97      0.99        37\n",
      "           1       0.94      1.00      0.97        32\n",
      "           2       0.97      0.97      0.97        38\n",
      "           3       1.00      1.00      1.00        43\n",
      "           4       1.00      0.95      0.97        39\n",
      "           5       0.94      0.91      0.93        34\n",
      "           6       1.00      0.97      0.98        29\n",
      "           7       0.98      0.98      0.98        42\n",
      "           8       1.00      0.94      0.97        32\n",
      "           9       0.87      1.00      0.93        34\n",
      "\n",
      "    accuracy                           0.97       360\n",
      "   macro avg       0.97      0.97      0.97       360\n",
      "weighted avg       0.97      0.97      0.97       360\n",
      "\n"
     ]
    },
    {
     "output_type": "stream",
     "name": "stderr",
     "text": [
      "/opt/conda/lib/python3.7/site-packages/sklearn/linear_model/_logistic.py:762: ConvergenceWarning: lbfgs failed to converge (status=1):\n",
      "STOP: TOTAL NO. of ITERATIONS REACHED LIMIT.\n",
      "\n",
      "Increase the number of iterations (max_iter) or scale the data as shown in:\n",
      "    https://scikit-learn.org/stable/modules/preprocessing.html\n",
      "Please also refer to the documentation for alternative solver options:\n",
      "    https://scikit-learn.org/stable/modules/linear_model.html#logistic-regression\n",
      "  extra_warning_msg=_LOGISTIC_SOLVER_CONVERGENCE_MSG)\n"
     ]
    }
   ],
   "metadata": {}
  },
  {
   "cell_type": "markdown",
   "source": [
    "### (6) 모델을 평가해 보기"
   ],
   "metadata": {}
  },
  {
   "cell_type": "code",
   "execution_count": 29,
   "source": [
    "for keys, values in digits_accuracy.items():\r\n",
    "    print(keys,\":\", values)"
   ],
   "outputs": [
    {
     "output_type": "stream",
     "name": "stdout",
     "text": [
      "Decision Tree : 0.8416666666666667\n",
      "Random Forest : 0.9722222222222222\n",
      "SVM : 0.9916666666666667\n",
      "SGD Classifier : 0.9555555555555556\n",
      "Logistic Regression : 0.9694444444444444\n"
     ]
    }
   ],
   "metadata": {}
  },
  {
   "cell_type": "markdown",
   "source": [
    "위에서 총 5가지의 다양한 모델을 사용해서 학습 시키고 그 결과를 체크 해 본 것을 accuracy 기준으로 평가 해 본 결과,\r\n",
    "\r\n",
    "SVM 모델로 하였을 때, accuracy가 0.99로 모델의 성능이 좋다는 것을 확인할 수 있었습니다."
   ],
   "metadata": {}
  },
  {
   "cell_type": "markdown",
   "source": [
    "물론 모델의 성능을 평가함에 있어서 accuracy, 양성 / 음성 데이터에 대한 오답 여부와\n",
    "\n",
    "문제에 따라 고려해야하는 사항 및 경우에 따른 오차 행렬 성능 지표를 확인 해야합니다.\n",
    "\n",
    "하지만, 해당 문제는 Recall, Precision 등의 오차 행렬 성능 지표에 큰 영향을 받지 않으므로\n",
    "\n",
    "정확도로 성능을 평가해도 좋을 것이라 판단합니다."
   ],
   "metadata": {}
  },
  {
   "cell_type": "markdown",
   "source": [
    "그렇기 때문에, Digits 데이터를 활용한 모델을 선정할 때에는\n",
    "\n",
    "99%의 높은 accuracy를 나타낸 SVM 모델을 사용하는 것이\n",
    "\n",
    "해당 케이스에는 가장 적합할 것으로 보입니다."
   ],
   "metadata": {}
  }
 ],
 "metadata": {
  "kernelspec": {
   "display_name": "Python 3",
   "language": "python",
   "name": "python3"
  },
  "language_info": {
   "codemirror_mode": {
    "name": "ipython",
    "version": 3
   },
   "file_extension": ".py",
   "mimetype": "text/x-python",
   "name": "python",
   "nbconvert_exporter": "python",
   "pygments_lexer": "ipython3",
   "version": "3.7.9"
  }
 },
 "nbformat": 4,
 "nbformat_minor": 5
}