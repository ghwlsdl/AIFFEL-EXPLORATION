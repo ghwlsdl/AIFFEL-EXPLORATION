{
 "cells": [
  {
   "cell_type": "markdown",
   "id": "graphic-massachusetts",
   "metadata": {},
   "source": [
    "# 4-7. 프로젝트: 멋진 작사가 만들기"
   ]
  },
  {
   "cell_type": "markdown",
   "id": "european-tokyo",
   "metadata": {},
   "source": [
    "## Step 1. 데이터 다운로드\n",
    "\n",
    "이미 실습(1) 데이터 다듬기에서 Cloud shell에\n",
    "\n",
    "심볼릭 링크로 ~/aiffel/lyricist/data를 생성하셨다면,\n",
    "\n",
    "~/aiffel/lyricist/data/lyrics에 데이터가 있습니다."
   ]
  },
  {
   "cell_type": "markdown",
   "id": "danish-window",
   "metadata": {},
   "source": [
    "## Step 2. 데이터 읽어오기\n",
    "\n",
    "glob 모듈을 사용하면 파일을 읽어오는 작업을 하기가 아주 용이해요.\n",
    "\n",
    "glob 를 활용하여 모든 txt 파일을 읽어온 후, raw_corpus 리스트에 문장 단위로 저장하도록 할게요!"
   ]
  },
  {
   "cell_type": "code",
   "execution_count": 23,
   "id": "universal-polyester",
   "metadata": {},
   "outputs": [],
   "source": [
    "# 필요한 모듈 import 하기 \n",
    "\n",
    "import re    \n",
    "import glob\n",
    "import numpy as np         \n",
    "import tensorflow as tf    \n",
    "import os"
   ]
  },
  {
   "cell_type": "code",
   "execution_count": 25,
   "id": "prescription-probability",
   "metadata": {},
   "outputs": [
    {
     "name": "stdout",
     "output_type": "stream",
     "text": [
      "데이터 크기: 187088\n",
      "Examples:\n",
      " ['[Hook]', \"I've been down so long, it look like up to me\", 'They look up to me', \"I got fake people showin' fake love to me\", 'Straight up to my face, straight up to my face', \"I've been down so long, it look like up to me\", 'They look up to me', \"I got fake people showin' fake love to me\", 'Straight up to my face, straight up to my face [Verse 1]']\n"
     ]
    }
   ],
   "source": [
    "txt_file_path = os.getenv('HOME')+'/aiffel/lyricist/data/lyrics/*'\n",
    "\n",
    "txt_list = glob.glob(txt_file_path)\n",
    "\n",
    "raw_corpus = []\n",
    "\n",
    "# 여러개의 txt 파일을 모두 읽어서 raw_corpus 에 담습니다.\n",
    "for txt_file in txt_list:\n",
    "    with open(txt_file, \"r\") as f:\n",
    "        raw = f.read().splitlines()\n",
    "        raw_corpus.extend(raw)\n",
    "\n",
    "print(\"데이터 크기:\", len(raw_corpus))\n",
    "print(\"Examples:\\n\", raw_corpus[:9])"
   ]
  },
  {
   "cell_type": "code",
   "execution_count": 26,
   "id": "excellent-princeton",
   "metadata": {},
   "outputs": [
    {
     "name": "stdout",
     "output_type": "stream",
     "text": [
      "[Hook]\n",
      "I've been down so long, it look like up to me\n",
      "They look up to me\n",
      "I got fake people showin' fake love to me\n",
      "Straight up to my face, straight up to my face\n",
      "I've been down so long, it look like up to me\n",
      "They look up to me\n",
      "I got fake people showin' fake love to me\n",
      "Straight up to my face, straight up to my face [Verse 1]\n",
      "Somethin' ain't right when we talkin'\n"
     ]
    }
   ],
   "source": [
    "# 공백인 문장은 길이를 검사하여 길이가 0이라면 제외를 시켜 봅니다.\n",
    "\n",
    "for idx, sentence in enumerate(raw_corpus): # enumerate 열거하다 라는 뜻으로, 리스트가 있는 경우 순서와 리스트의 값을 전달하는 기능\n",
    "    if len(sentence) == 0: continue   # 길이가 0인 문장은 건너뜁니다.\n",
    "    if sentence[-1] == \":\": continue  # 문장의 끝이 : 인 문장은 건너뜁니다.\n",
    "\n",
    "    if idx > 9: break   # 일단 문장 10개만 확인해 볼 겁니다.\n",
    "        \n",
    "    print(sentence)"
   ]
  },
  {
   "cell_type": "markdown",
   "id": "third-religion",
   "metadata": {},
   "source": [
    "## Step 3. 데이터 정제\n",
    "\n",
    "앞서 배운 테크닉들을 활용해 문장 생성에 적합한 모양새로 데이터를 정제하세요!\n",
    "\n",
    "preprocess_sentence() 함수를 만든 것을 기억하시죠?\n",
    "\n",
    "이를 활용해 데이터를 정제하도록 하겠습니다.\n",
    "\n",
    "추가로 지나치게 긴 문장은 다른 데이터들이 과도한 Padding을 갖게 하므로 제거합니다.\n",
    "\n",
    "너무 긴 문장은 노래 가사 작사하기에 어울리지 않을 수도 있겠죠.\n",
    "\n",
    "그래서 이번에는 문장을 토큰화 했을 때 토큰의 개수가 15개를 넘어가는 문장을\n",
    "\n",
    "학습 데이터에서 제외하기 를 권합니다."
   ]
  },
  {
   "cell_type": "markdown",
   "id": "verified-friendly",
   "metadata": {},
   "source": [
    "### 문장 전처리\n",
    "\n",
    "#### 1. 입력된 문장을 정규 표현식을 이용해서 정제합니다."
   ]
  },
  {
   "cell_type": "code",
   "execution_count": 27,
   "id": "shared-chart",
   "metadata": {},
   "outputs": [
    {
     "name": "stdout",
     "output_type": "stream",
     "text": [
      "<start> this is sample sentence . <end>\n"
     ]
    }
   ],
   "source": [
    "# 입력된 문장을\n",
    "#     1. 소문자로 바꾸고, 양쪽 공백을 지웁니다\n",
    "#     2. 특수문자 양쪽에 공백을 넣고\n",
    "#     3. 여러개의 공백은 하나의 공백으로 바꿉니다\n",
    "#     4. a-zA-Z?.!,¿가 아닌 모든 문자를 하나의 공백으로 바꿉니다\n",
    "#     5. 다시 양쪽 공백을 지웁니다\n",
    "#     6. 문장 시작에는 <start>, 끝에는 <end>를 추가합니다\n",
    "# 이 순서로 처리해주면 문제가 되는 상황을 방지할 수 있겠네요!\n",
    "def preprocess_sentence(sentence):\n",
    "    sentence = sentence.lower().strip() # 1\n",
    "    sentence = re.sub(r\"([?.!,¿])\", r\" \\1 \", sentence) # 2\n",
    "    sentence = re.sub(r'[\" \"]+', \" \", sentence) # 3\n",
    "    sentence = re.sub(r\"[^a-zA-Z?.!,¿]+\", \" \", sentence) # 4\n",
    "    sentence = sentence.strip() # 5\n",
    "    sentence = '<start> ' + sentence + ' <end>' # 6\n",
    "    return sentence\n",
    "\n",
    "# 이 문장이 어떻게 필터링되는지 확인해 보세요.\n",
    "print(preprocess_sentence(\"This @_is ;;;sample        sentence.\"))"
   ]
  },
  {
   "cell_type": "markdown",
   "id": "minute-spain",
   "metadata": {},
   "source": [
    "#### 2. preprocess_sentence로 정제한 문장을 모음"
   ]
  },
  {
   "cell_type": "code",
   "execution_count": 28,
   "id": "maritime-subscriber",
   "metadata": {},
   "outputs": [
    {
     "data": {
      "text/plain": [
       "['<start> hook <end>',\n",
       " '<start> i ve been down so long , it look like up to me <end>',\n",
       " '<start> they look up to me <end>',\n",
       " '<start> i got fake people showin fake love to me <end>',\n",
       " '<start> straight up to my face , straight up to my face <end>',\n",
       " '<start> i ve been down so long , it look like up to me <end>',\n",
       " '<start> they look up to me <end>',\n",
       " '<start> i got fake people showin fake love to me <end>',\n",
       " '<start> straight up to my face , straight up to my face verse <end>',\n",
       " '<start> somethin ain t right when we talkin <end>']"
      ]
     },
     "execution_count": 28,
     "metadata": {},
     "output_type": "execute_result"
    }
   ],
   "source": [
    "# 여기에 정제된 문장을 모을겁니다\n",
    "corpus = []\n",
    "\n",
    "for sentence in raw_corpus:\n",
    "    # 우리가 원하지 않는 문장은 건너뜁니다\n",
    "    if len(sentence) == 0: continue\n",
    "    if sentence[-1] == \":\": continue\n",
    "    \n",
    "    # 정제를 하고 담아주세요\n",
    "    preprocessed_sentence = preprocess_sentence(sentence)\n",
    "    corpus.append(preprocessed_sentence)\n",
    "        \n",
    "# 정제된 결과를 10개만 확인해보죠\n",
    "corpus[:10]"
   ]
  },
  {
   "cell_type": "markdown",
   "id": "phantom-official",
   "metadata": {},
   "source": [
    "## Step 4. 평가 데이터셋 분리\n",
    "\n",
    "훈련 데이터와 평가 데이터를 분리하세요!\n",
    "\n",
    "tokenize() 함수로 데이터를 Tensor로 변환한 후,\n",
    "\n",
    "sklearn 모듈의 train_test_split() 함수를 사용해 훈련 데이터와 평가 데이터를 분리하도록 하겠습니다.\n",
    "\n",
    "단어장의 크기는 12,000 이상 으로 설정하세요!\n",
    "\n",
    "총 데이터의 20% 를 평가 데이터셋으로 사용해 주세요!"
   ]
  },
  {
   "cell_type": "markdown",
   "id": "organized-parliament",
   "metadata": {},
   "source": [
    "#### 3. tokenize() 함수로 데이터를 Tensor로 변환 (Tokenizer와 pad_sequences를 사용)"
   ]
  },
  {
   "cell_type": "markdown",
   "id": "animal-reader",
   "metadata": {},
   "source": [
    "단어별로 토근화 할 필요가 있습니다.\n",
    "\n",
    "컴퓨터는 문장을 문장으로보지않고 숫자로 봐야하기 때문에 토큰화 라는것을 해야하는데\n",
    "\n",
    "토큰화란, 단어 하나에 숫자를 매칭시켜주는 개념입니다.\n",
    "\n",
    " ex) I = 0 , love = 1, you = 2"
   ]
  },
  {
   "cell_type": "code",
   "execution_count": 29,
   "id": "fancy-fundamental",
   "metadata": {},
   "outputs": [],
   "source": [
    "# tf 의 tokenize() 함수를 사용해서 12000개 단어 개수를 숫자로 바꿔줍니다.\n",
    "\n",
    "def tokenize(corpus):\n",
    "    tokenizer = tf.keras.preprocessing.text.Tokenizer(\n",
    "        # 전체 단어의 수\n",
    "        num_words=12000, \n",
    "        # 이 함수에서 제공하는 문장 전처리 (but, 이미 앞에서 진행했으므로 사용 X)\n",
    "        filters=' ',\n",
    "        # 12000 단어에 속하지 않으면, unk 로 바꿔줍니다.\n",
    "        oov_token=\"<unk>\"\n",
    "    )\n",
    "    # corpus로 tokenizer 내부의 단어장을 완성합니다. (= 데이터 구축)\n",
    "    tokenizer.fit_on_texts(corpus)\n",
    "    # 준비한 tokenizer를 이용해 corpus를 Tensor로 변환합니다.\n",
    "    tensor = tokenizer.texts_to_sequences(corpus)\n",
    "    \n",
    "    # 문장의 길이를 맞추고 숫자로 반환하기 위해 작업을 합니다.\n",
    "    # 문장의 길이는 가장 긴 문장을 기준으로 pandding합니다.\n",
    "    # 여기서 maxien을 설정해 주었는데 이상치에 대응하기 할 수 있다고 합니다.\n",
    "    total_data_text = list(tensor)\n",
    "    num_tokens = [len(tokens) for tokens in total_data_text]\n",
    "    max_tokens = np.mean(num_tokens) + 2 * np.std(num_tokens)\n",
    "    maxlen = int(max_tokens)\n",
    "    \n",
    "    # 입력 데이터의 시퀀스 길이를 일정하게 맞춰줍니다.\n",
    "    # 만약 시퀀스가 짧다면 문장 뒤에 패딩을 붙여 길이를 맞춰줍니다.\n",
    "    # 문장 앞에 패딩을 붙여 길이를 맞추고 싶다면 padding='pre'를 사용합니다\n",
    "    tensor = tf.keras.preprocessing.sequence.pad_sequences(tensor, padding='post', maxlen = 15) # maxlen 은 여기에서 어떤 것을 의미할까?  \n",
    "    \n",
    "    print(tensor,tokenizer)\n",
    "    return tensor, tokenizer"
   ]
  },
  {
   "cell_type": "code",
   "execution_count": 30,
   "id": "adjacent-territory",
   "metadata": {},
   "outputs": [
    {
     "name": "stdout",
     "output_type": "stream",
     "text": [
      "[[   2  953    3 ...    0    0    0]\n",
      " [   2    5   91 ...   10   12    3]\n",
      " [   2   45  134 ...    0    0    0]\n",
      " ...\n",
      " [   2  211    3 ...    0    0    0]\n",
      " [   2  399    9 ...    0    0    0]\n",
      " [   2    9 1294 ...    0    0    0]] <keras_preprocessing.text.Tokenizer object at 0x7fc163362d90>\n"
     ]
    },
    {
     "data": {
      "text/plain": [
       "(175749, 15)"
      ]
     },
     "execution_count": 30,
     "metadata": {},
     "output_type": "execute_result"
    }
   ],
   "source": [
    "tensor, tokenizer = tokenize(corpus)\n",
    "\n",
    "tensor.shape"
   ]
  },
  {
   "cell_type": "code",
   "execution_count": 31,
   "id": "threaded-friendly",
   "metadata": {
    "scrolled": true
   },
   "outputs": [
    {
     "name": "stdout",
     "output_type": "stream",
     "text": [
      "[[  2 953   3   0   0   0   0   0   0   0]\n",
      " [  2   5  91 106  60  30 161   4  11 134]\n",
      " [  2  45 134  29  10  12   3   0   0   0]]\n"
     ]
    }
   ],
   "source": [
    "# 생성된 텐서 데이터를 3번째 행, 10번째 열까지만 출력\n",
    "\n",
    "print(tensor[:3, :10])"
   ]
  },
  {
   "cell_type": "code",
   "execution_count": 32,
   "id": "developmental-lawyer",
   "metadata": {},
   "outputs": [
    {
     "name": "stdout",
     "output_type": "stream",
     "text": [
      "1 : <unk>\n",
      "2 : <start>\n",
      "3 : <end>\n",
      "4 : ,\n",
      "5 : i\n",
      "6 : the\n",
      "7 : you\n",
      "8 : and\n",
      "9 : a\n",
      "10 : to\n",
      "12000\n"
     ]
    }
   ],
   "source": [
    "# tokenizer에 구축된 단어 사전의 인덱스\n",
    "\n",
    "for idx in tokenizer.index_word:\n",
    "    print(idx, \":\", tokenizer.index_word[idx])\n",
    "\n",
    "    if idx >= 10: break\n",
    "        \n",
    "print(tokenizer.num_words)"
   ]
  },
  {
   "cell_type": "markdown",
   "id": "unauthorized-abortion",
   "metadata": {},
   "source": [
    "#### 4. sklearn 모듈의 train_test_split() 함수를 사용해 훈련 데이터와 평가 데이터를 분리"
   ]
  },
  {
   "cell_type": "code",
   "execution_count": 33,
   "id": "aggregate-barrel",
   "metadata": {},
   "outputs": [
    {
     "name": "stdout",
     "output_type": "stream",
     "text": [
      "[  2 953   3   0   0   0   0   0   0   0   0   0   0   0]\n",
      "[953   3   0   0   0   0   0   0   0   0   0   0   0   0]\n"
     ]
    }
   ],
   "source": [
    "from sklearn.model_selection import train_test_split\n",
    "\n",
    "# tensor에서 마지막 토큰을 잘라내서 소스 문장을 생성합니다\n",
    "# 마지막 토큰은 <end>가 아니라 <pad>일 가능성이 높습니다.\n",
    "src_input = tensor[:, :-1]\n",
    "\n",
    "# tensor에서 <start>를 잘라내서 타겟 문장을 생성합니다.\n",
    "tgt_input = tensor[:, 1:]\n",
    "\n",
    "print(src_input[0])\n",
    "print(tgt_input[0])"
   ]
  },
  {
   "cell_type": "code",
   "execution_count": 39,
   "id": "rolled-handle",
   "metadata": {},
   "outputs": [],
   "source": [
    "# 사이킷 런 패키지를 이용해서 위에서 train과 target을 train과 validation 셋으로 분리를 해줍니다. 8:2로 분리를 하겠습니다.\n",
    "\n",
    "enc_train, enc_val, dec_train, dec_val = train_test_split(src_input, tgt_input, test_size = 0.2, random_state = 42)"
   ]
  },
  {
   "cell_type": "code",
   "execution_count": 40,
   "id": "exciting-poultry",
   "metadata": {},
   "outputs": [
    {
     "name": "stdout",
     "output_type": "stream",
     "text": [
      "Source Train: (140599, 14)\n",
      "Target Train: (140599, 14)\n"
     ]
    }
   ],
   "source": [
    "# train의 맨 뒷 단어를 뺀 문장을 분석해서 앞 단어가 없는 target을 찾는것이 목적이기 때문에 shape는 동일한 모습을 하고있습니다.\n",
    "\n",
    "print(\"Source Train:\", enc_train.shape)\n",
    "print(\"Target Train:\", dec_train.shape)"
   ]
  },
  {
   "cell_type": "code",
   "execution_count": null,
   "id": "mobile-holiday",
   "metadata": {},
   "outputs": [],
   "source": [
    "# 아래 코드를 진행하는 이유를 모르겠음...ㅠ"
   ]
  },
  {
   "cell_type": "code",
   "execution_count": 43,
   "id": "ahead-advertising",
   "metadata": {},
   "outputs": [
    {
     "data": {
      "text/plain": [
       "<BatchDataset shapes: ((256, 14), (256, 14)), types: (tf.int32, tf.int32)>"
      ]
     },
     "execution_count": 43,
     "metadata": {},
     "output_type": "execute_result"
    }
   ],
   "source": [
    "BUFFER_SIZE = len(src_input) # 텐서의 1차원, 전체 문장의 개수\n",
    "BATCH_SIZE = 256 # 문장의 개수\n",
    "steps_per_epoch = len(src_input) // BATCH_SIZE\n",
    "\n",
    " # tokenizer가 구축한 단어사전 내 12000개와, 여기 포함되지 않은 0:<pad>를 포함하여 7001개\n",
    "VOCAB_SIZE = tokenizer.num_words + 1   \n",
    "\n",
    "# 준비한 데이터 소스로부터 데이터셋을 만듭니다\n",
    "# 데이터셋에 대해서는 아래 문서를 참고하세요\n",
    "# 자세히 알아둘수록 도움이 많이 되는 중요한 문서입니다\n",
    "# https://www.tensorflow.org/api_docs/python/tf/data/Dataset\n",
    "dataset = tf.data.Dataset.from_tensor_slices((src_input, tgt_input))\n",
    "dataset = dataset.shuffle(BUFFER_SIZE)\n",
    "dataset = dataset.batch(BATCH_SIZE, drop_remainder=True)\n",
    "dataset"
   ]
  },
  {
   "cell_type": "markdown",
   "id": "bearing-bronze",
   "metadata": {},
   "source": [
    "## Step 5. 인공지능 만들기\n",
    "\n",
    "모델의 Embedding Size와 Hidden Size를 조절하며 10 Epoch 안에\n",
    "\n",
    "val_loss 값을 2.2 수준으로 줄일 수 있는 모델을 설계하세요!\n",
    "\n",
    "(Loss는 아래 제시된 Loss 함수를 그대로 사용!)\n",
    "\n",
    "그리고 멋진 모델이 생성한 가사 한 줄을 제출하시길 바랍니다!"
   ]
  },
  {
   "cell_type": "markdown",
   "id": "automated-armor",
   "metadata": {},
   "source": [
    "### 1. 모델 구조 정의"
   ]
  },
  {
   "cell_type": "code",
   "execution_count": 44,
   "id": "higher-module",
   "metadata": {},
   "outputs": [],
   "source": [
    "class TextGenerator(tf.keras.Model):\n",
    "    def __init__(self, vocab_size, embedding_size, hidden_size): \n",
    "        super().__init__()\n",
    "        \n",
    "        self.embedding = tf.keras.layers.Embedding(vocab_size, embedding_size)\n",
    "        self.rnn_1 = tf.keras.layers.LSTM(hidden_size, return_sequences=True)\n",
    "        self.rnn_2 = tf.keras.layers.LSTM(hidden_size, return_sequences=True)\n",
    "        self.linear = tf.keras.layers.Dense(vocab_size)\n",
    "        \n",
    "    def call(self, x):\n",
    "        out = self.embedding(x)\n",
    "        out = self.rnn_1(out)\n",
    "        out = self.rnn_2(out)\n",
    "        out = self.linear(out)\n",
    "        \n",
    "        return out"
   ]
  },
  {
   "cell_type": "markdown",
   "id": "original-receipt",
   "metadata": {},
   "source": [
    "- 하이퍼 파라미터 지정과 모델 생성\n",
    "    - embedding_size를 256으로 올려 고려하는 feature의 수를 늘림\n",
    "    - hidden_size를 2048로 올려 각 레이어의 노드 수를 늘림"
   ]
  },
  {
   "cell_type": "markdown",
   "id": "ancient-testimony",
   "metadata": {},
   "source": [
    "### 2. 모델 생성"
   ]
  },
  {
   "cell_type": "code",
   "execution_count": 46,
   "id": "relative-works",
   "metadata": {},
   "outputs": [],
   "source": [
    "embedding_size = 256 # 단어 하나의 특징 수\n",
    "hidden_size = 2048 # 퍼셉트론의 갯수\n",
    "model = TextGenerator(tokenizer.num_words + 1, embedding_size , hidden_size)"
   ]
  },
  {
   "cell_type": "markdown",
   "id": "arranged-coral",
   "metadata": {},
   "source": [
    "- 생성된 모델 살펴보기: model_summary\n",
    "    - 하나의 배치만 이용하면 임시 모델을 생성해볼 수 있다"
   ]
  },
  {
   "cell_type": "code",
   "execution_count": 47,
   "id": "superior-showcase",
   "metadata": {},
   "outputs": [],
   "source": [
    "for src_sample, tgt_sample in dataset.take(1): break"
   ]
  },
  {
   "cell_type": "code",
   "execution_count": 48,
   "id": "indonesian-brisbane",
   "metadata": {},
   "outputs": [
    {
     "data": {
      "text/plain": [
       "<tf.Tensor: shape=(256, 14, 12001), dtype=float32, numpy=\n",
       "array([[[-1.1900426e-04,  4.1354677e-05,  6.8362817e-05, ...,\n",
       "         -4.7425750e-05, -1.9203319e-04,  1.5761470e-04],\n",
       "        [-1.8513683e-04, -3.0734524e-04,  9.5235691e-07, ...,\n",
       "         -1.0465698e-04, -7.5803131e-05, -4.8671277e-06],\n",
       "        [-4.0016428e-04, -4.4669647e-04, -2.3051373e-04, ...,\n",
       "         -2.0140865e-04,  4.5769685e-04,  1.0092894e-05],\n",
       "        ...,\n",
       "        [ 1.8067231e-03, -7.2623603e-04,  1.0453196e-03, ...,\n",
       "          1.6668050e-03,  7.1167841e-04,  9.0292125e-04],\n",
       "        [ 2.2726848e-03, -9.7713806e-04,  1.4572965e-03, ...,\n",
       "          2.0703541e-03,  6.4369617e-04,  1.0825038e-03],\n",
       "        [ 2.6888498e-03, -1.2192833e-03,  1.8530354e-03, ...,\n",
       "          2.3999866e-03,  5.7702389e-04,  1.2508555e-03]],\n",
       "\n",
       "       [[-1.1900426e-04,  4.1354677e-05,  6.8362817e-05, ...,\n",
       "         -4.7425750e-05, -1.9203319e-04,  1.5761470e-04],\n",
       "        [-5.2945327e-04,  5.2637730e-05,  1.8553706e-04, ...,\n",
       "          4.6176017e-05, -2.6229396e-04,  6.3622407e-05],\n",
       "        [-7.4301957e-04,  8.4599851e-05,  4.1110205e-04, ...,\n",
       "          1.9540775e-04, -5.1933189e-04,  4.8286965e-05],\n",
       "        ...,\n",
       "        [ 2.0512971e-04,  1.0784958e-03,  1.9339933e-03, ...,\n",
       "          1.1545719e-05, -9.0806308e-04,  3.6609406e-04],\n",
       "        [ 7.5001019e-04,  8.7494083e-04,  2.1110552e-03, ...,\n",
       "          3.8453174e-04, -9.0824871e-04,  6.1892107e-04],\n",
       "        [ 1.2911058e-03,  5.8362860e-04,  2.3120421e-03, ...,\n",
       "          7.9310266e-04, -8.7452377e-04,  8.6473679e-04]],\n",
       "\n",
       "       [[-1.1900426e-04,  4.1354677e-05,  6.8362817e-05, ...,\n",
       "         -4.7425750e-05, -1.9203319e-04,  1.5761470e-04],\n",
       "        [-9.9434714e-05, -3.0445257e-05,  2.7950259e-04, ...,\n",
       "         -3.6221897e-04, -4.8989936e-04,  3.3730772e-04],\n",
       "        [-5.6367833e-05, -2.5193880e-05,  4.3740703e-04, ...,\n",
       "         -6.3527963e-04, -5.4116471e-04,  2.6031811e-04],\n",
       "        ...,\n",
       "        [ 1.7347380e-03, -5.2637968e-04,  7.1955193e-04, ...,\n",
       "          6.5901736e-04, -9.0369931e-04,  8.9648255e-04],\n",
       "        [ 2.1607131e-03, -7.8005518e-04,  9.7856938e-04, ...,\n",
       "          1.1059617e-03, -8.0937950e-04,  1.0850062e-03],\n",
       "        [ 2.5522015e-03, -1.0430765e-03,  1.2780075e-03, ...,\n",
       "          1.5097426e-03, -6.9074827e-04,  1.2533325e-03]],\n",
       "\n",
       "       ...,\n",
       "\n",
       "       [[-1.1900426e-04,  4.1354677e-05,  6.8362817e-05, ...,\n",
       "         -4.7425750e-05, -1.9203319e-04,  1.5761470e-04],\n",
       "        [-1.5323469e-04,  1.8889704e-04,  4.1640669e-04, ...,\n",
       "         -1.2520939e-04, -5.9978903e-04,  1.7399622e-04],\n",
       "        [-1.8653439e-04,  3.0482042e-04,  7.7955937e-04, ...,\n",
       "         -4.4596737e-04, -5.8373460e-04,  1.6199810e-04],\n",
       "        ...,\n",
       "        [ 2.9979507e-04,  1.3803056e-04,  5.1081716e-04, ...,\n",
       "         -4.8426905e-04,  8.5994956e-04,  4.7360637e-04],\n",
       "        [ 7.7088590e-04,  1.9913581e-05,  6.5749889e-04, ...,\n",
       "         -6.5318578e-05,  6.9681881e-04,  5.8652542e-04],\n",
       "        [ 1.2500136e-03, -1.9687947e-04,  9.0762507e-04, ...,\n",
       "          4.3742076e-04,  5.6458468e-04,  7.2424707e-04]],\n",
       "\n",
       "       [[-1.1900426e-04,  4.1354677e-05,  6.8362817e-05, ...,\n",
       "         -4.7425750e-05, -1.9203319e-04,  1.5761470e-04],\n",
       "        [-1.5960510e-05,  1.5262642e-04,  3.1366246e-04, ...,\n",
       "          1.7504196e-06, -2.3529920e-04,  3.7134785e-04],\n",
       "        [-1.2983425e-04,  3.0112240e-04,  4.7070661e-04, ...,\n",
       "          3.3118081e-04, -3.3214790e-04,  2.8882799e-04],\n",
       "        ...,\n",
       "        [-7.2130846e-04, -1.3185428e-03,  1.2849914e-03, ...,\n",
       "          9.8250035e-05, -8.1135955e-04,  8.8583253e-04],\n",
       "        [-7.4257003e-04, -9.2636916e-04,  1.1895113e-03, ...,\n",
       "         -2.2197118e-04, -8.8643475e-04,  7.3884788e-04],\n",
       "        [-3.9848825e-04, -7.3320052e-04,  1.2261344e-03, ...,\n",
       "         -1.2221913e-04, -9.4673771e-04,  7.7928841e-04]],\n",
       "\n",
       "       [[-1.1900426e-04,  4.1354677e-05,  6.8362817e-05, ...,\n",
       "         -4.7425750e-05, -1.9203319e-04,  1.5761470e-04],\n",
       "        [-4.6262209e-04, -2.3619282e-04,  7.4032083e-05, ...,\n",
       "         -1.7368462e-04, -3.6869603e-04,  3.1484087e-04],\n",
       "        [-5.8077346e-04, -5.7723274e-04,  5.9964559e-06, ...,\n",
       "         -1.2135963e-04, -2.6865504e-04,  3.3733490e-04],\n",
       "        ...,\n",
       "        [ 1.6023769e-04, -9.7882200e-04,  6.9137872e-04, ...,\n",
       "         -4.2891840e-04, -6.1345723e-04,  7.3014718e-04],\n",
       "        [ 5.3847319e-04, -1.0564120e-03,  8.0465112e-04, ...,\n",
       "         -6.4785105e-05, -6.9887785e-04,  9.3672436e-04],\n",
       "        [ 9.7482291e-04, -1.1989493e-03,  1.0099198e-03, ...,\n",
       "          3.9885213e-04, -7.3738466e-04,  1.1399819e-03]]], dtype=float32)>"
      ]
     },
     "execution_count": 48,
     "metadata": {},
     "output_type": "execute_result"
    }
   ],
   "source": [
    "model(src_sample)"
   ]
  },
  {
   "cell_type": "code",
   "execution_count": 49,
   "id": "significant-moisture",
   "metadata": {},
   "outputs": [
    {
     "name": "stdout",
     "output_type": "stream",
     "text": [
      "Model: \"text_generator\"\n",
      "_________________________________________________________________\n",
      "Layer (type)                 Output Shape              Param #   \n",
      "=================================================================\n",
      "embedding (Embedding)        multiple                  3072256   \n",
      "_________________________________________________________________\n",
      "lstm (LSTM)                  multiple                  18882560  \n",
      "_________________________________________________________________\n",
      "lstm_1 (LSTM)                multiple                  33562624  \n",
      "_________________________________________________________________\n",
      "dense (Dense)                multiple                  24590049  \n",
      "=================================================================\n",
      "Total params: 80,107,489\n",
      "Trainable params: 80,107,489\n",
      "Non-trainable params: 0\n",
      "_________________________________________________________________\n"
     ]
    }
   ],
   "source": [
    "model.summary()"
   ]
  },
  {
   "cell_type": "markdown",
   "id": "signal-elimination",
   "metadata": {},
   "source": [
    "- optimizer와 loss function 지정\n",
    "    - optimizer: SGD를 사용해보았으나 Adam이 더 성능이 좋음"
   ]
  },
  {
   "cell_type": "code",
   "execution_count": 59,
   "id": "liked-proposal",
   "metadata": {},
   "outputs": [],
   "source": [
    "history = []\n",
    "epochs = 10"
   ]
  },
  {
   "cell_type": "code",
   "execution_count": 50,
   "id": "maritime-recording",
   "metadata": {},
   "outputs": [],
   "source": [
    "optimizer = tf.keras.optimizers.Adam()\n",
    "# optimizer = tf.keras.optimizers.SGD()\n",
    "loss = tf.keras.losses.SparseCategoricalCrossentropy(\n",
    "    from_logits=True, reduction='none')"
   ]
  },
  {
   "cell_type": "code",
   "execution_count": 51,
   "id": "laughing-ownership",
   "metadata": {},
   "outputs": [],
   "source": [
    "model.compile(loss=loss, optimizer=optimizer)"
   ]
  },
  {
   "cell_type": "markdown",
   "id": "dominican-trunk",
   "metadata": {},
   "source": [
    "- checkpoint 설정: ModelCheckpoint"
   ]
  },
  {
   "cell_type": "code",
   "execution_count": 52,
   "id": "assigned-egypt",
   "metadata": {},
   "outputs": [],
   "source": [
    "# Directory where the checkpoints will be saved\n",
    "checkpoint_dir = './training_checkpoints'\n",
    "# Name of the checkpoint files\n",
    "checkpoint_prefix = os.path.join(checkpoint_dir, \"ckpt_{epoch}\")\n",
    "\n",
    "checkpoint_callback = tf.keras.callbacks.ModelCheckpoint(\n",
    "    filepath=checkpoint_prefix,\n",
    "    save_weights_only=True)"
   ]
  },
  {
   "cell_type": "markdown",
   "id": "acute-result",
   "metadata": {},
   "source": [
    "### 3. 모델 학습: fit"
   ]
  },
  {
   "cell_type": "code",
   "execution_count": 53,
   "id": "informed-liabilities",
   "metadata": {},
   "outputs": [
    {
     "name": "stdout",
     "output_type": "stream",
     "text": [
      "Epoch 1/10\n",
      "1099/1099 [==============================] - 517s 468ms/step - loss: 3.8748 - val_loss: 3.0033\n",
      "Epoch 2/10\n",
      "1099/1099 [==============================] - 516s 470ms/step - loss: 2.9197 - val_loss: 2.6091\n",
      "Epoch 3/10\n",
      "1099/1099 [==============================] - 514s 468ms/step - loss: 2.5354 - val_loss: 2.2583\n",
      "Epoch 4/10\n",
      "1099/1099 [==============================] - 515s 469ms/step - loss: 2.1670 - val_loss: 1.9492\n",
      "Epoch 5/10\n",
      "1099/1099 [==============================] - 514s 468ms/step - loss: 1.8273 - val_loss: 1.7017\n",
      "Epoch 6/10\n",
      "1099/1099 [==============================] - 513s 467ms/step - loss: 1.5364 - val_loss: 1.5098\n",
      "Epoch 7/10\n",
      "1099/1099 [==============================] - 515s 469ms/step - loss: 1.3132 - val_loss: 1.3744\n",
      "Epoch 8/10\n",
      "1099/1099 [==============================] - 516s 469ms/step - loss: 1.1450 - val_loss: 1.2884\n",
      "Epoch 9/10\n",
      "1099/1099 [==============================] - 514s 468ms/step - loss: 1.0358 - val_loss: 1.2411\n",
      "Epoch 10/10\n",
      "1099/1099 [==============================] - 511s 465ms/step - loss: 0.9737 - val_loss: 1.2200\n"
     ]
    },
    {
     "data": {
      "text/plain": [
       "<tensorflow.python.keras.callbacks.History at 0x7fc0e2a16450>"
      ]
     },
     "execution_count": 53,
     "metadata": {},
     "output_type": "execute_result"
    }
   ],
   "source": [
    "model.fit(x = enc_train, y = dec_train, epochs=10, batch_size=128, validation_data = (enc_val_val, dec_val_val)\n",
    "         , callbacks =[checkpoint_callback])"
   ]
  },
  {
   "cell_type": "markdown",
   "id": "basic-sheet",
   "metadata": {},
   "source": [
    "\n",
    "### 노드 커멘트\n",
    "\n",
    "데이터가 커서 훈련하는 데 시간이 제법 걸릴 겁니다. 여유를 가지고 작업하시면 좋아요 :)\n",
    "\n",
    "# 하지만... 한국인으로서 참기 너무 어려웠습니다 ㅠㅠ"
   ]
  },
  {
   "cell_type": "markdown",
   "id": "greek-ancient",
   "metadata": {},
   "source": [
    "### 4. 실습 : 잘 만들어졌는지 평가하기"
   ]
  },
  {
   "cell_type": "code",
   "execution_count": 55,
   "id": "conservative-appliance",
   "metadata": {},
   "outputs": [],
   "source": [
    "def generate_text(model, tokenizer, init_sentence=\"<start>\", max_len=20):\n",
    "    # 테스트를 위해서 입력받은 init_sentence도 텐서로 변환합니다\n",
    "    test_input = tokenizer.texts_to_sequences([init_sentence])\n",
    "    test_tensor = tf.convert_to_tensor(test_input, dtype=tf.int64)\n",
    "    end_token = tokenizer.word_index[\"<end>\"]\n",
    "\n",
    "    # 단어 하나씩 예측해 문장을 만듭니다\n",
    "    #    1. 입력받은 문장의 텐서를 입력합니다\n",
    "    #    2. 예측된 값 중 가장 높은 확률인 word index를 뽑아냅니다\n",
    "    #    3. 2에서 예측된 word index를 문장 뒤에 붙입니다\n",
    "    #    4. 모델이 <end>를 예측했거나, max_len에 도달했다면 문장 생성을 마칩니다\n",
    "    while True:\n",
    "        # 1\n",
    "        predict = model(test_tensor) \n",
    "        # 2\n",
    "        predict_word = tf.argmax(tf.nn.softmax(predict, axis=-1), axis=-1)[:, -1] \n",
    "        # 3 \n",
    "        test_tensor = tf.concat([test_tensor, tf.expand_dims(predict_word, axis=0)], axis=-1)\n",
    "        # 4\n",
    "        if predict_word.numpy()[0] == end_token: break\n",
    "        if test_tensor.shape[1] >= max_len: break\n",
    "\n",
    "    generated = \"\"\n",
    "    # tokenizer를 이용해 word index를 단어로 하나씩 변환합니다 \n",
    "    for word_index in test_tensor[0].numpy():\n",
    "        generated += tokenizer.index_word[word_index] + \" \"\n",
    "\n",
    "    return generated"
   ]
  },
  {
   "cell_type": "code",
   "execution_count": 57,
   "id": "meaning-october",
   "metadata": {},
   "outputs": [
    {
     "data": {
      "text/plain": [
       "'<start> i love ma little nasty girl <end> '"
      ]
     },
     "execution_count": 57,
     "metadata": {},
     "output_type": "execute_result"
    }
   ],
   "source": [
    "# 위 문장 생성 함수를 실행\n",
    "\n",
    "generate_text(model, tokenizer, init_sentence=\"<start> i love\", max_len=20)"
   ]
  },
  {
   "cell_type": "code",
   "execution_count": 60,
   "id": "spare-cabinet",
   "metadata": {},
   "outputs": [
    {
     "ename": "AttributeError",
     "evalue": "'list' object has no attribute 'epoch'",
     "output_type": "error",
     "traceback": [
      "\u001b[0;31m---------------------------------------------------------------------------\u001b[0m",
      "\u001b[0;31mAttributeError\u001b[0m                            Traceback (most recent call last)",
      "\u001b[0;32m<ipython-input-60-9cba098c4438>\u001b[0m in \u001b[0;36m<module>\u001b[0;34m\u001b[0m\n\u001b[1;32m     30\u001b[0m \u001b[0;34m\u001b[0m\u001b[0m\n\u001b[1;32m     31\u001b[0m     \u001b[0mplt\u001b[0m\u001b[0;34m.\u001b[0m\u001b[0mshow\u001b[0m\u001b[0;34m(\u001b[0m\u001b[0;34m)\u001b[0m\u001b[0;34m\u001b[0m\u001b[0;34m\u001b[0m\u001b[0m\n\u001b[0;32m---> 32\u001b[0;31m \u001b[0mplot_curve\u001b[0m\u001b[0;34m(\u001b[0m\u001b[0mhistory\u001b[0m\u001b[0;34m.\u001b[0m\u001b[0mepoch\u001b[0m\u001b[0;34m,\u001b[0m \u001b[0mhistory\u001b[0m\u001b[0;34m.\u001b[0m\u001b[0mhistory\u001b[0m\u001b[0;34m,\u001b[0m \u001b[0;34m[\u001b[0m\u001b[0;34m'loss'\u001b[0m\u001b[0;34m,\u001b[0m \u001b[0;34m'val_loss'\u001b[0m\u001b[0;34m]\u001b[0m\u001b[0;34m)\u001b[0m\u001b[0;34m\u001b[0m\u001b[0;34m\u001b[0m\u001b[0m\n\u001b[0m",
      "\u001b[0;31mAttributeError\u001b[0m: 'list' object has no attribute 'epoch'"
     ]
    }
   ],
   "source": [
    "import matplotlib.pyplot as plt\n",
    "def plot_curve(epochs, hist, list_of_metrics):\n",
    "    \n",
    "    fig, ax = plt.subplots(1,2,figsize = (12, 8))\n",
    "    \n",
    "    for i in range(len(ax)):\n",
    "        ax[i].set_xlabel('Epochs')\n",
    "        ax[i].set_ylabel('Value')\n",
    "        \n",
    "        for n in range(len(list_of_metrics)):\n",
    "            if i == 0:\n",
    "                y = hist[list_of_metrics[n]]\n",
    "                if n == 0:\n",
    "                    ax[i].plot(epochs, y, label=\"train\")\n",
    "                else:\n",
    "                    ax[i].plot(epochs, y, label=\"val\")\n",
    "                ax[i].set_title('Loss')\n",
    "                ax[i].legend(loc='upper right')\n",
    "                if n == 1:\n",
    "                    break\n",
    "            else:\n",
    "                if n >= 2:\n",
    "                    y = hist[list_of_metrics[n]]\n",
    "                    if n == 2:\n",
    "                        ax[i].plot(epochs, y, label=\"train\")\n",
    "                    else:\n",
    "                        ax[i].plot(epochs, y, label=\"val\")\n",
    "                    ax[i].set_title('Accuracy')\n",
    "                    ax[i].legend(loc='lower right')\n",
    "                    \n",
    "    plt.show()\n",
    "plot_curve(history.epoch, history.history, ['loss', 'val_loss'])"
   ]
  },
  {
   "cell_type": "markdown",
   "id": "reduced-pencil",
   "metadata": {},
   "source": [
    "그래프를 보니 train은 학습하면 할 수록 과적합이 되서 그런지\n",
    "\n",
    "점점 loss가 줄어드는 모습을 보입니다.\n",
    "\n",
    "그리고 validation에서의 loss는 train의 학습으로는 한계가 있는지\n",
    "\n",
    "점점 loss가 줄어드는 폭이 좁아지는 것을 볼 수 있었습니다."
   ]
  },
  {
   "cell_type": "markdown",
   "id": "front-nicaragua",
   "metadata": {},
   "source": [
    "더 좋은 결과를 얻기 위해 어떤 과정이 남아 있을까?\n",
    "\n",
    "lstm의 하이퍼 파라미터를 수정 또는 층을 늘린다.\n",
    "\n",
    "epochs에 earlystopping을 추가하여 가장 강력할 때 멈춘다.\n",
    "\n",
    "각 lstm 층마다 과적합 방지 기법을 사용한다. ( drop out, batchnormalization)\n",
    "\n",
    "cross validation을 사용한다.\n",
    "\n",
    "optimizer를 Adam말고 시퀀스 데이터에 더 적합하다고 알려진 rmsprop를 사용한다."
   ]
  },
  {
   "cell_type": "code",
   "execution_count": null,
   "id": "ordered-cheat",
   "metadata": {},
   "outputs": [],
   "source": []
  }
 ],
 "metadata": {
  "kernelspec": {
   "display_name": "Python 3",
   "language": "python",
   "name": "python3"
  },
  "language_info": {
   "codemirror_mode": {
    "name": "ipython",
    "version": 3
   },
   "file_extension": ".py",
   "mimetype": "text/x-python",
   "name": "python",
   "nbconvert_exporter": "python",
   "pygments_lexer": "ipython3",
   "version": "3.7.9"
  }
 },
 "nbformat": 4,
 "nbformat_minor": 5
}
