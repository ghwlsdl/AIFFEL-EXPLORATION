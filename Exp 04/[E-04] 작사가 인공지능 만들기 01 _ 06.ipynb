{
 "cells": [
  {
   "cell_type": "markdown",
   "id": "comprehensive-scope",
   "metadata": {},
   "source": [
    "## 4-1. 들어가며"
   ]
  },
  {
   "cell_type": "markdown",
   "id": "involved-venue",
   "metadata": {},
   "source": [
    "### 목차\n",
    "\n",
    "    1. 시퀀스? 스퀀스!\n",
    "    2. I 다음 am을 쓰면 반 이상은 맞더라\n",
    "    3. 실습\n",
    "        1) 데이터 다듬기\n",
    "        2) 인공지능 학습시키기\n",
    "        3) 잘 만들어졌는지 평가하기\n",
    "    4. 프로젝트 : 멋진 작사가 만들기"
   ]
  },
  {
   "cell_type": "markdown",
   "id": "soviet-personality",
   "metadata": {},
   "source": [
    "## 4-2. 시퀀스? 스퀀스!"
   ]
  },
  {
   "cell_type": "markdown",
   "id": "marked-asset",
   "metadata": {},
   "source": [
    "시퀀스 데이터란 나열된 데이터를 의미하므로,\n",
    "\n",
    "각 요소들이 동일한 속성을 띌 필요가 없으며,\n",
    "\n",
    "어떤 기준에 따라 정렬 되어 있지 않아도 됩니다."
   ]
  },
  {
   "cell_type": "markdown",
   "id": "favorite-directive",
   "metadata": {},
   "source": [
    "## 4-3. I 다음 am을 쓰면 반 이상은 맞더라"
   ]
  },
  {
   "cell_type": "markdown",
   "id": "warming-activity",
   "metadata": {},
   "source": [
    "인공지능이 글을 이해하게 하는 방식도 위와 같습니다.\n",
    "\n",
    "어떤 문법적인 원리를 통해서가 아니고, 수많은 글을 읽게 함으로써\n",
    "\n",
    "나는 , 밥을, 그다음이 먹는다 라는 사실을 알게 하는 거죠.\n",
    "\n",
    "그런 이유에서 많은 데이터가 곧 좋은 결과를 만들어냅니다.\n",
    "\n",
    "단어를 적재적소에 활용하는 능력이 발달된다고 할까요?\n",
    "\n",
    "이 방식을 가장 잘 처리하는 인공지능 중 하나가 순환신경망(RNN) 입니다.\n",
    "\n",
    "이번 시간엔 자세한 내용보다는 간단한 구조를 중심으로 공부하겠습니다."
   ]
  },
  {
   "cell_type": "code",
   "execution_count": 1,
   "id": "international-syracuse",
   "metadata": {},
   "outputs": [
    {
     "name": "stdout",
     "output_type": "stream",
     "text": [
      "Source 문장: <start> 나는 밥을 먹었다 \n",
      "Target 문장:  나는 밥을 먹었다 <end>\n"
     ]
    }
   ],
   "source": [
    "# 순환신경망 (RNN) 으로 AI가 문장을 만드는 메커니즘으 파이썬으로 구현한 것.\n",
    "\n",
    "sentence = \" 나는 밥을 먹었다 \"\n",
    "\n",
    "source_sentence = \"<start>\" + sentence\n",
    "target_sentence = sentence + \"<end>\"\n",
    "\n",
    "print(\"Source 문장:\", source_sentence)\n",
    "print(\"Target 문장:\", target_sentence)"
   ]
  },
  {
   "cell_type": "markdown",
   "id": "thousand-merchandise",
   "metadata": {},
   "source": [
    "### 언어 모델 (Language Model)"
   ]
  },
  {
   "cell_type": "markdown",
   "id": "intimate-insert",
   "metadata": {},
   "source": [
    "n−1개의 단어 시퀀스 w1, ... , w_{n-1} 이 주어졌을 때,\n",
    "\n",
    "n 번째 단어 w_n 으로 무엇이 올지를 예측하는 확률 모델을\n",
    "\n",
    "언어 모델(Language Model) 이라고 부릅니다.\n",
    "\n",
    "파라미터 θ로 모델링 하는 언어 모델을 다음과 같이 표현할 수 있습니다.\n",
    "\n",
    "P(w_n | w_1, ..., w_{n-1};θ)"
   ]
  },
  {
   "cell_type": "markdown",
   "id": "informative-escape",
   "metadata": {},
   "source": [
    "학습된 언어 모델을 학습 모드가 아닌 테스트 모드로 가동하면,\n",
    "\n",
    "그 모델은 일정한 단어 시퀀스가 주어질 때, 다음 단어, 그 다음 단어를 계속해서 예측해 낼 것입니다.\n",
    "\n",
    "즉, 잘 학습된 언어 모델은 훌륭한 문장 생성기로 동작하게 됩니다.\n"
   ]
  },
  {
   "cell_type": "markdown",
   "id": "sealed-latter",
   "metadata": {},
   "source": [
    "## 4-4. 실습 (1) 데이터 다듬기"
   ]
  },
  {
   "cell_type": "markdown",
   "id": "realistic-credit",
   "metadata": {},
   "source": [
    "### 데이터 다운로드\n",
    "\n",
    "클라우드 환경에서는 데이터를 준비해두었으니 Cloud shell에서 아래 명령어를 입력해 연결만 시켜주세요.\n",
    "\n",
    " mkdir -p ~/aiffel/lyricist/models\n",
    " \n",
    " ln -s ~/data ~/aiffel/lyricist/data"
   ]
  },
  {
   "cell_type": "code",
   "execution_count": 2,
   "id": "dressed-theology",
   "metadata": {},
   "outputs": [
    {
     "name": "stdout",
     "output_type": "stream",
     "text": [
      "['First Citizen:', 'Before we proceed any further, hear me speak.', '', 'All:', 'Speak, speak.', '', 'First Citizen:', 'You are all resolved rather to die than to famish?', '']\n"
     ]
    }
   ],
   "source": [
    "# 준비한 파일의 내용 확인\n",
    "\n",
    "import os, re\n",
    "import numpy as np\n",
    "import tensorflow as tf\n",
    "\n",
    "# 파일을 읽기모드로 열고\n",
    "# 라인 단위로 끊어서 list 형태로 읽어옵니다.\n",
    "file_path = os.getenv('HOME') + '/aiffel/lyricist/data/shakespeare.txt'\n",
    "with open(file_path, \"r\") as f:\n",
    "    raw_corpus = f.read().splitlines()\n",
    "\n",
    "# 앞에서부터 10라인만 화면에 출력해 볼까요?\n",
    "print(raw_corpus[:9])"
   ]
  },
  {
   "cell_type": "code",
   "execution_count": 4,
   "id": "incomplete-medication",
   "metadata": {},
   "outputs": [
    {
     "name": "stdout",
     "output_type": "stream",
     "text": [
      "Before we proceed any further, hear me speak.\n",
      "Speak, speak.\n",
      "You are all resolved rather to die than to famish?\n"
     ]
    }
   ],
   "source": [
    "# 공백인 문장은 길이를 검사하여 길이가 0이라면 제외를 시켜 봅니다.\n",
    "\n",
    "for idx, sentence in enumerate(raw_corpus): # enumerate 열거하다 라는 뜻으로, 리스트가 있는 경우 순서와 리스트의 값을 전달하는 기능\n",
    "    if len(sentence) == 0: continue   # 길이가 0인 문장은 건너뜁니다.\n",
    "    if sentence[-1] == \":\": continue  # 문장의 끝이 : 인 문장은 건너뜁니다.\n",
    "\n",
    "    if idx > 9: break   # 일단 문장 10개만 확인해 볼 겁니다.\n",
    "        \n",
    "    print(sentence)"
   ]
  },
  {
   "cell_type": "markdown",
   "id": "renewable-profit",
   "metadata": {},
   "source": [
    "전처리를 위해 정규표현식(Regex)을 이용한 필터링이 유용하게 사용됩니다."
   ]
  },
  {
   "cell_type": "code",
   "execution_count": 6,
   "id": "italic-possibility",
   "metadata": {},
   "outputs": [
    {
     "name": "stdout",
     "output_type": "stream",
     "text": [
      "<start> this is sample sentence . <end>\n"
     ]
    }
   ],
   "source": [
    "# 입력된 문장을\n",
    "#     1. 소문자로 바꾸고, 양쪽 공백을 지웁니다\n",
    "#     2. 특수문자 양쪽에 공백을 넣고\n",
    "#     3. 여러개의 공백은 하나의 공백으로 바꿉니다\n",
    "#     4. a-zA-Z?.!,¿가 아닌 모든 문자를 하나의 공백으로 바꿉니다\n",
    "#     5. 다시 양쪽 공백을 지웁니다\n",
    "#     6. 문장 시작에는 <start>, 끝에는 <end>를 추가합니다\n",
    "# 이 순서로 처리해주면 문제가 되는 상황을 방지할 수 있겠네요!\n",
    "def preprocess_sentence(sentence):\n",
    "    sentence = sentence.lower().strip() # 1\n",
    "    sentence = re.sub(r\"([?.!,¿])\", r\" \\1 \", sentence) # 2\n",
    "    sentence = re.sub(r'[\" \"]+', \" \", sentence) # 3\n",
    "    sentence = re.sub(r\"[^a-zA-Z?.!,¿]+\", \" \", sentence) # 4\n",
    "    sentence = sentence.strip() # 5\n",
    "    sentence = '<start> ' + sentence + ' <end>' # 6\n",
    "    return sentence\n",
    "\n",
    "# 이 문장이 어떻게 필터링되는지 확인해 보세요.\n",
    "print(preprocess_sentence(\"This @_is ;;;sample        sentence.\"))"
   ]
  },
  {
   "cell_type": "code",
   "execution_count": 7,
   "id": "proprietary-circuit",
   "metadata": {},
   "outputs": [
    {
     "data": {
      "text/plain": [
       "['<start> before we proceed any further , hear me speak . <end>',\n",
       " '<start> speak , speak . <end>',\n",
       " '<start> you are all resolved rather to die than to famish ? <end>',\n",
       " '<start> resolved . resolved . <end>',\n",
       " '<start> first , you know caius marcius is chief enemy to the people . <end>',\n",
       " '<start> we know t , we know t . <end>',\n",
       " '<start> let us kill him , and we ll have corn at our own price . <end>',\n",
       " '<start> is t a verdict ? <end>',\n",
       " '<start> no more talking on t let it be done away , away ! <end>',\n",
       " '<start> one word , good citizens . <end>']"
      ]
     },
     "execution_count": 7,
     "metadata": {},
     "output_type": "execute_result"
    }
   ],
   "source": [
    "# 여기에 정제된 문장을 모을겁니다\n",
    "corpus = []\n",
    "\n",
    "for sentence in raw_corpus:\n",
    "    # 우리가 원하지 않는 문장은 건너뜁니다\n",
    "    if len(sentence) == 0: continue\n",
    "    if sentence[-1] == \":\": continue\n",
    "    \n",
    "    # 정제를 하고 담아주세요\n",
    "    preprocessed_sentence = preprocess_sentence(sentence)\n",
    "    corpus.append(preprocessed_sentence)\n",
    "        \n",
    "# 정제된 결과를 10개만 확인해보죠\n",
    "corpus[:10]"
   ]
  },
  {
   "cell_type": "code",
   "execution_count": 8,
   "id": "major-bolivia",
   "metadata": {},
   "outputs": [
    {
     "name": "stdout",
     "output_type": "stream",
     "text": [
      "[[   2  143   40 ...    0    0    0]\n",
      " [   2  110    4 ...    0    0    0]\n",
      " [   2   11   50 ...    0    0    0]\n",
      " ...\n",
      " [   2  149 4553 ...    0    0    0]\n",
      " [   2   34   71 ...    0    0    0]\n",
      " [   2  945   34 ...    0    0    0]] <keras_preprocessing.text.Tokenizer object at 0x7fd89f0e4210>\n"
     ]
    }
   ],
   "source": [
    "# 토큰화 할 때 텐서플로우의 Tokenizer와 pad_sequences를 사용합니다\n",
    "# 더 잘 알기 위해 아래 문서들을 참고하면 좋습니다\n",
    "# https://www.tensorflow.org/api_docs/python/tf/keras/preprocessing/text/Tokenizer\n",
    "# https://www.tensorflow.org/api_docs/python/tf/keras/preprocessing/sequence/pad_sequences\n",
    "def tokenize(corpus):\n",
    "    # 7000단어를 기억할 수 있는 tokenizer를 만들겁니다\n",
    "    # 우리는 이미 문장을 정제했으니 filters가 필요없어요\n",
    "    # 7000단어에 포함되지 못한 단어는 '<unk>'로 바꿀거에요\n",
    "    tokenizer = tf.keras.preprocessing.text.Tokenizer(\n",
    "        num_words=7000, \n",
    "        filters=' ',\n",
    "        oov_token=\"<unk>\"\n",
    "    )\n",
    "    # corpus를 이용해 tokenizer 내부의 단어장을 완성합니다\n",
    "    tokenizer.fit_on_texts(corpus)\n",
    "    # 준비한 tokenizer를 이용해 corpus를 Tensor로 변환합니다\n",
    "    tensor = tokenizer.texts_to_sequences(corpus)   \n",
    "    # 입력 데이터의 시퀀스 길이를 일정하게 맞춰줍니다\n",
    "    # 만약 시퀀스가 짧다면 문장 뒤에 패딩을 붙여 길이를 맞춰줍니다.\n",
    "    # 문장 앞에 패딩을 붙여 길이를 맞추고 싶다면 padding='pre'를 사용합니다\n",
    "    tensor = tf.keras.preprocessing.sequence.pad_sequences(tensor, padding='post')  \n",
    "    \n",
    "    print(tensor,tokenizer)\n",
    "    return tensor, tokenizer\n",
    "\n",
    "tensor, tokenizer = tokenize(corpus)"
   ]
  },
  {
   "cell_type": "code",
   "execution_count": 10,
   "id": "selective-complex",
   "metadata": {},
   "outputs": [
    {
     "name": "stdout",
     "output_type": "stream",
     "text": [
      "[[   2  143   40  933  140  591    4  124   24  110]\n",
      " [   2  110    4  110    5    3    0    0    0    0]\n",
      " [   2   11   50   43 1201  316    9  201   74    9]]\n"
     ]
    }
   ],
   "source": [
    "# 생성된 텐서 데이터를 3번째 행, 10번째 열까지만 출력\n",
    "\n",
    "print(tensor[:3, :10])"
   ]
  },
  {
   "cell_type": "code",
   "execution_count": 20,
   "id": "electoral-stanford",
   "metadata": {
    "scrolled": true
   },
   "outputs": [
    {
     "name": "stdout",
     "output_type": "stream",
     "text": [
      "1 : <unk>\n",
      "2 : <start>\n",
      "3 : <end>\n",
      "4 : ,\n",
      "5 : .\n",
      "6 : the\n",
      "7 : and\n",
      "8 : i\n",
      "9 : to\n",
      "10 : of\n"
     ]
    }
   ],
   "source": [
    "# tokenizer에 구축된 단어 사전의 인덱스\n",
    "\n",
    "for idx in tokenizer.index_word:\n",
    "    print(idx, \":\", tokenizer.index_word[idx])\n",
    "\n",
    "    if idx >= 10: break"
   ]
  },
  {
   "cell_type": "code",
   "execution_count": 12,
   "id": "printable-today",
   "metadata": {},
   "outputs": [
    {
     "name": "stdout",
     "output_type": "stream",
     "text": [
      "[  2 143  40 933 140 591   4 124  24 110   5   3   0   0   0   0   0   0\n",
      "   0   0]\n",
      "[143  40 933 140 591   4 124  24 110   5   3   0   0   0   0   0   0   0\n",
      "   0   0]\n"
     ]
    }
   ],
   "source": [
    "# tensor에서 마지막 토큰을 잘라내서 소스 문장을 생성합니다\n",
    "# 마지막 토큰은 <end>가 아니라 <pad>일 가능성이 높습니다.\n",
    "src_input = tensor[:, :-1]  \n",
    "# tensor에서 <start>를 잘라내서 타겟 문장을 생성합니다.\n",
    "tgt_input = tensor[:, 1:]    \n",
    "\n",
    "print(src_input[0])\n",
    "print(tgt_input[0])"
   ]
  },
  {
   "cell_type": "code",
   "execution_count": 13,
   "id": "outer-surrey",
   "metadata": {},
   "outputs": [
    {
     "data": {
      "text/plain": [
       "<BatchDataset shapes: ((256, 20), (256, 20)), types: (tf.int32, tf.int32)>"
      ]
     },
     "execution_count": 13,
     "metadata": {},
     "output_type": "execute_result"
    }
   ],
   "source": [
    "BUFFER_SIZE = len(src_input)\n",
    "BATCH_SIZE = 256\n",
    "steps_per_epoch = len(src_input) // BATCH_SIZE\n",
    "\n",
    " # tokenizer가 구축한 단어사전 내 7000개와, 여기 포함되지 않은 0:<pad>를 포함하여 7001개\n",
    "VOCAB_SIZE = tokenizer.num_words + 1   \n",
    "\n",
    "# 준비한 데이터 소스로부터 데이터셋을 만듭니다\n",
    "# 데이터셋에 대해서는 아래 문서를 참고하세요\n",
    "# 자세히 알아둘수록 도움이 많이 되는 중요한 문서입니다\n",
    "# https://www.tensorflow.org/api_docs/python/tf/data/Dataset\n",
    "dataset = tf.data.Dataset.from_tensor_slices((src_input, tgt_input))\n",
    "dataset = dataset.shuffle(BUFFER_SIZE)\n",
    "dataset = dataset.batch(BATCH_SIZE, drop_remainder=True)\n",
    "dataset"
   ]
  },
  {
   "cell_type": "markdown",
   "id": "dying-construction",
   "metadata": {},
   "source": [
    "# 데이터셋을 생성하기 위해 거쳐 온 과정\n",
    "\n",
    "(1) 정규표현식을 이용한 corpus 생성\n",
    "\n",
    "(2) tf.keras.preprocessing.text.Tokenizer를 이용해 corpus를 텐서로 변환\n",
    "\n",
    "(3) tf.data.Dataset.from_tensor_slices()를 이용해 corpus 텐서를 tf.data.Dataset객체로 변환\n",
    "\n",
    "dataset을 얻음으로써 데이터 다듬기 과정은 끝났습니다.\n",
    "\n",
    "tf.data.Dataset에서 제공하는 shuffle(), batch() 등\n",
    "\n",
    "다양한 데이터셋 관련 기능을 손쉽게 이용할 수 있게 되었군요.\n",
    "\n",
    "이 모든 일련의 과정을 텐서플로우에서의 데이터 전처리 라 칭합니다!"
   ]
  },
  {
   "cell_type": "markdown",
   "id": "bottom-least",
   "metadata": {},
   "source": [
    "## 4-5. 실습 (2) 인공지능 학습시키기"
   ]
  },
  {
   "cell_type": "markdown",
   "id": "spatial-holly",
   "metadata": {},
   "source": [
    "Embedding : 단어를 추상적으로 변환하는 역할\n",
    "    \n",
    "RNN 1 (LSTM) & RNN 2 (LSTM) : 문장을 순차적으로 읽으며 단어 간의 연관성을 분석\n",
    "    \n",
    "Linear (Dense) :RMM 에서 만들어낸 결과를 바탕으로 생성할 단어를 결정"
   ]
  },
  {
   "cell_type": "code",
   "execution_count": 14,
   "id": "flying-silence",
   "metadata": {},
   "outputs": [],
   "source": [
    "class TextGenerator(tf.keras.Model):\n",
    "    def __init__(self, vocab_size, embedding_size, hidden_size): \n",
    "        super().__init__()\n",
    "        \n",
    "        self.embedding = tf.keras.layers.Embedding(vocab_size, embedding_size)\n",
    "        self.rnn_1 = tf.keras.layers.LSTM(hidden_size, return_sequences=True)\n",
    "        self.rnn_2 = tf.keras.layers.LSTM(hidden_size, return_sequences=True)\n",
    "        self.linear = tf.keras.layers.Dense(vocab_size)\n",
    "        \n",
    "    def call(self, x):\n",
    "        out = self.embedding(x)\n",
    "        out = self.rnn_1(out)\n",
    "        out = self.rnn_2(out)\n",
    "        out = self.linear(out)\n",
    "        \n",
    "        return out\n",
    "    \n",
    "embedding_size = 256\n",
    "hidden_size = 1024\n",
    "model = TextGenerator(tokenizer.num_words + 1, embedding_size , hidden_size)"
   ]
  },
  {
   "cell_type": "markdown",
   "id": "waiting-wrist",
   "metadata": {},
   "source": [
    "embedding_size는 워드 벡터의 차원수,\n",
    "\n",
    "즉 단어가 추상적으로 표현되는 크기 입니다.\n",
    "\n",
    "다시 말해서, 값이 커질수록 단어의 추상적인 특징들을 더 잡아낼 수 있지만,\n",
    "\n",
    "그만큼 충분한 데이터가 주어지지 않으면 오히려 혼란만을 야기할 수 있습니다.\n",
    "\n",
    "LSTM 레이어의 hidden state 의 차원수인 hidden_size 도 같은 맥락입니다.\n",
    "\n",
    "\n",
    "\n",
    "hidden_size 는 모델에 얼마나 많은 일꾼을 둘 것인가? 로 이해해도 크게 엇나가지 않습니다.\n",
    "\n",
    "그 일꾼들은 모두 같은 데이터를 보고 각자의 생각을 가지는데,\n",
    "\n",
    "역시 충분한 데이터가 주어지면 올바른 결정을 내리겠지만 그렇지 않으면 배가 산으로 갈 뿐 입니다. "
   ]
  },
  {
   "cell_type": "code",
   "execution_count": 15,
   "id": "enormous-hanging",
   "metadata": {},
   "outputs": [
    {
     "data": {
      "text/plain": [
       "<tf.Tensor: shape=(256, 20, 7001), dtype=float32, numpy=\n",
       "array([[[-2.63612892e-04, -2.05965043e-05,  1.55494723e-04, ...,\n",
       "          9.99320255e-05,  2.43276474e-04,  1.37046300e-04],\n",
       "        [-4.40024305e-04, -6.77920470e-05,  4.19543881e-04, ...,\n",
       "          1.05223029e-04,  6.03980618e-04,  1.49964239e-04],\n",
       "        [-4.56051261e-04, -4.35196962e-05,  8.03412055e-04, ...,\n",
       "          1.16965202e-04,  9.13601893e-04,  4.56084439e-04],\n",
       "        ...,\n",
       "        [-3.60699894e-04,  3.47318535e-04, -1.61137577e-04, ...,\n",
       "         -7.33869325e-04, -1.95076654e-03,  3.00926360e-04],\n",
       "        [-4.09587432e-04,  8.14406667e-04, -1.82715448e-04, ...,\n",
       "         -6.68100547e-04, -2.14359793e-03,  6.49008318e-04],\n",
       "        [-4.43089259e-04,  1.23483874e-03, -1.61892254e-04, ...,\n",
       "         -6.51027542e-04, -2.24090274e-03,  9.74428898e-04]],\n",
       "\n",
       "       [[-2.63612892e-04, -2.05965043e-05,  1.55494723e-04, ...,\n",
       "          9.99320255e-05,  2.43276474e-04,  1.37046300e-04],\n",
       "        [-2.90818949e-04,  3.88097578e-05,  2.97949446e-04, ...,\n",
       "          1.70475505e-05,  3.16963095e-04,  1.82908188e-04],\n",
       "        [-2.56437314e-04,  3.92535367e-05,  5.40893525e-04, ...,\n",
       "          1.25859369e-05,  5.01714007e-04,  1.96888184e-04],\n",
       "        ...,\n",
       "        [ 3.89245361e-05,  2.20600469e-03, -4.10233391e-04, ...,\n",
       "         -9.59059631e-04, -2.59339320e-03,  2.18431070e-03],\n",
       "        [ 4.39593714e-05,  2.32984615e-03, -3.01914610e-04, ...,\n",
       "         -1.04240945e-03, -2.46588793e-03,  2.35013384e-03],\n",
       "        [ 5.11507169e-05,  2.39841547e-03, -2.06300669e-04, ...,\n",
       "         -1.13466417e-03, -2.34020548e-03,  2.47323420e-03]],\n",
       "\n",
       "       [[-2.63612892e-04, -2.05965043e-05,  1.55494723e-04, ...,\n",
       "          9.99320255e-05,  2.43276474e-04,  1.37046300e-04],\n",
       "        [-4.72716521e-04,  1.11171132e-04,  6.13710086e-04, ...,\n",
       "          4.04955281e-05,  5.07143734e-04, -4.14072099e-04],\n",
       "        [-5.94565063e-04,  5.00368071e-04,  1.14395900e-03, ...,\n",
       "         -8.01072529e-05,  9.56508738e-04, -6.74561015e-04],\n",
       "        ...,\n",
       "        [-3.78287456e-04,  2.16372428e-03,  3.00309504e-04, ...,\n",
       "         -8.90618772e-04, -7.71336141e-04,  1.75057014e-03],\n",
       "        [-3.83554056e-04,  2.29046633e-03,  2.59943015e-04, ...,\n",
       "         -9.52432980e-04, -8.90031632e-04,  1.94794091e-03],\n",
       "        [-3.72349139e-04,  2.36364384e-03,  2.31608312e-04, ...,\n",
       "         -1.03022659e-03, -9.86337080e-04,  2.10103346e-03]],\n",
       "\n",
       "       ...,\n",
       "\n",
       "       [[-2.63612892e-04, -2.05965043e-05,  1.55494723e-04, ...,\n",
       "          9.99320255e-05,  2.43276474e-04,  1.37046300e-04],\n",
       "        [-4.62060474e-04,  1.06193460e-04,  3.87174863e-04, ...,\n",
       "          9.21212632e-05, -4.42183591e-05,  6.72299997e-04],\n",
       "        [-7.14130001e-04,  1.48378283e-04,  1.41189215e-04, ...,\n",
       "          3.69702611e-05,  1.24064740e-04,  1.08489045e-03],\n",
       "        ...,\n",
       "        [-4.60546755e-04,  2.85272859e-03, -1.66114856e-04, ...,\n",
       "         -1.19399338e-03, -2.07472988e-03,  2.10647192e-03],\n",
       "        [-4.43569181e-04,  2.82662292e-03, -1.30025961e-04, ...,\n",
       "         -1.24693918e-03, -1.97570724e-03,  2.19746679e-03],\n",
       "        [-4.14344715e-04,  2.76805437e-03, -9.46795699e-05, ...,\n",
       "         -1.30967074e-03, -1.88688014e-03,  2.26604613e-03]],\n",
       "\n",
       "       [[-2.63612892e-04, -2.05965043e-05,  1.55494723e-04, ...,\n",
       "          9.99320255e-05,  2.43276474e-04,  1.37046300e-04],\n",
       "        [-5.16150030e-04,  6.90366287e-05,  3.51543451e-04, ...,\n",
       "          1.06780935e-04,  1.41797529e-04,  3.56051460e-04],\n",
       "        [-5.88620722e-04,  4.68882557e-04,  3.70841066e-04, ...,\n",
       "         -1.48812207e-04, -1.29538430e-05,  8.14888102e-04],\n",
       "        ...,\n",
       "        [-5.05643664e-04,  1.27848587e-03, -5.06247976e-04, ...,\n",
       "         -2.52771395e-04, -1.09990733e-03,  8.32416757e-04],\n",
       "        [-4.35812748e-04,  1.66630722e-03, -4.42164950e-04, ...,\n",
       "         -4.39278199e-04, -1.29440299e-03,  1.09826738e-03],\n",
       "        [-3.76237440e-04,  1.96739635e-03, -3.73668532e-04, ...,\n",
       "         -6.14954217e-04, -1.42637151e-03,  1.34453783e-03]],\n",
       "\n",
       "       [[-2.63612892e-04, -2.05965043e-05,  1.55494723e-04, ...,\n",
       "          9.99320255e-05,  2.43276474e-04,  1.37046300e-04],\n",
       "        [-4.26574494e-04, -1.37086914e-04,  3.25638859e-04, ...,\n",
       "          1.75412715e-04,  4.67915263e-04, -1.63824923e-04],\n",
       "        [-4.63056262e-04, -4.82580421e-04,  5.44320908e-04, ...,\n",
       "          3.47947702e-04,  8.36332852e-04, -2.56101892e-04],\n",
       "        ...,\n",
       "        [-7.14902300e-04,  2.11781031e-03, -4.91406128e-04, ...,\n",
       "         -2.32690247e-04, -9.40534810e-04,  1.25706894e-03],\n",
       "        [-6.84384431e-04,  2.41944939e-03, -3.60366830e-04, ...,\n",
       "         -3.89892404e-04, -1.02899550e-03,  1.49584119e-03],\n",
       "        [-6.42284052e-04,  2.63027567e-03, -2.43445014e-04, ...,\n",
       "         -5.52404264e-04, -1.09393382e-03,  1.70647120e-03]]],\n",
       "      dtype=float32)>"
      ]
     },
     "execution_count": 15,
     "metadata": {},
     "output_type": "execute_result"
    }
   ],
   "source": [
    "# 데이터셋에서 데이터 한 배치만 불러오는 방법입니다.\n",
    "# 지금은 동작 원리에 너무 빠져들지 마세요~\n",
    "for src_sample, tgt_sample in dataset.take(1): break\n",
    "\n",
    "# 한 배치만 불러온 데이터를 모델에 넣어봅니다\n",
    "model(src_sample)"
   ]
  },
  {
   "cell_type": "markdown",
   "id": "coated-beginning",
   "metadata": {},
   "source": [
    "모델의 최종 출력 텐서 shape를 유심히 보면 shape=(256, 20, 7001)임을 알 수 있습니다.\n",
    "\n",
    "7001은 Dense 레이어의 출력 차원수입니다.\n",
    "\n",
    "7001개의 단어 중 어느 단어의 확률이 가장 높을지를 모델링해야 하기 때문입니다.\n",
    "\n",
    "256은 이전 스텝에서 지정한 배치 사이즈입니다.\n",
    "\n",
    "dataset.take(1)를 통해서 1개의 배치, 즉 256개의 문장 데이터를 가져온 것입니다.\n",
    "\n",
    "그렇다면 20은 무엇을 의미할까요?\n",
    "\n",
    "비밀은 바로 tf.keras.layers.LSTM(hidden_size, return_sequences=True)로 호출한\n",
    "\n",
    "LSTM 레이어에서 return_sequences=True이라고 지정한 부분에 있습니다.\n",
    "\n",
    "즉, LSTM은 자신에게 입력된 시퀀스의 길이만큼 동일한 길이의 시퀀스를 출력한다는 의미입니다.\n",
    "\n",
    "만약 return_sequences=False였다면 LSTM 레이어는 1개의 벡터만 출력했을 것입니다.\n",
    "\n",
    "그런데 문제는, 우리의 모델은 입력 데이터의 시퀀스 길이가 얼마인지 모른다는 점입니다.\n",
    "\n",
    "모델을 만들면서 알려준 적도 없습니다. 그럼 20은 언제 알게된 것일까요?\n",
    "\n",
    "네, 그렇습니다. 데이터를 입력받으면서 비로소 알게 된 것입니다.\n",
    "\n",
    "우리 데이터셋의 max_len이 20으로 맞춰져 있었던 것입니다."
   ]
  },
  {
   "cell_type": "code",
   "execution_count": 16,
   "id": "personalized-jungle",
   "metadata": {},
   "outputs": [
    {
     "name": "stdout",
     "output_type": "stream",
     "text": [
      "Model: \"text_generator\"\n",
      "_________________________________________________________________\n",
      "Layer (type)                 Output Shape              Param #   \n",
      "=================================================================\n",
      "embedding (Embedding)        multiple                  1792256   \n",
      "_________________________________________________________________\n",
      "lstm (LSTM)                  multiple                  5246976   \n",
      "_________________________________________________________________\n",
      "lstm_1 (LSTM)                multiple                  8392704   \n",
      "_________________________________________________________________\n",
      "dense (Dense)                multiple                  7176025   \n",
      "=================================================================\n",
      "Total params: 22,607,961\n",
      "Trainable params: 22,607,961\n",
      "Non-trainable params: 0\n",
      "_________________________________________________________________\n"
     ]
    }
   ],
   "source": [
    "model.summary()"
   ]
  },
  {
   "cell_type": "code",
   "execution_count": 17,
   "id": "legislative-lodge",
   "metadata": {
    "scrolled": true
   },
   "outputs": [
    {
     "name": "stdout",
     "output_type": "stream",
     "text": [
      "Epoch 1/30\n",
      "93/93 [==============================] - 65s 671ms/step - loss: 4.4028\n",
      "Epoch 2/30\n",
      "93/93 [==============================] - 63s 677ms/step - loss: 2.8139\n",
      "Epoch 3/30\n",
      "93/93 [==============================] - 63s 680ms/step - loss: 2.7305\n",
      "Epoch 4/30\n",
      "93/93 [==============================] - 63s 679ms/step - loss: 2.6153\n",
      "Epoch 5/30\n",
      "93/93 [==============================] - 63s 680ms/step - loss: 2.5398\n",
      "Epoch 6/30\n",
      "93/93 [==============================] - 63s 680ms/step - loss: 2.4933\n",
      "Epoch 7/30\n",
      "93/93 [==============================] - 63s 680ms/step - loss: 2.4395\n",
      "Epoch 8/30\n",
      "93/93 [==============================] - 63s 679ms/step - loss: 2.3871\n",
      "Epoch 9/30\n",
      "93/93 [==============================] - 63s 680ms/step - loss: 2.3322\n",
      "Epoch 10/30\n",
      "93/93 [==============================] - 63s 680ms/step - loss: 2.2897\n",
      "Epoch 11/30\n",
      "93/93 [==============================] - 63s 679ms/step - loss: 2.2428\n",
      "Epoch 12/30\n",
      "93/93 [==============================] - 63s 679ms/step - loss: 2.1872\n",
      "Epoch 13/30\n",
      "93/93 [==============================] - 63s 679ms/step - loss: 2.1496\n",
      "Epoch 14/30\n",
      "93/93 [==============================] - 63s 678ms/step - loss: 2.1114\n",
      "Epoch 15/30\n",
      "93/93 [==============================] - 63s 680ms/step - loss: 2.0597\n",
      "Epoch 16/30\n",
      "93/93 [==============================] - 63s 681ms/step - loss: 2.0126\n",
      "Epoch 17/30\n",
      "93/93 [==============================] - 63s 681ms/step - loss: 1.9657\n",
      "Epoch 18/30\n",
      "93/93 [==============================] - 63s 680ms/step - loss: 1.9240\n",
      "Epoch 19/30\n",
      "93/93 [==============================] - 63s 681ms/step - loss: 1.8805\n",
      "Epoch 20/30\n",
      "93/93 [==============================] - 63s 681ms/step - loss: 1.8341\n",
      "Epoch 21/30\n",
      "93/93 [==============================] - 63s 681ms/step - loss: 1.7936\n",
      "Epoch 22/30\n",
      "93/93 [==============================] - 63s 681ms/step - loss: 1.7466\n",
      "Epoch 23/30\n",
      "93/93 [==============================] - 63s 681ms/step - loss: 1.7045\n",
      "Epoch 24/30\n",
      "93/93 [==============================] - 63s 679ms/step - loss: 1.6569\n",
      "Epoch 25/30\n",
      "93/93 [==============================] - 63s 679ms/step - loss: 1.6089\n",
      "Epoch 26/30\n",
      "93/93 [==============================] - 63s 680ms/step - loss: 1.5626\n",
      "Epoch 27/30\n",
      "93/93 [==============================] - 63s 678ms/step - loss: 1.5198\n",
      "Epoch 28/30\n",
      "93/93 [==============================] - 63s 678ms/step - loss: 1.4734\n",
      "Epoch 29/30\n",
      "93/93 [==============================] - 63s 678ms/step - loss: 1.4263\n",
      "Epoch 30/30\n",
      "93/93 [==============================] - 59s 637ms/step - loss: 1.3822\n"
     ]
    },
    {
     "data": {
      "text/plain": [
       "<tensorflow.python.keras.callbacks.History at 0x7fd89e7d6f90>"
      ]
     },
     "execution_count": 17,
     "metadata": {},
     "output_type": "execute_result"
    }
   ],
   "source": [
    "# optimizer와 loss등은 차차 배웁니다\n",
    "# 혹시 미리 알고 싶다면 아래 문서를 참고하세요\n",
    "# https://www.tensorflow.org/api_docs/python/tf/keras/optimizers\n",
    "# https://www.tensorflow.org/api_docs/python/tf/keras/losses\n",
    "# 양이 상당히 많은 편이니 지금 보는 것은 추천하지 않습니다\n",
    "optimizer = tf.keras.optimizers.Adam()\n",
    "loss = tf.keras.losses.SparseCategoricalCrossentropy(\n",
    "    from_logits=True,\n",
    "    reduction='none'\n",
    ")\n",
    "\n",
    "model.compile(loss=loss, optimizer=optimizer)\n",
    "model.fit(dataset, epochs=30)"
   ]
  },
  {
   "cell_type": "markdown",
   "id": "chemical-integer",
   "metadata": {},
   "source": [
    "## 4-6. 실습 (3) 잘 만들어졌는지 평가하기"
   ]
  },
  {
   "cell_type": "markdown",
   "id": "developing-bibliography",
   "metadata": {},
   "source": [
    "모델이 작문을 잘하는지 컴퓨터 알고리즘이 평가하는 것은 무리가 있습니다.\n",
    "\n",
    "만약에 그게 가능했다면 우리가 지금껏 해온 독후감 숙제를 컴퓨터가 채점했겠죠?\n",
    "\n",
    "따라서 작문 모델을 평가하는 가장 확실한 방법은 작문을 시켜보고 직접 평가하는 겁니다.\n",
    "\n",
    "아래 generate_text 함수는 모델에게 시작 문장을 전달하면\n",
    "\n",
    "모델이 시작 문장을 바탕으로 작문을 진행하게 합니다."
   ]
  },
  {
   "cell_type": "code",
   "execution_count": 18,
   "id": "worst-kingston",
   "metadata": {},
   "outputs": [],
   "source": [
    "def generate_text(model, tokenizer, init_sentence=\"<start>\", max_len=20):\n",
    "    # 테스트를 위해서 입력받은 init_sentence도 텐서로 변환합니다\n",
    "    test_input = tokenizer.texts_to_sequences([init_sentence])\n",
    "    test_tensor = tf.convert_to_tensor(test_input, dtype=tf.int64)\n",
    "    end_token = tokenizer.word_index[\"<end>\"]\n",
    "\n",
    "    # 단어 하나씩 예측해 문장을 만듭니다\n",
    "    #    1. 입력받은 문장의 텐서를 입력합니다\n",
    "    #    2. 예측된 값 중 가장 높은 확률인 word index를 뽑아냅니다\n",
    "    #    3. 2에서 예측된 word index를 문장 뒤에 붙입니다\n",
    "    #    4. 모델이 <end>를 예측했거나, max_len에 도달했다면 문장 생성을 마칩니다\n",
    "    while True:\n",
    "        # 1\n",
    "        predict = model(test_tensor) \n",
    "        # 2\n",
    "        predict_word = tf.argmax(tf.nn.softmax(predict, axis=-1), axis=-1)[:, -1] \n",
    "        # 3 \n",
    "        test_tensor = tf.concat([test_tensor, tf.expand_dims(predict_word, axis=0)], axis=-1)\n",
    "        # 4\n",
    "        if predict_word.numpy()[0] == end_token: break\n",
    "        if test_tensor.shape[1] >= max_len: break\n",
    "\n",
    "    generated = \"\"\n",
    "    # tokenizer를 이용해 word index를 단어로 하나씩 변환합니다 \n",
    "    for word_index in test_tensor[0].numpy():\n",
    "        generated += tokenizer.index_word[word_index] + \" \"\n",
    "\n",
    "    return generated"
   ]
  },
  {
   "cell_type": "markdown",
   "id": "massive-richmond",
   "metadata": {},
   "source": [
    "generate_text() 함수에서 init_sentence를 인자로 받고는 있습니다.\n",
    "\n",
    "이렇게 받은 인자를 일단 텐서로 만들고 있습니다.\n",
    "\n",
    "디폴트로는 <start> 단어 하나만 받는군요.\n",
    "\n",
    "while의 첫 번째 루프에서 test_tensor에 <start> 하나만 들어갔다고 합시다.\n",
    "    \n",
    "우리의 모델이 출력으로 7001개의 단어 중 A를 골랐다고 합시다.\n",
    "    \n",
    "while의 두 번째 루프에서 test_tensor에는 <start> A가 들어갑니다.\n",
    "    \n",
    "그래서 우리의 모델이 그다음 B를 골랐다고 합시다.\n",
    "  \n",
    "while의 세 번째 루프에서 test_tensor에는 <start> A B가 들어갑니다.\n",
    "    \n",
    "그래서..... (이하 후략)"
   ]
  },
  {
   "cell_type": "code",
   "execution_count": 19,
   "id": "swiss-little",
   "metadata": {},
   "outputs": [
    {
     "data": {
      "text/plain": [
       "'<start> he hath got a <unk> of a <unk> <end> '"
      ]
     },
     "execution_count": 19,
     "metadata": {},
     "output_type": "execute_result"
    }
   ],
   "source": [
    "# 위 문장 생성 함수를 실행\n",
    "\n",
    "generate_text(model, tokenizer, init_sentence=\"<start> he\")"
   ]
  },
  {
   "cell_type": "markdown",
   "id": "broad-observation",
   "metadata": {},
   "source": [
    "지금은 짧은 한 줄짜리 문장을 생성하지만,\n",
    "\n",
    "더 공부하시면 최고의 작문 모델 GPT-2를 이용해 더욱 멋진 문장 생성 프로젝트를 할 수 있을 것입니다."
   ]
  }
 ],
 "metadata": {
  "kernelspec": {
   "display_name": "Python 3",
   "language": "python",
   "name": "python3"
  },
  "language_info": {
   "codemirror_mode": {
    "name": "ipython",
    "version": 3
   },
   "file_extension": ".py",
   "mimetype": "text/x-python",
   "name": "python",
   "nbconvert_exporter": "python",
   "pygments_lexer": "ipython3",
   "version": "3.7.9"
  }
 },
 "nbformat": 4,
 "nbformat_minor": 5
}
