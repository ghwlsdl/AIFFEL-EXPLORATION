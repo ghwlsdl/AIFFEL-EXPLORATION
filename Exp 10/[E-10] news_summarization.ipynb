{
 "cells": [
  {
   "cell_type": "markdown",
   "id": "reduced-morrison",
   "metadata": {},
   "source": [
    "# 10-13. 프로젝트 : 뉴스기사 요약해보기\n",
    "\n",
    "새로운 데이터셋에 대해서 추상적 요약과 추출적 요약을 모두 해보는 시간을 가져봐요.\n",
    "\n",
    "## Step 1. 데이터 수집하기\n",
    "\n",
    "데이터는 아래 링크에 있는 뉴스 기사 데이터(news_summary_more.csv)를 사용하세요.\n",
    "\n",
    "- sunnysai12345/News_Summary (https://github.com/sunnysai12345/News_Summary)\n",
    "\n",
    "아래의 코드로 데이터를 다운로드할 수 있어요."
   ]
  },
  {
   "cell_type": "code",
   "execution_count": 1,
   "id": "atlantic-assembly",
   "metadata": {},
   "outputs": [
    {
     "name": "stderr",
     "output_type": "stream",
     "text": [
      "[nltk_data] Downloading package stopwords to /aiffel/nltk_data...\n",
      "[nltk_data]   Unzipping corpora/stopwords.zip.\n"
     ]
    },
    {
     "name": "stdout",
     "output_type": "stream",
     "text": [
      "=3\n"
     ]
    }
   ],
   "source": [
    "#데이터 준비하기\n",
    "\n",
    "import nltk  # NLTK(Natural Language Toolkit) 의 축약어로 영어 기호, 통계, 자연어 처리를 위한 라이브러리\n",
    "nltk.download('stopwords')\n",
    "\n",
    "import numpy as np\n",
    "import pandas as pd\n",
    "import os\n",
    "import re\n",
    "import matplotlib.pyplot as plt\n",
    "from nltk.corpus import stopwords\n",
    "from bs4 import BeautifulSoup \n",
    "from tensorflow.keras.preprocessing.text import Tokenizer \n",
    "from tensorflow.keras.preprocessing.sequence import pad_sequences\n",
    "import urllib.request\n",
    "\n",
    "print('=3')"
   ]
  },
  {
   "cell_type": "code",
   "execution_count": 2,
   "id": "informational-ultimate",
   "metadata": {},
   "outputs": [
    {
     "name": "stdout",
     "output_type": "stream",
     "text": [
      "전체 샘플수 : 98401\n"
     ]
    }
   ],
   "source": [
    "import urllib.request\n",
    "urllib.request.urlretrieve(\"https://raw.githubusercontent.com/sunnysai12345/News_Summary/master/news_summary_more.csv\", filename=\"news_summary_more.csv\")\n",
    "data = pd.read_csv('news_summary_more.csv', encoding='iso-8859-1')\n",
    "print('전체 샘플수 :', (len(data)))"
   ]
  },
  {
   "cell_type": "code",
   "execution_count": 3,
   "id": "unknown-partition",
   "metadata": {},
   "outputs": [
    {
     "data": {
      "text/html": [
       "<div>\n",
       "<style scoped>\n",
       "    .dataframe tbody tr th:only-of-type {\n",
       "        vertical-align: middle;\n",
       "    }\n",
       "\n",
       "    .dataframe tbody tr th {\n",
       "        vertical-align: top;\n",
       "    }\n",
       "\n",
       "    .dataframe thead th {\n",
       "        text-align: right;\n",
       "    }\n",
       "</style>\n",
       "<table border=\"1\" class=\"dataframe\">\n",
       "  <thead>\n",
       "    <tr style=\"text-align: right;\">\n",
       "      <th></th>\n",
       "      <th>headlines</th>\n",
       "      <th>text</th>\n",
       "    </tr>\n",
       "  </thead>\n",
       "  <tbody>\n",
       "    <tr>\n",
       "      <th>1758</th>\n",
       "      <td>Bus service startup Shuttl raises Ã¢ÂÂ¹10 cro...</td>\n",
       "      <td>Gurugram-based bus service startup Shuttl has ...</td>\n",
       "    </tr>\n",
       "    <tr>\n",
       "      <th>32701</th>\n",
       "      <td>Over 50 National Award winners boycott awards ...</td>\n",
       "      <td>Over 50 winners boycotted the 65th National Fi...</td>\n",
       "    </tr>\n",
       "    <tr>\n",
       "      <th>15322</th>\n",
       "      <td>Swaraj's speech at UN was aimed at BJP voters:...</td>\n",
       "      <td>Congress MP Shashi Tharoor has slammed Externa...</td>\n",
       "    </tr>\n",
       "    <tr>\n",
       "      <th>31819</th>\n",
       "      <td>Flipkart's journey from 2BHK apartment to $21-...</td>\n",
       "      <td>India's biggest e-commerce startup Flipkart be...</td>\n",
       "    </tr>\n",
       "    <tr>\n",
       "      <th>68733</th>\n",
       "      <td>Woman BJP leader booked for slapping girl in UP</td>\n",
       "      <td>An FIR has been registered against local BJP l...</td>\n",
       "    </tr>\n",
       "    <tr>\n",
       "      <th>13314</th>\n",
       "      <td>Woman believes spirits haunt her, jumps in wel...</td>\n",
       "      <td>A woman jumped into a well with her five child...</td>\n",
       "    </tr>\n",
       "    <tr>\n",
       "      <th>69259</th>\n",
       "      <td>Woman repeatedly defecates outside family's ho...</td>\n",
       "      <td>An American family has reportedly spent seven ...</td>\n",
       "    </tr>\n",
       "    <tr>\n",
       "      <th>41185</th>\n",
       "      <td>Mumbai man arrested for raping 16-year-old ste...</td>\n",
       "      <td>Police have arrested a 45-year-old man for all...</td>\n",
       "    </tr>\n",
       "    <tr>\n",
       "      <th>22771</th>\n",
       "      <td>PepsiCo's CEO Indra Nooyi to step down after 1...</td>\n",
       "      <td>PepsiCo on Monday announced that its first fem...</td>\n",
       "    </tr>\n",
       "    <tr>\n",
       "      <th>38211</th>\n",
       "      <td>Was dancer in Race 10 yrs ago, now I'm lead in...</td>\n",
       "      <td>Talking about her Bollywood journey, Daisy Sha...</td>\n",
       "    </tr>\n",
       "  </tbody>\n",
       "</table>\n",
       "</div>"
      ],
      "text/plain": [
       "                                               headlines  \\\n",
       "1758   Bus service startup Shuttl raises Ã¢ÂÂ¹10 cro...   \n",
       "32701  Over 50 National Award winners boycott awards ...   \n",
       "15322  Swaraj's speech at UN was aimed at BJP voters:...   \n",
       "31819  Flipkart's journey from 2BHK apartment to $21-...   \n",
       "68733    Woman BJP leader booked for slapping girl in UP   \n",
       "13314  Woman believes spirits haunt her, jumps in wel...   \n",
       "69259  Woman repeatedly defecates outside family's ho...   \n",
       "41185  Mumbai man arrested for raping 16-year-old ste...   \n",
       "22771  PepsiCo's CEO Indra Nooyi to step down after 1...   \n",
       "38211  Was dancer in Race 10 yrs ago, now I'm lead in...   \n",
       "\n",
       "                                                    text  \n",
       "1758   Gurugram-based bus service startup Shuttl has ...  \n",
       "32701  Over 50 winners boycotted the 65th National Fi...  \n",
       "15322  Congress MP Shashi Tharoor has slammed Externa...  \n",
       "31819  India's biggest e-commerce startup Flipkart be...  \n",
       "68733  An FIR has been registered against local BJP l...  \n",
       "13314  A woman jumped into a well with her five child...  \n",
       "69259  An American family has reportedly spent seven ...  \n",
       "41185  Police have arrested a 45-year-old man for all...  \n",
       "22771  PepsiCo on Monday announced that its first fem...  \n",
       "38211  Talking about her Bollywood journey, Daisy Sha...  "
      ]
     },
     "execution_count": 3,
     "metadata": {},
     "output_type": "execute_result"
    }
   ],
   "source": [
    "# 랜덤한 10개 샘플 출력\n",
    "\n",
    "data.sample(10)"
   ]
  },
  {
   "cell_type": "markdown",
   "id": "practical-conversation",
   "metadata": {},
   "source": [
    "## Step 2. 데이터 전처리하기 (추상적 요약)\n",
    "\n",
    "실습에서 사용된 전처리를 참고하여 각자 필요하다고 생각하는 전처리를 추가 사용하여 텍스트를 정규화 또는 정제해 보세요.\n",
    "\n",
    "만약, 불용어 제거를 선택한다면 상대적으로 길이가 짧은 요약 데이터에 대해서도 불용어를 제거하는 것이 좋을지 고민해 보세요."
   ]
  },
  {
   "cell_type": "markdown",
   "id": "nasty-stuart",
   "metadata": {},
   "source": [
    "### 2-1. 중복 샘플과 NULL 값이 존재하는 샘플 제거"
   ]
  },
  {
   "cell_type": "code",
   "execution_count": 4,
   "id": "imposed-upper",
   "metadata": {},
   "outputs": [
    {
     "name": "stdout",
     "output_type": "stream",
     "text": [
      "headlines 열에서 중복을 배제한 유일한 샘플의 수 : 98280\n",
      "text 열에서 중복을 배제한 유일한 샘플의 수 : 98360\n"
     ]
    }
   ],
   "source": [
    "# 중복 샘플 유무 확인\n",
    "print('headlines 열에서 중복을 배제한 유일한 샘플의 수 :', data['headlines'].nunique())\n",
    "\n",
    "# 데이터 고유값들의 수를 ㄹ출력해주는 함수\n",
    "print('text 열에서 중복을 배제한 유일한 샘플의 수 :', data['text'].nunique())"
   ]
  },
  {
   "cell_type": "markdown",
   "id": "caroline-walter",
   "metadata": {},
   "source": [
    "중복을 제외한다면, headlines 에는 98280개, text 에는 98,380개의 유니크한 데이터가 존재함을 확인할 수 있습니다."
   ]
  },
  {
   "cell_type": "code",
   "execution_count": 5,
   "id": "devoted-memorabilia",
   "metadata": {},
   "outputs": [
    {
     "name": "stdout",
     "output_type": "stream",
     "text": [
      "전체 샘플수 : 98360\n"
     ]
    }
   ],
   "source": [
    "# drop_duplicates()를 사용, 손쉽게 중복 샘플을 제거\n",
    "# inplace=True 를 설정하면 DataFrame 타입 값을 return 하지 않고 data 내부를 직접적으로 바꿉니다.\n",
    "\n",
    "data.drop_duplicates(subset = ['text'], inplace=True)\n",
    "print('전체 샘플수 :', (len(data)))"
   ]
  },
  {
   "cell_type": "code",
   "execution_count": 6,
   "id": "unexpected-parliament",
   "metadata": {},
   "outputs": [
    {
     "name": "stdout",
     "output_type": "stream",
     "text": [
      "headlines    0\n",
      "text         0\n",
      "dtype: int64\n"
     ]
    }
   ],
   "source": [
    "# 중복 제거후 .isnull().sum()으로 null값 유무 재확인 \n",
    "\n",
    "print(data.isnull().sum())"
   ]
  },
  {
   "cell_type": "code",
   "execution_count": 7,
   "id": "hearing-laugh",
   "metadata": {},
   "outputs": [
    {
     "name": "stdout",
     "output_type": "stream",
     "text": [
      "전체 샘플수 : 98360\n"
     ]
    }
   ],
   "source": [
    "# 데이터 프레임에서 null 값을 제거 dropna() 함수 사용\n",
    "\n",
    "data.dropna(axis=0, inplace=True)\n",
    "print('전체 샘플수 :', (len(data)))"
   ]
  },
  {
   "cell_type": "markdown",
   "id": "bizarre-pressure",
   "metadata": {},
   "source": [
    "### 2-2. 텍스트 정규화와 불용어 제거\n",
    "\n",
    "- 텍스트 정규화 : 같은 표현 통일 시키기 / 불용어 : 별도움이 되지 않음 단어"
   ]
  },
  {
   "cell_type": "code",
   "execution_count": 8,
   "id": "mighty-perth",
   "metadata": {},
   "outputs": [
    {
     "name": "stdout",
     "output_type": "stream",
     "text": [
      "정규화 사전의 수:  120\n"
     ]
    }
   ],
   "source": [
    "contractions = {\"ain't\": \"is not\", \"aren't\": \"are not\",\"can't\": \"cannot\", \"'cause\": \"because\", \"could've\": \"could have\", \"couldn't\": \"could not\",\n",
    "                           \"didn't\": \"did not\",  \"doesn't\": \"does not\", \"don't\": \"do not\", \"hadn't\": \"had not\", \"hasn't\": \"has not\", \"haven't\": \"have not\",\n",
    "                           \"he'd\": \"he would\",\"he'll\": \"he will\", \"he's\": \"he is\", \"how'd\": \"how did\", \"how'd'y\": \"how do you\", \"how'll\": \"how will\", \"how's\": \"how is\",\n",
    "                           \"I'd\": \"I would\", \"I'd've\": \"I would have\", \"I'll\": \"I will\", \"I'll've\": \"I will have\",\"I'm\": \"I am\", \"I've\": \"I have\", \"i'd\": \"i would\",\n",
    "                           \"i'd've\": \"i would have\", \"i'll\": \"i will\",  \"i'll've\": \"i will have\",\"i'm\": \"i am\", \"i've\": \"i have\", \"isn't\": \"is not\", \"it'd\": \"it would\",\n",
    "                           \"it'd've\": \"it would have\", \"it'll\": \"it will\", \"it'll've\": \"it will have\",\"it's\": \"it is\", \"let's\": \"let us\", \"ma'am\": \"madam\",\n",
    "                           \"mayn't\": \"may not\", \"might've\": \"might have\",\"mightn't\": \"might not\",\"mightn't've\": \"might not have\", \"must've\": \"must have\",\n",
    "                           \"mustn't\": \"must not\", \"mustn't've\": \"must not have\", \"needn't\": \"need not\", \"needn't've\": \"need not have\",\"o'clock\": \"of the clock\",\n",
    "                           \"oughtn't\": \"ought not\", \"oughtn't've\": \"ought not have\", \"shan't\": \"shall not\", \"sha'n't\": \"shall not\", \"shan't've\": \"shall not have\",\n",
    "                           \"she'd\": \"she would\", \"she'd've\": \"she would have\", \"she'll\": \"she will\", \"she'll've\": \"she will have\", \"she's\": \"she is\",\n",
    "                           \"should've\": \"should have\", \"shouldn't\": \"should not\", \"shouldn't've\": \"should not have\", \"so've\": \"so have\",\"so's\": \"so as\",\n",
    "                           \"this's\": \"this is\",\"that'd\": \"that would\", \"that'd've\": \"that would have\", \"that's\": \"that is\", \"there'd\": \"there would\",\n",
    "                           \"there'd've\": \"there would have\", \"there's\": \"there is\", \"here's\": \"here is\",\"they'd\": \"they would\", \"they'd've\": \"they would have\",\n",
    "                           \"they'll\": \"they will\", \"they'll've\": \"they will have\", \"they're\": \"they are\", \"they've\": \"they have\", \"to've\": \"to have\",\n",
    "                           \"wasn't\": \"was not\", \"we'd\": \"we would\", \"we'd've\": \"we would have\", \"we'll\": \"we will\", \"we'll've\": \"we will have\", \"we're\": \"we are\",\n",
    "                           \"we've\": \"we have\", \"weren't\": \"were not\", \"what'll\": \"what will\", \"what'll've\": \"what will have\", \"what're\": \"what are\",\n",
    "                           \"what's\": \"what is\", \"what've\": \"what have\", \"when's\": \"when is\", \"when've\": \"when have\", \"where'd\": \"where did\", \"where's\": \"where is\",\n",
    "                           \"where've\": \"where have\", \"who'll\": \"who will\", \"who'll've\": \"who will have\", \"who's\": \"who is\", \"who've\": \"who have\",\n",
    "                           \"why's\": \"why is\", \"why've\": \"why have\", \"will've\": \"will have\", \"won't\": \"will not\", \"won't've\": \"will not have\",\n",
    "                           \"would've\": \"would have\", \"wouldn't\": \"would not\", \"wouldn't've\": \"would not have\", \"y'all\": \"you all\",\n",
    "                           \"y'all'd\": \"you all would\",\"y'all'd've\": \"you all would have\",\"y'all're\": \"you all are\",\"y'all've\": \"you all have\",\n",
    "                           \"you'd\": \"you would\", \"you'd've\": \"you would have\", \"you'll\": \"you will\", \"you'll've\": \"you will have\",\n",
    "                           \"you're\": \"you are\", \"you've\": \"you have\"}\n",
    "\n",
    "print(\"정규화 사전의 수: \", len(contractions))"
   ]
  },
  {
   "cell_type": "markdown",
   "id": "preliminary-comedy",
   "metadata": {},
   "source": [
    "이제 정규화 준비까지 마쳤어요.\n",
    "\n",
    "하지만 아직 끝난 게 아니에요. 일반적으로 텍스트에는 자주 등장하지만 자연어 처리를 할 때 실질적으로 별 도움이 되지 않는 단어들이 존재해요. 이를 불용어(stopwords)라고 불러요. 때로는 불용어를 제거하는 것이 자연어 처리의 성능을 높이는 방법일 수 있어요. 여기서는 NLTK에서 제공하는 불용어 리스트를 참조해, 샘플에서 불용어를 제거할 거예요."
   ]
  },
  {
   "cell_type": "code",
   "execution_count": 9,
   "id": "impossible-ontario",
   "metadata": {},
   "outputs": [
    {
     "name": "stdout",
     "output_type": "stream",
     "text": [
      "불용어 개수 : 179\n",
      "['i', 'me', 'my', 'myself', 'we', 'our', 'ours', 'ourselves', 'you', \"you're\", \"you've\", \"you'll\", \"you'd\", 'your', 'yours', 'yourself', 'yourselves', 'he', 'him', 'his', 'himself', 'she', \"she's\", 'her', 'hers', 'herself', 'it', \"it's\", 'its', 'itself', 'they', 'them', 'their', 'theirs', 'themselves', 'what', 'which', 'who', 'whom', 'this', 'that', \"that'll\", 'these', 'those', 'am', 'is', 'are', 'was', 'were', 'be', 'been', 'being', 'have', 'has', 'had', 'having', 'do', 'does', 'did', 'doing', 'a', 'an', 'the', 'and', 'but', 'if', 'or', 'because', 'as', 'until', 'while', 'of', 'at', 'by', 'for', 'with', 'about', 'against', 'between', 'into', 'through', 'during', 'before', 'after', 'above', 'below', 'to', 'from', 'up', 'down', 'in', 'out', 'on', 'off', 'over', 'under', 'again', 'further', 'then', 'once', 'here', 'there', 'when', 'where', 'why', 'how', 'all', 'any', 'both', 'each', 'few', 'more', 'most', 'other', 'some', 'such', 'no', 'nor', 'not', 'only', 'own', 'same', 'so', 'than', 'too', 'very', 's', 't', 'can', 'will', 'just', 'don', \"don't\", 'should', \"should've\", 'now', 'd', 'll', 'm', 'o', 're', 've', 'y', 'ain', 'aren', \"aren't\", 'couldn', \"couldn't\", 'didn', \"didn't\", 'doesn', \"doesn't\", 'hadn', \"hadn't\", 'hasn', \"hasn't\", 'haven', \"haven't\", 'isn', \"isn't\", 'ma', 'mightn', \"mightn't\", 'mustn', \"mustn't\", 'needn', \"needn't\", 'shan', \"shan't\", 'shouldn', \"shouldn't\", 'wasn', \"wasn't\", 'weren', \"weren't\", 'won', \"won't\", 'wouldn', \"wouldn't\"]\n"
     ]
    }
   ],
   "source": [
    "print('불용어 개수 :', len(stopwords.words('english') ))\n",
    "print(stopwords.words('english'))"
   ]
  },
  {
   "cell_type": "code",
   "execution_count": 10,
   "id": "unique-stylus",
   "metadata": {},
   "outputs": [],
   "source": [
    "# 데이터 전처리 함수\n",
    "\n",
    "def preprocess_sentence(sentence, remove_stopwords=True):\n",
    "    sentence = sentence.lower() # 텍스트 소문자화\n",
    "    sentence = BeautifulSoup(sentence, \"lxml\").text # <br />, <a href = ...> 등의 html 태그 제거\n",
    "    sentence = re.sub(r'\\([^)]*\\)', '', sentence) # 괄호로 닫힌 문자열 (...) 제거 Ex) my husband (and myself!) for => my husband for\n",
    "    sentence = re.sub('\"','', sentence) # 쌍따옴표 \" 제거\n",
    "    sentence = ' '.join([contractions[t] if t in contractions else t for t in sentence.split(\" \")]) # 약어 정규화\n",
    "    sentence = re.sub(r\"'s\\b\",\"\", sentence) # 소유격 제거. Ex) roland's -> roland\n",
    "    sentence = re.sub(\"[^a-zA-Z]\", \" \", sentence) # 영어 외 문자(숫자, 특수문자 등) 공백으로 변환\n",
    "    sentence = re.sub('[m]{2,}', 'mm', sentence) # m이 3개 이상이면 2개로 변경. Ex) ummmmmmm yeah -> umm yeah\n",
    "    \n",
    "    # 자연스런 문장이 되기 위해 불용어들을 summary에 남겨두기\n",
    "    # 불용어 제거 (Text)\n",
    "    if remove_stopwords: \n",
    "        tokens = ' '.join(word for word in sentence.split() if not word in stopwords.words('english') if len(word) > 1)\n",
    "    # 불용어 미제거 (Summary)\n",
    "    else:\n",
    "        tokens = ' '.join(word for word in sentence.split() if len(word) > 1)\n",
    "    return tokens"
   ]
  },
  {
   "cell_type": "code",
   "execution_count": 11,
   "id": "major-signal",
   "metadata": {},
   "outputs": [
    {
     "name": "stdout",
     "output_type": "stream",
     "text": [
      "everything bought great infact ordered twice third ordered wasfor mother father\n",
      "great way to start the day\n"
     ]
    }
   ],
   "source": [
    "# 전처리 전, 후의 결과 확인을 위한 임의 함수 호출\n",
    "\n",
    "temp_text = 'Everything I bought was great, infact I ordered twice and the third ordered was<br />for my mother and father.'\n",
    "temp_summary = 'Great way to start (or finish) the day!!!'\n",
    "\n",
    "print(preprocess_sentence(temp_text))\n",
    "print(preprocess_sentence(temp_summary, False))  # 불용어를 제거하지 않습니다."
   ]
  },
  {
   "cell_type": "markdown",
   "id": "racial-motor",
   "metadata": {},
   "source": [
    "결과를 보면 기본적으로 모든 알파벳이 소문자로 변환되고,\n",
    "과 같은 html 태그가 제거되었죠. 또한 (or finish)와 같은 괄호로 묶였던 단어 시퀀스가 제거된 것도 확인할 수 있어요. 그리고 특수문자가 제거되면서 영어만 남았어요.\n",
    "\n",
    "이제 함수가 잘 작동하는 것을 확인했으니, 훈련 데이터 전체에 대해서 전처리를 수행해볼게요. 이때, Text의 경우에는 불용어를 제거하고, Summary의 경우에는 불용어를 제거하지 않을 것이므로 따로 호출해서 진행해야 해요. 먼저 Text를 전처리하고, 결과를 확인하기 위해서 상위 5개의 줄을 출력해볼게요.\n",
    "\n",
    "❗이 코드는 시간이 오래 걸리므로 아래 멀티프로세싱 코드를 실행하는것을 추천드립니다. 우선은 코드 실행을 눌러보고, 지루해지면 코드 정지 후 넘어가주세요 :)"
   ]
  },
  {
   "cell_type": "markdown",
   "id": "indonesian-friendship",
   "metadata": {},
   "source": [
    "### 2-3. 멀티프로세싱으로 데이터 전처리\n",
    "- 별도의 프로세스를 생성하여 병렬처리(소요시간 축소)"
   ]
  },
  {
   "cell_type": "code",
   "execution_count": 12,
   "id": "changing-illustration",
   "metadata": {},
   "outputs": [
    {
     "name": "stdout",
     "output_type": "stream",
     "text": [
      "82.45927500724792  seconds\n",
      "['upgrad learner switches career ml al salary hike'\n",
      " 'delhi techie wins free food swiggy one year cred'\n",
      " 'new zealand end rohit sharma led india match winning streak' ...\n",
      " 'matrix film get reboot reports'\n",
      " 'snoop dogg aims gun clown dressed trump new video'\n",
      " 'madhesi morcha withdraws support nepalese government']\n",
      "14.706498622894287  seconds\n",
      "['saurav kant an alumnus of upgrad and iiit pg program in machine learning and artificial intelligence was sr systems engineer at infosys with almost years of work experience the program and upgrad degree career support helped him transition to data scientist at tech mahindra with salary hike upgrad online power learning has powered lakh careers'\n",
      " 'kunal shah credit card bill payment platform cred gave users chance to win free food from swiggy for one year pranav kaushik delhi techie bagged this reward after spending cred coins users get one cred coin per rupee of bill paid which can be used to avail rewards from brands like ixigo bookmyshow ubereats cult fit and more'\n",
      " 'new zealand defeated india by wickets in the fourth odi at hamilton on thursday to win their first match of the five match odi series india lost an international match under rohit sharma captaincy after consecutive victories dating back to march the match witnessed india getting all out for their seventh lowest total in odi cricket history'\n",
      " ...\n",
      " 'according to reports new version of the science fiction film the matrix is in development michael jordan will reportedly play the lead role in the film screenwriter zak penn is in talks to write the script of the film reports added actor keanu reeves starred in the original film which was followed by two sequels'\n",
      " 'new music video shows rapper snoop dogg aiming toy gun at clown character parodying us president donald trump the video also shows tv airing news conference with the headline ronald klump wants to deport all doggs airing live from the clown house the video is for remixed version of the song lavender'\n",
      " 'madhesi morcha an alliance of seven political parties has withdrawn support to pm pushpa kamal dahal led nepal government after it failed to meet seven day ultimatum to fulfil their demands including endorsement for the revised constitution amendment bill the morcha has seats in the parliament but despite the withdrawal of support there is no immediate threat to the government']\n"
     ]
    }
   ],
   "source": [
    "import multiprocessing as mp   # 멀티 프로세싱으로 전처리 속도를 획기적으로 줄여봅시다\n",
    "from multiprocessing import Pool\n",
    "import numpy as np\n",
    "import time\n",
    "from functools import partial  # map을 할 때 함수에 여러 인자를 넣어줄 수 있도록 합니다\n",
    "\n",
    "start = time.time()\n",
    "\n",
    "# num_cores 만큼 쪼개진 데이터를 전처리하여 반환합니다\n",
    "def appendTexts(sentences, remove_stopwords):\n",
    "  texts = []\n",
    "  for s in sentences:\n",
    "    texts += preprocess_sentence(s, remove_stopwords),\n",
    "  return texts\n",
    "\n",
    "def preprocess_data(data, remove_stopwords=True):\n",
    "  start_time = time.time()\n",
    "  num_cores = mp.cpu_count()  # 컴퓨터의 코어 수를 구합니다\n",
    "\n",
    "  text_data_split = np.array_split(data, num_cores)  # 코어 수만큼 데이터를 배분하여 병렬적으로 처리할 수 있게 합니다\n",
    "  pool = Pool(num_cores)\n",
    "\n",
    "  processed_data = np.concatenate(pool.map(partial(appendTexts, remove_stopwords=remove_stopwords), text_data_split))  # 각자 작업한 데이터를 하나로 합쳐줍니다\n",
    "  pool.close()\n",
    "  pool.join()\n",
    "  print(time.time() - start_time, \" seconds\")\n",
    "  return processed_data\n",
    "\n",
    "clean_headlines = preprocess_data(data['headlines'])  # 클라우드 기준으로 3~4분 정도 소요 됩니다\n",
    "print(clean_headlines)\n",
    "\n",
    "clean_text = preprocess_data(data['text'], remove_stopwords=False) #불용어 제거를 수행하지 않는다는 의미에서 두 번째 인자로 False\n",
    "print(clean_text)"
   ]
  },
  {
   "cell_type": "code",
   "execution_count": 13,
   "id": "durable-recipient",
   "metadata": {},
   "outputs": [],
   "source": [
    "# 빈(empty) 샘플 확인\n",
    "\n",
    "data['headlines'] = clean_headlines\n",
    "data['text'] = clean_text\n",
    "\n",
    "# 빈 값을 Null 값으로 변환\n",
    "\n",
    "data.replace('', np.nan, inplace=True)"
   ]
  },
  {
   "cell_type": "code",
   "execution_count": 14,
   "id": "arctic-lodging",
   "metadata": {},
   "outputs": [
    {
     "data": {
      "text/plain": [
       "headlines    0\n",
       "text         0\n",
       "dtype: int64"
      ]
     },
     "execution_count": 14,
     "metadata": {},
     "output_type": "execute_result"
    }
   ],
   "source": [
    "# null 값 유무 재확인\n",
    "\n",
    "data.isnull().sum()"
   ]
  },
  {
   "cell_type": "markdown",
   "id": "subjective-redhead",
   "metadata": {},
   "source": [
    "### 2-4. 훈련데이터와 테스트데이터 나누기\n",
    "\n",
    "학습 진행을 위한 데이터 크기 결정 및 문장 시작, 끝 표시\n",
    "\n",
    "#### 샘플의 최대 길이 정하기\n",
    "\n",
    "필요 없는 단어를 모두 솎아낸 데이터를 가지게 되었으니, 훈련에 사용할 샘플의 최대 길이를 정해줄 차례입니다.\n",
    "\n",
    "우선 text 와 headline의 최소, 최대, 평균 길이를 구하고 또한 길이 분포를 시각해 보도록 하겠습니다."
   ]
  },
  {
   "cell_type": "code",
   "execution_count": 15,
   "id": "billion-locator",
   "metadata": {},
   "outputs": [
    {
     "name": "stdout",
     "output_type": "stream",
     "text": [
      "text의 최소 길이 : 1\n",
      "text의 최대 길이 : 69\n",
      "text의 평균 길이 : 56.180195201301345\n",
      "headlines의 최소 길이 : 1\n",
      "headlines의 최대 길이 : 13\n",
      "headlines의 평균 길이 : 7.136183407889386\n"
     ]
    },
    {
     "data": {
      "image/png": "[encoded data removed]",
      "text/plain": [
       "<Figure size 432x288 with 2 Axes>"
      ]
     },
     "metadata": {
      "needs_background": "light"
     },
     "output_type": "display_data"
    },
    {
     "data": {
      "image/png": "[encoded data removed]",
      "text/plain": [
       "<Figure size 432x288 with 1 Axes>"
      ]
     },
     "metadata": {
      "needs_background": "light"
     },
     "output_type": "display_data"
    },
    {
     "data": {
      "image/png": "[encoded data removed]",
      "text/plain": [
       "<Figure size 432x288 with 1 Axes>"
      ]
     },
     "metadata": {
      "needs_background": "light"
     },
     "output_type": "display_data"
    }
   ],
   "source": [
    "# 샘플의 최대 길이 분포 출력\n",
    "\n",
    "import matplotlib.pyplot as plt\n",
    "\n",
    "text_len = [len(s.split()) for s in data['text']]\n",
    "headlines_len = [len(s.split()) for s in data['headlines']]\n",
    "\n",
    "print('text의 최소 길이 : {}'.format(np.min(text_len)))\n",
    "print('text의 최대 길이 : {}'.format(np.max(text_len)))\n",
    "print('text의 평균 길이 : {}'.format(np.mean(text_len)))\n",
    "print('headlines의 최소 길이 : {}'.format(np.min(headlines_len)))\n",
    "print('headlines의 최대 길이 : {}'.format(np.max(headlines_len)))\n",
    "print('headlines의 평균 길이 : {}'.format(np.mean(headlines_len)))\n",
    "\n",
    "plt.subplot(1,2,1)\n",
    "plt.boxplot(headlines_len)\n",
    "plt.title('headlines')\n",
    "plt.subplot(1,2,2)\n",
    "plt.boxplot(text_len)\n",
    "plt.title('text')\n",
    "plt.tight_layout()\n",
    "plt.show()\n",
    "\n",
    "plt.title('headlines')\n",
    "plt.hist(headlines_len, bins = 40)\n",
    "plt.xlabel('length of samples')\n",
    "plt.ylabel('number of samples')\n",
    "plt.show()\n",
    "\n",
    "plt.title('text')\n",
    "plt.hist(text_len, bins = 40)\n",
    "plt.xlabel('length of samples')\n",
    "plt.ylabel('number of samples')\n",
    "plt.show()"
   ]
  },
  {
   "cell_type": "markdown",
   "id": "minus-fountain",
   "metadata": {},
   "source": [
    "위에서 부터 차례대로 그래프는 각각 실제 텍스트와 요약의 길이 분포, 실제 텍스트 샘플 길이 별 갯수, 요약본 샘플 길이 별 개수를 나타내고 있습니다.\n",
    "\n",
    "text의 경우, 최소 길이가 2, 최대 길이가 69의 차이를 보이고, 평균 길이는 56.18로 시각화된 그래프로 보았을 땐 대체적으로 50~60 내외의 길이를 가진다는 것을 확인 할 수 있었습니다.\n",
    "\n",
    "headlines의 경우, 최소 길이가 1, 최대 길이가 13의 차이를 보이고, 평균 길이는 7로 text에 비해서 상대적으로 길이가 매우 짧으며, 시각화 된 그래프로 보았을 떄에도 대체적으로 10 이하의 길이를 가지고 있음을 확인 할 수 있었습니다."
   ]
  },
  {
   "cell_type": "code",
   "execution_count": 16,
   "id": "portable-arlington",
   "metadata": {},
   "outputs": [],
   "source": [
    "# text 의 최대 길이와 summary 의 적절한 최대 길이 임의로 정하기\n",
    "\n",
    "text_max_len = 57\n",
    "headlines_max_len = 7"
   ]
  },
  {
   "cell_type": "code",
   "execution_count": 17,
   "id": "turned-strip",
   "metadata": {},
   "outputs": [
    {
     "name": "stdout",
     "output_type": "stream",
     "text": [
      "=3\n"
     ]
    }
   ],
   "source": [
    "# 훈련 데이터와 샘플의 길이를 입력하면 데이터의 몇 %가 해당하는지 계산\n",
    "\n",
    "def below_threshold_len(max_len, nested_list):\n",
    "  cnt = 0\n",
    "  for s in nested_list:\n",
    "    if(len(s.split()) <= max_len):\n",
    "        cnt = cnt + 1\n",
    "  print('전체 샘플 중 길이가 %s 이하인 샘플의 비율: %s'%(max_len, (cnt / len(nested_list))))\n",
    "print('=3')"
   ]
  },
  {
   "cell_type": "code",
   "execution_count": 18,
   "id": "integrated-bundle",
   "metadata": {},
   "outputs": [
    {
     "name": "stdout",
     "output_type": "stream",
     "text": [
      "전체 샘플 중 길이가 57 이하인 샘플의 비율: 0.6258235054900366\n",
      "전체 샘플 중 길이가 7 이하인 샘플의 비율: 0.6264640097600651\n"
     ]
    }
   ],
   "source": [
    "below_threshold_len(text_max_len, data['text'])\n",
    "below_threshold_len(headlines_max_len,  data['headlines'])"
   ]
  },
  {
   "cell_type": "markdown",
   "id": "ideal-suggestion",
   "metadata": {},
   "source": [
    "위에서 시각화를 통해서 알아낸 평균 길이를 기반으로, text_max_len = 57, headlines_max_len = 7 로 지정을 하고, 그 이하의 샘플 비율을 조사해본 결과,\n",
    "\n",
    "-> text 기준 57 이하인 샘플의 비율은 : 0.6258235054900366 이었으며, headlines 기준 7 이하인 샘플의 비율은 0.6264640097600651 이었습니다."
   ]
  },
  {
   "cell_type": "code",
   "execution_count": 19,
   "id": "demonstrated-bennett",
   "metadata": {},
   "outputs": [
    {
     "name": "stdout",
     "output_type": "stream",
     "text": [
      "전체 샘플수 : 39924\n"
     ]
    }
   ],
   "source": [
    "## 샘플들의 길이 중에서 max length 이하인 데이터들의 갯수를 알아보기\n",
    "\n",
    "data = data[data['text'].apply(lambda x: len(x.split()) <= text_max_len)]\n",
    "data = data[data['headlines'].apply(lambda x: len(x.split()) <= headlines_max_len)]\n",
    "print('전체 샘플수 :', (len(data)))"
   ]
  },
  {
   "cell_type": "markdown",
   "id": "analyzed-calculator",
   "metadata": {},
   "source": [
    "### 2-5. 시작 토큰과 종료 토큰 추가"
   ]
  },
  {
   "cell_type": "code",
   "execution_count": 20,
   "id": "severe-consent",
   "metadata": {},
   "outputs": [
    {
     "data": {
      "text/html": [
       "<div>\n",
       "<style scoped>\n",
       "    .dataframe tbody tr th:only-of-type {\n",
       "        vertical-align: middle;\n",
       "    }\n",
       "\n",
       "    .dataframe tbody tr th {\n",
       "        vertical-align: top;\n",
       "    }\n",
       "\n",
       "    .dataframe thead th {\n",
       "        text-align: right;\n",
       "    }\n",
       "</style>\n",
       "<table border=\"1\" class=\"dataframe\">\n",
       "  <thead>\n",
       "    <tr style=\"text-align: right;\">\n",
       "      <th></th>\n",
       "      <th>headlines</th>\n",
       "      <th>text</th>\n",
       "      <th>decoder_input</th>\n",
       "      <th>decoder_target</th>\n",
       "    </tr>\n",
       "  </thead>\n",
       "  <tbody>\n",
       "    <tr>\n",
       "      <th>6</th>\n",
       "      <td>india get lowest odi total new zealand</td>\n",
       "      <td>india recorded their lowest odi total in new z...</td>\n",
       "      <td>sostoken india get lowest odi total new zealand</td>\n",
       "      <td>india get lowest odi total new zealand eostoken</td>\n",
       "    </tr>\n",
       "    <tr>\n",
       "      <th>12</th>\n",
       "      <td>ram krishna smoke ramdev sadhus kumbh</td>\n",
       "      <td>urging saints and seers at the kumbh mela to q...</td>\n",
       "      <td>sostoken ram krishna smoke ramdev sadhus kumbh</td>\n",
       "      <td>ram krishna smoke ramdev sadhus kumbh eostoken</td>\n",
       "    </tr>\n",
       "    <tr>\n",
       "      <th>18</th>\n",
       "      <td>long tolerate congress leaders potshots taka cm</td>\n",
       "      <td>days after he threatened to step down from his...</td>\n",
       "      <td>sostoken long tolerate congress leaders potsho...</td>\n",
       "      <td>long tolerate congress leaders potshots taka c...</td>\n",
       "    </tr>\n",
       "    <tr>\n",
       "      <th>20</th>\n",
       "      <td>think opposition even dreams pm modi</td>\n",
       "      <td>claiming there is dearth of ideas among opposi...</td>\n",
       "      <td>sostoken think opposition even dreams pm modi</td>\n",
       "      <td>think opposition even dreams pm modi eostoken</td>\n",
       "    </tr>\n",
       "    <tr>\n",
       "      <th>22</th>\n",
       "      <td>killed injured saudi arabia floods</td>\n",
       "      <td>at least people have been killed and others ha...</td>\n",
       "      <td>sostoken killed injured saudi arabia floods</td>\n",
       "      <td>killed injured saudi arabia floods eostoken</td>\n",
       "    </tr>\n",
       "  </tbody>\n",
       "</table>\n",
       "</div>"
      ],
      "text/plain": [
       "                                          headlines  \\\n",
       "6            india get lowest odi total new zealand   \n",
       "12            ram krishna smoke ramdev sadhus kumbh   \n",
       "18  long tolerate congress leaders potshots taka cm   \n",
       "20             think opposition even dreams pm modi   \n",
       "22               killed injured saudi arabia floods   \n",
       "\n",
       "                                                 text  \\\n",
       "6   india recorded their lowest odi total in new z...   \n",
       "12  urging saints and seers at the kumbh mela to q...   \n",
       "18  days after he threatened to step down from his...   \n",
       "20  claiming there is dearth of ideas among opposi...   \n",
       "22  at least people have been killed and others ha...   \n",
       "\n",
       "                                        decoder_input  \\\n",
       "6     sostoken india get lowest odi total new zealand   \n",
       "12     sostoken ram krishna smoke ramdev sadhus kumbh   \n",
       "18  sostoken long tolerate congress leaders potsho...   \n",
       "20      sostoken think opposition even dreams pm modi   \n",
       "22        sostoken killed injured saudi arabia floods   \n",
       "\n",
       "                                       decoder_target  \n",
       "6     india get lowest odi total new zealand eostoken  \n",
       "12     ram krishna smoke ramdev sadhus kumbh eostoken  \n",
       "18  long tolerate congress leaders potshots taka c...  \n",
       "20      think opposition even dreams pm modi eostoken  \n",
       "22        killed injured saudi arabia floods eostoken  "
      ]
     },
     "execution_count": 20,
     "metadata": {},
     "output_type": "execute_result"
    }
   ],
   "source": [
    "# 요약 데이터에는 시작 토큰과 종료 토큰을 추가\n",
    "\n",
    "data['decoder_input'] = data['headlines'].apply(lambda x : 'sostoken '+ x) #시작 토큰\n",
    "data['decoder_target'] = data['headlines'].apply(lambda x : x + ' eostoken') #종료 토큰\n",
    "data.head()"
   ]
  },
  {
   "cell_type": "markdown",
   "id": "sustained-bowling",
   "metadata": {},
   "source": [
    "- 'decoder_input'의 앞에 시작 토큰인 'sostoken' 을 추가 & 'decoder_target'의 끝에는 종료 토큰인 'eostoken'을 추가"
   ]
  },
  {
   "cell_type": "markdown",
   "id": "present-nation",
   "metadata": {},
   "source": [
    "### 2-6. 훈련데이터와 테스트 데이터 분리"
   ]
  },
  {
   "cell_type": "markdown",
   "id": "dominican-federal",
   "metadata": {},
   "source": [
    "np.random.shuffle을 사용하여 섞인 데이터를 8:2 비율로 훈련 데이터와 테스트 데이터로 분리해 줍니다."
   ]
  },
  {
   "cell_type": "code",
   "execution_count": 21,
   "id": "modern-assurance",
   "metadata": {},
   "outputs": [],
   "source": [
    "# decoder_input, decoder_target 레이블 각각 다시 numppy 타입으로 저장\n",
    "\n",
    "encoder_input = np.array(data['text']) # 인코더의 입력\n",
    "decoder_input = np.array(data['decoder_input']) # 디코더의 입력\n",
    "decoder_target = np.array(data['decoder_target']) # 디코더의 레이블"
   ]
  },
  {
   "cell_type": "code",
   "execution_count": 22,
   "id": "suffering-brick",
   "metadata": {},
   "outputs": [
    {
     "name": "stdout",
     "output_type": "stream",
     "text": [
      "[21864 26648  6822 ...   198 37324 17239]\n"
     ]
    }
   ],
   "source": [
    "# 훈련 데이터와 테스트 데이터 분리\n",
    "\n",
    "indices = np.arange(encoder_input.shape[0])\n",
    "np.random.shuffle(indices)\n",
    "print(indices)"
   ]
  },
  {
   "cell_type": "code",
   "execution_count": 23,
   "id": "norwegian-lounge",
   "metadata": {},
   "outputs": [],
   "source": [
    "# 데이터의 샘플 순서를 정의\n",
    "\n",
    "encoder_input = encoder_input[indices]\n",
    "decoder_input = decoder_input[indices]\n",
    "decoder_target = decoder_target[indices]"
   ]
  },
  {
   "cell_type": "code",
   "execution_count": 24,
   "id": "early-medium",
   "metadata": {},
   "outputs": [
    {
     "name": "stdout",
     "output_type": "stream",
     "text": [
      "테스트 데이터의 수 : 7984\n"
     ]
    }
   ],
   "source": [
    "# 훈련 데이터와 테스트 데이터를 8:2의 비율로 분리\n",
    "\n",
    "n_of_val = int(len(encoder_input)*0.2)\n",
    "print('테스트 데이터의 수 :', n_of_val)"
   ]
  },
  {
   "cell_type": "code",
   "execution_count": 25,
   "id": "ignored-athletics",
   "metadata": {},
   "outputs": [
    {
     "name": "stdout",
     "output_type": "stream",
     "text": [
      "훈련 데이터의 개수 : 31940\n",
      "훈련 레이블의 개수 : 31940\n",
      "테스트 데이터의 개수 : 7984\n",
      "테스트 레이블의 개수 : 7984\n"
     ]
    }
   ],
   "source": [
    "# 테스트 데이터개수 이용해 전체 데이터 나누기\n",
    "\n",
    "encoder_input_train = encoder_input[:-n_of_val]\n",
    "decoder_input_train = decoder_input[:-n_of_val]\n",
    "decoder_target_train = decoder_target[:-n_of_val]\n",
    "\n",
    "encoder_input_test = encoder_input[-n_of_val:]\n",
    "decoder_input_test = decoder_input[-n_of_val:]\n",
    "decoder_target_test = decoder_target[-n_of_val:]\n",
    "\n",
    "print('훈련 데이터의 개수 :', len(encoder_input_train))\n",
    "print('훈련 레이블의 개수 :', len(decoder_input_train))\n",
    "print('테스트 데이터의 개수 :', len(encoder_input_test))\n",
    "print('테스트 레이블의 개수 :', len(decoder_input_test))"
   ]
  },
  {
   "cell_type": "markdown",
   "id": "diagnostic-validity",
   "metadata": {},
   "source": [
    "### 2-7. 단어 집합(vocabulary) 만들기 및 정수 인코딩\n",
    "\n",
    "단어 집합 만들기 : 훈련데이터 및 테스트 데이터의 각 단어 마다 고유한 정수를 맵핑하는 작업"
   ]
  },
  {
   "cell_type": "code",
   "execution_count": 26,
   "id": "manufactured-madison",
   "metadata": {},
   "outputs": [],
   "source": [
    "# 케라스 토크나이저 사용, 훈련 데이터로 부터 단어 집합 만들기\n",
    "\n",
    "src_tokenizer = Tokenizer() # 토크나이저 정의\n",
    "src_tokenizer.fit_on_texts(encoder_input_train) # 입력된 데이터로부터 단어 집합 생성"
   ]
  },
  {
   "cell_type": "code",
   "execution_count": 27,
   "id": "medium-wednesday",
   "metadata": {},
   "outputs": [
    {
     "name": "stdout",
     "output_type": "stream",
     "text": [
      "단어 집합(vocabulary)의 크기 : 47951\n",
      "등장 빈도가 6번 이하인 희귀 단어의 수: 33862\n",
      "단어 집합에서 희귀 단어를 제외시킬 경우의 단어 집합의 크기 14089\n",
      "단어 집합에서 희귀 단어의 비율: 70.61792246251382\n",
      "전체 등장 빈도에서 희귀 단어 등장 빈도 비율: 3.98174181218517\n"
     ]
    }
   ],
   "source": [
    "# 빈도수가 낮은 단어들은 훈련 데이터에서 제외\n",
    "\n",
    "threshold = 7\n",
    "total_cnt = len(src_tokenizer.word_index) # 단어와 각 단어의 등장 빈도수가 저장\n",
    "rare_cnt = 0 # 등장 빈도수가 threshold보다 작은 단어의 개수를 카운트\n",
    "total_freq = 0 # 훈련 데이터의 전체 단어 빈도수 총 합\n",
    "rare_freq = 0 # 등장 빈도수가 threshold보다 작은 단어의 등장 빈도수의 총 합\n",
    "\n",
    "# 단어와 빈도수의 쌍(pair)을 key와 value로 받는다.\n",
    "for key, value in src_tokenizer.word_counts.items():\n",
    "    total_freq = total_freq + value\n",
    "\n",
    "    # 단어의 등장 빈도수가 threshold보다 작으면\n",
    "    if(value < threshold):\n",
    "        rare_cnt = rare_cnt + 1\n",
    "        rare_freq = rare_freq + value\n",
    "\n",
    "print('단어 집합(vocabulary)의 크기 :', total_cnt)\n",
    "print('등장 빈도가 %s번 이하인 희귀 단어의 수: %s'%(threshold - 1, rare_cnt))\n",
    "print('단어 집합에서 희귀 단어를 제외시킬 경우의 단어 집합의 크기 %s'%(total_cnt - rare_cnt))\n",
    "print(\"단어 집합에서 희귀 단어의 비율:\", (rare_cnt / total_cnt)*100)\n",
    "print(\"전체 등장 빈도에서 희귀 단어 등장 빈도 비율:\", (rare_freq / total_freq)*100)"
   ]
  },
  {
   "cell_type": "code",
   "execution_count": 28,
   "id": "forced-thread",
   "metadata": {},
   "outputs": [],
   "source": [
    "# 기준 : 위의 단어 집합에서 6번 이하 단어를 제외시킬 경우의 단어 집합의 크기 14055\n",
    "\n",
    "src_vocab = 8000\n",
    "src_tokenizer = Tokenizer(num_words=src_vocab) # 단어 집합의 크기를 8,000으로 제한\n",
    "src_tokenizer.fit_on_texts(encoder_input_train) # 단어 집합 재생성."
   ]
  },
  {
   "cell_type": "code",
   "execution_count": 29,
   "id": "cultural-assistant",
   "metadata": {},
   "outputs": [
    {
     "name": "stdout",
     "output_type": "stream",
     "text": [
      "[[42, 8, 1, 713, 4, 1932, 7, 283, 1, 3545, 6440, 30, 5920, 6085, 152, 20, 2549, 16, 549, 3145, 3334, 1017, 3, 18, 35, 333, 4, 1, 33, 1, 1648, 686, 157, 9, 21, 11, 7523, 1, 6440, 2, 3546, 10, 15, 12, 1046, 31, 1195], [1, 54, 201, 123, 2969, 7, 80, 919, 981, 1, 1090, 3996, 6, 1, 414, 5279, 32, 80, 66, 431, 3218, 32, 284, 1, 512, 66, 431, 3, 5, 5, 1, 4579, 66, 431, 6, 370, 1, 219, 6629, 4, 1, 54, 123, 1205, 1, 80, 919, 20, 32, 66, 431, 422], [124, 5, 523, 4, 3935, 97, 11, 1266, 20, 338, 1226, 38, 1379, 59, 1, 446, 1829, 3, 658, 10, 24, 988, 251, 43, 82, 25, 254, 1906, 3, 4765, 5, 74, 7782, 2, 914, 233, 3935, 97, 39, 231, 10, 22, 709, 300, 3253, 3, 5626, 539, 1, 1829]]\n"
     ]
    }
   ],
   "source": [
    "# 텍스트 시퀀스를 정수 시퀀스로 변환\n",
    "encoder_input_train = src_tokenizer.texts_to_sequences(encoder_input_train) \n",
    "encoder_input_test = src_tokenizer.texts_to_sequences(encoder_input_test)\n",
    "\n",
    "# 정수로 잘 변경되었는지 샘플 출력\n",
    "print(encoder_input_train[:3])"
   ]
  },
  {
   "cell_type": "code",
   "execution_count": 30,
   "id": "differential-cooler",
   "metadata": {},
   "outputs": [],
   "source": [
    "# Summary 데이터에 동일 작업 진행, 훈련 데이터로 부터 단어 집합 만들기\n",
    "\n",
    "tar_tokenizer = Tokenizer()\n",
    "tar_tokenizer.fit_on_texts(decoder_input_train)"
   ]
  },
  {
   "cell_type": "markdown",
   "id": "voluntary-christianity",
   "metadata": {},
   "source": [
    "- 단어집합 만들기 > 빈도수 낮은 단어들 훈련데이터에서 제외 > 희귀 단어 집합 크기 제외 > 정수시퀀스로 변환"
   ]
  },
  {
   "cell_type": "code",
   "execution_count": 31,
   "id": "seven-modem",
   "metadata": {},
   "outputs": [
    {
     "name": "stdout",
     "output_type": "stream",
     "text": [
      "단어 집합(vocabulary)의 크기 : 20952\n",
      "등장 빈도가 5번 이하인 희귀 단어의 수: 15102\n",
      "단어 집합에서 희귀 단어를 제외시킬 경우의 단어 집합의 크기 5850\n",
      "단어 집합에서 희귀 단어의 비율: 72.07903780068729\n",
      "전체 등장 빈도에서 희귀 단어 등장 빈도 비율: 12.10443373126488\n"
     ]
    }
   ],
   "source": [
    "# 빈도수가 낮은 단어들은 훈련 데이터에서 제외\n",
    "\n",
    "threshold = 6\n",
    "total_cnt = len(tar_tokenizer.word_index) # 단어의 수\n",
    "rare_cnt = 0 # 등장 빈도수가 threshold보다 작은 단어의 개수를 카운트\n",
    "total_freq = 0 # 훈련 데이터의 전체 단어 빈도수 총 합\n",
    "rare_freq = 0 # 등장 빈도수가 threshold보다 작은 단어의 등장 빈도수의 총 합\n",
    "\n",
    "# 단어와 빈도수의 쌍(pair)을 key와 value로 받는다.\n",
    "for key, value in tar_tokenizer.word_counts.items():\n",
    "    total_freq = total_freq + value\n",
    "\n",
    "    # 단어의 등장 빈도수가 threshold보다 작으면\n",
    "    if(value < threshold):\n",
    "        rare_cnt = rare_cnt + 1\n",
    "        rare_freq = rare_freq + value\n",
    "\n",
    "print('단어 집합(vocabulary)의 크기 :', total_cnt)\n",
    "print('등장 빈도가 %s번 이하인 희귀 단어의 수: %s'%(threshold - 1, rare_cnt))\n",
    "print('단어 집합에서 희귀 단어를 제외시킬 경우의 단어 집합의 크기 %s'%(total_cnt - rare_cnt))\n",
    "print(\"단어 집합에서 희귀 단어의 비율:\", (rare_cnt / total_cnt)*100)\n",
    "print(\"전체 등장 빈도에서 희귀 단어 등장 빈도 비율:\", (rare_freq / total_freq)*100)"
   ]
  },
  {
   "cell_type": "code",
   "execution_count": 32,
   "id": "announced-outside",
   "metadata": {},
   "outputs": [
    {
     "name": "stdout",
     "output_type": "stream",
     "text": [
      "input\n",
      "input  [[1, 911, 638, 817, 469, 22], [1, 12, 118, 82, 605, 1512], [1, 124, 886, 499, 72, 546], [1, 442, 28, 606, 91], [1, 581, 199]]\n",
      "target\n",
      "decoder  [[911, 638, 817, 469, 22, 2], [12, 118, 82, 605, 1512, 2], [124, 886, 499, 72, 546, 2], [442, 28, 606, 91, 2], [581, 199, 2]]\n"
     ]
    }
   ],
   "source": [
    "# 기준 : 위의 단어 집합에서 5번 이하 단어를 제외시킬 경우의 단어 집합의 크기 5885 \n",
    "\n",
    "tar_vocab = 2000  \n",
    "tar_tokenizer = Tokenizer(num_words=tar_vocab) \n",
    "tar_tokenizer.fit_on_texts(decoder_input_train)\n",
    "tar_tokenizer.fit_on_texts(decoder_target_train)\n",
    "\n",
    "# 텍스트 시퀀스를 정수 시퀀스로 변환\n",
    "decoder_input_train = tar_tokenizer.texts_to_sequences(decoder_input_train) \n",
    "decoder_target_train = tar_tokenizer.texts_to_sequences(decoder_target_train)\n",
    "decoder_input_test = tar_tokenizer.texts_to_sequences(decoder_input_test)\n",
    "decoder_target_test = tar_tokenizer.texts_to_sequences(decoder_target_test)\n",
    "\n",
    "# 정수로 잘 변경되었는지 샘플 출력\n",
    "print('input')\n",
    "print('input ',decoder_input_train[:5])\n",
    "print('target')\n",
    "print('decoder ',decoder_target_train[:5])"
   ]
  },
  {
   "cell_type": "markdown",
   "id": "ceramic-tennis",
   "metadata": {},
   "source": [
    "- 기준 : 위의 단어 집합에서 5번 이하 단어를 제외시킬 경우 단어 집합의 크기 5885, 학습한 LMS 노드 기준이 2000로 나와있어 그대로 적용"
   ]
  },
  {
   "cell_type": "code",
   "execution_count": 33,
   "id": "optimum-kansas",
   "metadata": {},
   "outputs": [
    {
     "name": "stdout",
     "output_type": "stream",
     "text": [
      "삭제할 훈련 데이터의 개수 : 117\n",
      "삭제할 테스트 데이터의 개수 : 34\n",
      "훈련 데이터의 개수 : 31823\n",
      "훈련 레이블의 개수 : 31823\n",
      "테스트 데이터의 개수 : 7950\n",
      "테스트 레이블의 개수 : 7950\n"
     ]
    },
    {
     "name": "stderr",
     "output_type": "stream",
     "text": [
      "/opt/conda/lib/python3.7/site-packages/numpy/core/_asarray.py:83: VisibleDeprecationWarning: Creating an ndarray from ragged nested sequences (which is a list-or-tuple of lists-or-tuples-or ndarrays with different lengths or shapes) is deprecated. If you meant to do this, you must specify 'dtype=object' when creating the ndarray\n",
      "  return array(a, dtype, copy=False, order=order)\n"
     ]
    }
   ],
   "source": [
    "drop_train = [index for index, sentence in enumerate(decoder_input_train) if len(sentence) == 1]\n",
    "drop_test = [index for index, sentence in enumerate(decoder_input_test) if len(sentence) == 1]\n",
    "\n",
    "print('삭제할 훈련 데이터의 개수 :', len(drop_train))\n",
    "print('삭제할 테스트 데이터의 개수 :', len(drop_test))\n",
    "\n",
    "encoder_input_train = np.delete(encoder_input_train, drop_train, axis=0)\n",
    "decoder_input_train = np.delete(decoder_input_train, drop_train, axis=0)\n",
    "decoder_target_train = np.delete(decoder_target_train, drop_train, axis=0)\n",
    "\n",
    "encoder_input_test = np.delete(encoder_input_test, drop_test, axis=0)\n",
    "decoder_input_test = np.delete(decoder_input_test, drop_test, axis=0)\n",
    "decoder_target_test = np.delete(decoder_target_test, drop_test, axis=0)\n",
    "\n",
    "print('훈련 데이터의 개수 :', len(encoder_input_train))\n",
    "print('훈련 레이블의 개수 :', len(decoder_input_train))\n",
    "print('테스트 데이터의 개수 :', len(encoder_input_test))\n",
    "print('테스트 레이블의 개수 :', len(decoder_input_test))"
   ]
  },
  {
   "cell_type": "markdown",
   "id": "mobile-barbados",
   "metadata": {},
   "source": [
    "### 2-8. 패딩하기"
   ]
  },
  {
   "cell_type": "code",
   "execution_count": 34,
   "id": "parliamentary-lawsuit",
   "metadata": {},
   "outputs": [],
   "source": [
    "# 패딩하기, 전처리 완료\n",
    "\n",
    "encoder_input_train = pad_sequences(encoder_input_train, maxlen=text_max_len, padding='post')\n",
    "encoder_input_test = pad_sequences(encoder_input_test, maxlen=text_max_len, padding='post')\n",
    "decoder_input_train = pad_sequences(decoder_input_train, maxlen=headlines_max_len, padding='post')\n",
    "decoder_target_train = pad_sequences(decoder_target_train, maxlen=headlines_max_len, padding='post')\n",
    "decoder_input_test = pad_sequences(decoder_input_test, maxlen=headlines_max_len, padding='post')\n",
    "decoder_target_test = pad_sequences(decoder_target_test, maxlen=headlines_max_len, padding='post')"
   ]
  },
  {
   "cell_type": "markdown",
   "id": "temporal-footwear",
   "metadata": {},
   "source": [
    "## Step 3. 어텐션 메커니즘 사용하기 (추상적 요약)\n",
    "\n",
    "일반적인 seq2seq보다는 어텐션 메커니즘을 사용한 seq2seq를 사용하는 것이 더 나은 성능을 얻을 수 있어요.\n",
    "실습 내용을 참고하여 어텐션 메커니즘을 사용한 seq2seq를 설계해 보세요."
   ]
  },
  {
   "cell_type": "markdown",
   "id": "rental-fishing",
   "metadata": {},
   "source": [
    "### 3-1. 함수형 API를 이용해서 인코더를 설계"
   ]
  },
  {
   "cell_type": "code",
   "execution_count": 35,
   "id": "deadly-snapshot",
   "metadata": {},
   "outputs": [
    {
     "name": "stdout",
     "output_type": "stream",
     "text": [
      "WARNING:tensorflow:Layer lstm will not use cuDNN kernel since it doesn't meet the cuDNN kernel criteria. It will use generic GPU kernel as fallback when running on GPU\n",
      "WARNING:tensorflow:Layer lstm_1 will not use cuDNN kernel since it doesn't meet the cuDNN kernel criteria. It will use generic GPU kernel as fallback when running on GPU\n",
      "WARNING:tensorflow:Layer lstm_2 will not use cuDNN kernel since it doesn't meet the cuDNN kernel criteria. It will use generic GPU kernel as fallback when running on GPU\n"
     ]
    }
   ],
   "source": [
    "# 함수형 API를 이용해서 인코더를 설계\n",
    "\n",
    "from tensorflow.keras.layers import Input, LSTM, Embedding, Dense, Concatenate\n",
    "from tensorflow.keras.models import Model\n",
    "from tensorflow.keras.callbacks import EarlyStopping, ModelCheckpoint\n",
    "\n",
    "\n",
    "# 인코더 설계 시작\n",
    "embedding_dim = 128\n",
    "hidden_size = 256  # LSTM에서 얼만큼의 수용력(capacity)를 가질지를 정하는 파라미터(LSTM의 용량의 크기나, LSTM에서의 뉴런의 개수)\n",
    "\n",
    "# 인코더\n",
    "encoder_inputs = Input(shape=(text_max_len,))\n",
    "\n",
    "# 인코더의 임베딩 층\n",
    "enc_emb = Embedding(src_vocab, embedding_dim)(encoder_inputs)\n",
    "\n",
    "# 인코더의 LSTM 1\n",
    "encoder_lstm1 = LSTM(hidden_size, return_sequences=True, return_state=True ,dropout = 0.4, recurrent_dropout = 0.4)\n",
    "encoder_output1, state_h1, state_c1 = encoder_lstm1(enc_emb)\n",
    "\n",
    "# 인코더의 LSTM 2\n",
    "encoder_lstm2 = LSTM(hidden_size, return_sequences=True, return_state=True, dropout=0.4, recurrent_dropout=0.4)\n",
    "encoder_output2, state_h2, state_c2 = encoder_lstm2(encoder_output1)\n",
    "\n",
    "# 인코더의 LSTM 3\n",
    "encoder_lstm3 = LSTM(hidden_size, return_state=True, return_sequences=True, dropout=0.4, recurrent_dropout=0.4)\n",
    "encoder_outputs, state_h, state_c= encoder_lstm3(encoder_output2)"
   ]
  },
  {
   "cell_type": "markdown",
   "id": "second-strengthening",
   "metadata": {},
   "source": [
    "### 3-2. 디코더 설계"
   ]
  },
  {
   "cell_type": "code",
   "execution_count": 36,
   "id": "bacterial-southeast",
   "metadata": {},
   "outputs": [
    {
     "name": "stdout",
     "output_type": "stream",
     "text": [
      "WARNING:tensorflow:Layer lstm_3 will not use cuDNN kernel since it doesn't meet the cuDNN kernel criteria. It will use generic GPU kernel as fallback when running on GPU\n"
     ]
    }
   ],
   "source": [
    "# 디코더 설계\n",
    "decoder_inputs = Input(shape=(None,))\n",
    "\n",
    "# 디코더의 임베딩 층\n",
    "dec_emb_layer = Embedding(tar_vocab, embedding_dim)\n",
    "dec_emb = dec_emb_layer(decoder_inputs)\n",
    "\n",
    "# 디코더의 LSTM\n",
    "decoder_lstm = LSTM(hidden_size, return_sequences=True, return_state=True, dropout=0.4, recurrent_dropout=0.2)\n",
    "decoder_outputs, _, _ = decoder_lstm(dec_emb, initial_state=[state_h, state_c])"
   ]
  },
  {
   "cell_type": "code",
   "execution_count": 37,
   "id": "level-jesus",
   "metadata": {},
   "outputs": [
    {
     "name": "stdout",
     "output_type": "stream",
     "text": [
      "Model: \"model\"\n",
      "__________________________________________________________________________________________________\n",
      "Layer (type)                    Output Shape         Param #     Connected to                     \n",
      "==================================================================================================\n",
      "input_1 (InputLayer)            [(None, 57)]         0                                            \n",
      "__________________________________________________________________________________________________\n",
      "embedding (Embedding)           (None, 57, 128)      1024000     input_1[0][0]                    \n",
      "__________________________________________________________________________________________________\n",
      "lstm (LSTM)                     [(None, 57, 256), (N 394240      embedding[0][0]                  \n",
      "__________________________________________________________________________________________________\n",
      "input_2 (InputLayer)            [(None, None)]       0                                            \n",
      "__________________________________________________________________________________________________\n",
      "lstm_1 (LSTM)                   [(None, 57, 256), (N 525312      lstm[0][0]                       \n",
      "__________________________________________________________________________________________________\n",
      "embedding_1 (Embedding)         (None, None, 128)    256000      input_2[0][0]                    \n",
      "__________________________________________________________________________________________________\n",
      "lstm_2 (LSTM)                   [(None, 57, 256), (N 525312      lstm_1[0][0]                     \n",
      "__________________________________________________________________________________________________\n",
      "lstm_3 (LSTM)                   [(None, None, 256),  394240      embedding_1[0][0]                \n",
      "                                                                 lstm_2[0][1]                     \n",
      "                                                                 lstm_2[0][2]                     \n",
      "__________________________________________________________________________________________________\n",
      "dense (Dense)                   (None, None, 2000)   514000      lstm_3[0][0]                     \n",
      "==================================================================================================\n",
      "Total params: 3,633,104\n",
      "Trainable params: 3,633,104\n",
      "Non-trainable params: 0\n",
      "__________________________________________________________________________________________________\n"
     ]
    }
   ],
   "source": [
    "# 디코더 출력층 설계\n",
    "\n",
    "# 디코더의 출력층\n",
    "decoder_softmax_layer = Dense(tar_vocab, activation='softmax')\n",
    "decoder_softmax_outputs = decoder_softmax_layer(decoder_outputs) \n",
    "\n",
    "# 모델 정의\n",
    "model = Model([encoder_inputs, decoder_inputs], decoder_softmax_outputs)\n",
    "model.summary()"
   ]
  },
  {
   "cell_type": "markdown",
   "id": "aware-isolation",
   "metadata": {},
   "source": [
    "### 3-3. 어텐션 메커니즘\n",
    "\n",
    "- 또 다른 신경망 생성"
   ]
  },
  {
   "cell_type": "code",
   "execution_count": 38,
   "id": "useful-upgrade",
   "metadata": {},
   "outputs": [],
   "source": [
    "# 공개되어 있는 어텐션 함수 다운로드\n",
    "\n",
    "urllib.request.urlretrieve(\"https://raw.githubusercontent.com/thushv89/attention_keras/master/src/layers/attention.py\", filename=\"attention.py\")\n",
    "from attention import AttentionLayer"
   ]
  },
  {
   "cell_type": "code",
   "execution_count": 39,
   "id": "coral-argument",
   "metadata": {},
   "outputs": [
    {
     "name": "stdout",
     "output_type": "stream",
     "text": [
      "Model: \"model_1\"\n",
      "__________________________________________________________________________________________________\n",
      "Layer (type)                    Output Shape         Param #     Connected to                     \n",
      "==================================================================================================\n",
      "input_1 (InputLayer)            [(None, 57)]         0                                            \n",
      "__________________________________________________________________________________________________\n",
      "embedding (Embedding)           (None, 57, 128)      1024000     input_1[0][0]                    \n",
      "__________________________________________________________________________________________________\n",
      "lstm (LSTM)                     [(None, 57, 256), (N 394240      embedding[0][0]                  \n",
      "__________________________________________________________________________________________________\n",
      "input_2 (InputLayer)            [(None, None)]       0                                            \n",
      "__________________________________________________________________________________________________\n",
      "lstm_1 (LSTM)                   [(None, 57, 256), (N 525312      lstm[0][0]                       \n",
      "__________________________________________________________________________________________________\n",
      "embedding_1 (Embedding)         (None, None, 128)    256000      input_2[0][0]                    \n",
      "__________________________________________________________________________________________________\n",
      "lstm_2 (LSTM)                   [(None, 57, 256), (N 525312      lstm_1[0][0]                     \n",
      "__________________________________________________________________________________________________\n",
      "lstm_3 (LSTM)                   [(None, None, 256),  394240      embedding_1[0][0]                \n",
      "                                                                 lstm_2[0][1]                     \n",
      "                                                                 lstm_2[0][2]                     \n",
      "__________________________________________________________________________________________________\n",
      "attention_layer (AttentionLayer ((None, None, 256),  131328      lstm_2[0][0]                     \n",
      "                                                                 lstm_3[0][0]                     \n",
      "__________________________________________________________________________________________________\n",
      "concat_layer (Concatenate)      (None, None, 512)    0           lstm_3[0][0]                     \n",
      "                                                                 attention_layer[0][0]            \n",
      "__________________________________________________________________________________________________\n",
      "dense_1 (Dense)                 (None, None, 2000)   1026000     concat_layer[0][0]               \n",
      "==================================================================================================\n",
      "Total params: 4,276,432\n",
      "Trainable params: 4,276,432\n",
      "Non-trainable params: 0\n",
      "__________________________________________________________________________________________________\n"
     ]
    }
   ],
   "source": [
    "# 어텐션 층(어텐션 함수)\n",
    "attn_layer = AttentionLayer(name='attention_layer')\n",
    "# 인코더와 디코더의 모든 time step의 hidden state를 어텐션 층에 전달하고 결과를 리턴\n",
    "attn_out, attn_states = attn_layer([encoder_outputs, decoder_outputs])\n",
    "\n",
    "# 어텐션의 결과와 디코더의 hidden state들을 연결\n",
    "decoder_concat_input = Concatenate(axis=-1, name='concat_layer')([decoder_outputs, attn_out])\n",
    "\n",
    "# 디코더의 출력층\n",
    "decoder_softmax_layer = Dense(tar_vocab, activation='softmax')\n",
    "decoder_softmax_outputs = decoder_softmax_layer(decoder_concat_input)\n",
    "\n",
    "# 모델 정의\n",
    "model = Model([encoder_inputs, decoder_inputs], decoder_softmax_outputs)\n",
    "model.summary()"
   ]
  },
  {
   "cell_type": "markdown",
   "id": "everyday-techno",
   "metadata": {},
   "source": [
    "### 3-4. 모델 훈련하기\n",
    "- EarlyStopping(조기종료) : 검증 데이터의 손실이 줄어들지 않고 증가하는 현상이 patience=2(2회) 관측되면 학습을 멈추도록 설정"
   ]
  },
  {
   "cell_type": "code",
   "execution_count": 40,
   "id": "american-paste",
   "metadata": {},
   "outputs": [
    {
     "name": "stdout",
     "output_type": "stream",
     "text": [
      "Epoch 1/25\n",
      "125/125 [==============================] - 112s 811ms/step - loss: 5.1127 - val_loss: 4.4040\n",
      "Epoch 2/25\n",
      "125/125 [==============================] - 100s 801ms/step - loss: 4.3896 - val_loss: 4.2321\n",
      "Epoch 3/25\n",
      "125/125 [==============================] - 100s 804ms/step - loss: 4.2172 - val_loss: 4.0567\n",
      "Epoch 4/25\n",
      "125/125 [==============================] - 100s 803ms/step - loss: 4.0128 - val_loss: 3.9262\n",
      "Epoch 5/25\n",
      "125/125 [==============================] - 100s 801ms/step - loss: 3.8288 - val_loss: 3.7977\n",
      "Epoch 6/25\n",
      "125/125 [==============================] - 100s 800ms/step - loss: 3.6974 - val_loss: 3.6843\n",
      "Epoch 7/25\n",
      "125/125 [==============================] - 100s 801ms/step - loss: 3.5506 - val_loss: 3.5742\n",
      "Epoch 8/25\n",
      "125/125 [==============================] - 100s 803ms/step - loss: 3.4285 - val_loss: 3.5069\n",
      "Epoch 9/25\n",
      "125/125 [==============================] - 100s 803ms/step - loss: 3.3026 - val_loss: 3.4456\n",
      "Epoch 10/25\n",
      "125/125 [==============================] - 101s 811ms/step - loss: 3.1732 - val_loss: 3.3758\n",
      "Epoch 11/25\n",
      "125/125 [==============================] - 100s 803ms/step - loss: 3.0857 - val_loss: 3.3448\n",
      "Epoch 12/25\n",
      "125/125 [==============================] - 100s 804ms/step - loss: 2.9929 - val_loss: 3.3063\n",
      "Epoch 13/25\n",
      "125/125 [==============================] - 100s 803ms/step - loss: 2.8953 - val_loss: 3.2643\n",
      "Epoch 14/25\n",
      "125/125 [==============================] - 100s 800ms/step - loss: 2.8233 - val_loss: 3.2399\n",
      "Epoch 15/25\n",
      "125/125 [==============================] - 100s 800ms/step - loss: 2.7504 - val_loss: 3.2336\n",
      "Epoch 16/25\n",
      "125/125 [==============================] - 100s 800ms/step - loss: 2.6687 - val_loss: 3.2066\n",
      "Epoch 17/25\n",
      "125/125 [==============================] - 100s 800ms/step - loss: 2.6108 - val_loss: 3.2087\n",
      "Epoch 18/25\n",
      "125/125 [==============================] - 100s 801ms/step - loss: 2.5362 - val_loss: 3.1845\n",
      "Epoch 19/25\n",
      "125/125 [==============================] - 101s 805ms/step - loss: 2.4857 - val_loss: 3.1975\n",
      "Epoch 20/25\n",
      "125/125 [==============================] - 100s 800ms/step - loss: 2.4178 - val_loss: 3.1807\n",
      "Epoch 21/25\n",
      "125/125 [==============================] - 100s 800ms/step - loss: 2.3645 - val_loss: 3.1677\n",
      "Epoch 22/25\n",
      "125/125 [==============================] - 100s 800ms/step - loss: 2.2989 - val_loss: 3.1681\n",
      "Epoch 23/25\n",
      "125/125 [==============================] - 100s 801ms/step - loss: 2.2496 - val_loss: 3.1735\n",
      "Epoch 00023: early stopping\n"
     ]
    }
   ],
   "source": [
    "# 훈련 진행\n",
    "\n",
    "model.compile(optimizer='rmsprop', loss='sparse_categorical_crossentropy')\n",
    "es = EarlyStopping(monitor='val_loss', patience=2, verbose=1)  \n",
    "history = model.fit(x=[encoder_input_train, decoder_input_train], y=decoder_target_train, \\\n",
    "          validation_data=([encoder_input_test, decoder_input_test], decoder_target_test), \\\n",
    "          batch_size=256, callbacks=[es], epochs=25)"
   ]
  },
  {
   "cell_type": "code",
   "execution_count": 41,
   "id": "fresh-irrigation",
   "metadata": {},
   "outputs": [
    {
     "data": {
      "image/png": "[encoded data removed]",
      "text/plain": [
       "<Figure size 432x288 with 1 Axes>"
      ]
     },
     "metadata": {
      "needs_background": "light"
     },
     "output_type": "display_data"
    }
   ],
   "source": [
    "# 훈련 데이터의 손실과 검증 데이터의 손실이 줄어드는 과정을 시각화\n",
    "\n",
    "plt.plot(history.history['loss'], label='train')\n",
    "plt.plot(history.history['val_loss'], label='test')\n",
    "plt.legend()\n",
    "plt.show()"
   ]
  },
  {
   "cell_type": "markdown",
   "id": "starting-guatemala",
   "metadata": {},
   "source": [
    "- test에서의 loss 값이 3.5 내외에서 줄어들지 않는 문제가 생긴 것을 알 수 있습니다. (아마도 overfitting or 다른 문제로 추측\n",
    ")"
   ]
  },
  {
   "cell_type": "markdown",
   "id": "banned-manhattan",
   "metadata": {},
   "source": [
    "### 3-5. 인퍼런스 모델 구현"
   ]
  },
  {
   "cell_type": "code",
   "execution_count": 42,
   "id": "genetic-sound",
   "metadata": {},
   "outputs": [],
   "source": [
    "src_index_to_word = src_tokenizer.index_word # 원문 단어 집합에서 정수 -> 단어를 얻음\n",
    "tar_word_to_index = tar_tokenizer.word_index # 요약 단어 집합에서 단어 -> 정수를 얻음\n",
    "tar_index_to_word = tar_tokenizer.index_word # 요약 단어 집합에서 정수 -> 단어를 얻음"
   ]
  },
  {
   "cell_type": "code",
   "execution_count": 43,
   "id": "premier-criticism",
   "metadata": {},
   "outputs": [],
   "source": [
    "# 인코더 설계\n",
    "encoder_model = Model(inputs=encoder_inputs, outputs=[encoder_outputs, state_h, state_c])\n",
    "\n",
    "# 이전 시점의 상태들을 저장하는 텐서\n",
    "decoder_state_input_h = Input(shape=(hidden_size,))\n",
    "decoder_state_input_c = Input(shape=(hidden_size,))\n",
    "\n",
    "dec_emb2 = dec_emb_layer(decoder_inputs)\n",
    "\n",
    "# 문장의 다음 단어를 예측하기 위해서 초기 상태(initial_state)를 이전 시점의 상태로 사용. 이는 뒤의 함수 decode_sequence()에 구현\n",
    "# 훈련 과정에서와 달리 LSTM의 리턴하는 은닉 상태와 셀 상태인 state_h와 state_c를 버리지 않음.\n",
    "decoder_outputs2, state_h2, state_c2 = decoder_lstm(dec_emb2, initial_state=[decoder_state_input_h, decoder_state_input_c])"
   ]
  },
  {
   "cell_type": "code",
   "execution_count": 44,
   "id": "defined-designation",
   "metadata": {},
   "outputs": [],
   "source": [
    "# 어텐션 함수\n",
    "decoder_hidden_state_input = Input(shape=(text_max_len, hidden_size))\n",
    "attn_out_inf, attn_states_inf = attn_layer([decoder_hidden_state_input, decoder_outputs2])\n",
    "decoder_inf_concat = Concatenate(axis=-1, name='concat')([decoder_outputs2, attn_out_inf])\n",
    "\n",
    "# 디코더의 출력층\n",
    "decoder_outputs2 = decoder_softmax_layer(decoder_inf_concat) \n",
    "\n",
    "# 최종 디코더 모델\n",
    "decoder_model = Model(\n",
    "    [decoder_inputs] + [decoder_hidden_state_input,decoder_state_input_h, decoder_state_input_c],\n",
    "    [decoder_outputs2] + [state_h2, state_c2])"
   ]
  },
  {
   "cell_type": "code",
   "execution_count": 45,
   "id": "cellular-thing",
   "metadata": {},
   "outputs": [],
   "source": [
    "def decode_sequence(input_seq):\n",
    "    # 입력으로부터 인코더의 상태를 얻음\n",
    "    e_out, e_h, e_c = encoder_model.predict(input_seq)\n",
    "\n",
    "     # <SOS>에 해당하는 토큰 생성\n",
    "    target_seq = np.zeros((1,1))\n",
    "    target_seq[0, 0] = tar_word_to_index['sostoken']\n",
    "\n",
    "    stop_condition = False\n",
    "    decoded_sentence = ''\n",
    "    while not stop_condition: # stop_condition이 True가 될 때까지 루프 반복\n",
    "\n",
    "        output_tokens, h, c = decoder_model.predict([target_seq] + [e_out, e_h, e_c])\n",
    "        sampled_token_index = np.argmax(output_tokens[0, -1, :])\n",
    "        sampled_token = tar_index_to_word[sampled_token_index]\n",
    "\n",
    "        if (sampled_token!='eostoken'):\n",
    "            decoded_sentence += ' '+sampled_token\n",
    "\n",
    "        #  <eos>에 도달하거나 최대 길이를 넘으면 중단.\n",
    "        if (sampled_token == 'eostoken'  or len(decoded_sentence.split()) >= (headlines_max_len-1)):\n",
    "            stop_condition = True\n",
    "\n",
    "        # 길이가 1인 타겟 시퀀스를 업데이트\n",
    "        target_seq = np.zeros((1,1))\n",
    "        target_seq[0, 0] = sampled_token_index\n",
    "\n",
    "        # 상태를 업데이트 합니다.\n",
    "        e_h, e_c = h, c\n",
    "\n",
    "    return decoded_sentence"
   ]
  },
  {
   "cell_type": "markdown",
   "id": "alert-skill",
   "metadata": {},
   "source": [
    "### 3-6. 모델 테스트"
   ]
  },
  {
   "cell_type": "code",
   "execution_count": 46,
   "id": "reverse-donna",
   "metadata": {},
   "outputs": [],
   "source": [
    "# 원문의 정수 시퀀스를 텍스트 시퀀스로 변환\n",
    "def seq2text(input_seq):\n",
    "    temp=''\n",
    "    for i in input_seq:\n",
    "        if (i!=0):\n",
    "            temp = temp + src_index_to_word[i]+' '\n",
    "    return temp\n",
    "\n",
    "# 요약문의 정수 시퀀스를 텍스트 시퀀스로 변환\n",
    "def seq2summary(input_seq):\n",
    "    temp=''\n",
    "    for i in input_seq:\n",
    "        if ((i!=0 and i!=tar_word_to_index['sostoken']) and i!=tar_word_to_index['eostoken']):\n",
    "            temp = temp + tar_index_to_word[i] + ' '\n",
    "    return temp"
   ]
  },
  {
   "cell_type": "markdown",
   "id": "mechanical-nerve",
   "metadata": {},
   "source": [
    "## Step 4. 실제 결과와 요약문 비교하기 (추상적 요약)\n",
    "\n",
    "원래의 요약문(headlines 열)과 학습을 통해 얻은 추상적 요약의 결과를 비교해 보세요."
   ]
  },
  {
   "cell_type": "code",
   "execution_count": 47,
   "id": "atmospheric-richardson",
   "metadata": {},
   "outputs": [
    {
     "name": "stdout",
     "output_type": "stream",
     "text": [
      "원문 : in safety alert email united airlines on saturday warned employees that cockpit door access information may have been made public and security codes compromised by mistake united spokesperson king said this was not hack or breach and the federal aviation administration was informed sharing sensitive information with anyone unauthorised is prohibited united staff \n",
      "실제 요약 : united airlines warns may leaked \n",
      "예측 요약 :  shut shut facebook data breach\n",
      "\n",
      "\n",
      "원문 : talking about the box office success of his recent release race actor bobby deol said if was so bad it would not have worked bobby added that he is very happy that people his work and said he wants to continue doing such films the film earned crore within three days of its release \n",
      "실제 요약 : race would worked bad \n",
      "예측 요약 :  baahubali films\n",
      "\n",
      "\n",
      "원문 : software engineer in hyderabad was arrested on sunday for allegedly sharing intimate pictures and videos of his girlfriend with his friends on whatsapp the man was arrested on the basis of complaint filed by the woman who came to know about his action after relative informed her about the pictures and videos being circulated on whatsapp \n",
      "실제 요약 : man held sharing pics girlfriend whatsapp \n",
      "예측 요약 :  girl affair\n",
      "\n",
      "\n",
      "원문 : floods and landslides in sri lanka have killed at least people while remained missing after rain officials said on friday the early season have forced hundreds of people from their homes across the country around military personnel have been deployed with boats and helicopters to help the police and civilian agencies \n",
      "실제 요약 : floods kill sri lanka \n",
      "예측 요약 :  floods due cyclone\n",
      "\n",
      "\n",
      "원문 : ex employee of former ceo martin shkreli fund has that shkreli sent letter to his wife in which he said hope to see you and your four children homeless accusing the ex employee of stealing million shkreli in the letter said making an enemy out of me is mistake \n",
      "실제 요약 : hope see homeless ex employee family \n",
      "예측 요약 :  ceo denies sexual harassment\n",
      "\n",
      "\n",
      "원문 : hospital in australia pays up to year for delivering five times week who must be at healthy weight need to take blood test to determine their eligibility are used to help treat medical conditions like and \n",
      "실제 요약 : australian hospital pays lakh year \n",
      "예측 요약 :  boy\n",
      "\n",
      "\n",
      "원문 : three persons died and more than were injured while working at the delhi metro between according to an rti reply while two died due to one passed away after coming under train the nature of the injuries from falling from an electric pole while to getting injured while cleaning trains metro officials said \n",
      "실제 요약 : delhi metro workers died injured yrs rti \n",
      "예측 요약 :  dead fire delhi metro station\n",
      "\n",
      "\n",
      "원문 : over buses in mumbai most of which are tourist buses have threatened two day strike from tuesday over traffic police order entry of buses in south mumbai from am till midnight the strike will reportedly affect inter state and state bus services the entry of buses was banned to south mumbai police said \n",
      "실제 요약 : buses mumbai go day strike \n",
      "예측 요약 :  children missing heavy heavy\n",
      "\n",
      "\n",
      "원문 : according to einstein special theory of an astronaut travelling in space with his twin staying back at earth may age due to phenomenon called time einstein treated time as relative which on an relative speed to another however the effects could due to gravitational forces too \n",
      "실제 요약 : age space travel \n",
      "예측 요약 :  woman st time\n",
      "\n",
      "\n",
      "원문 : the government on wednesday extended the deadline for linking of aadhaar with bank accounts to march or months from the date of of account is later earlier in the day the government had withdrawn the december deadline last week the deadline for linking of aadhaar with pan was also extended to march \n",
      "실제 요약 : deadline aadhaar bank extended \n",
      "예측 요약 :  aadhaar extended deadline\n",
      "\n",
      "\n",
      "원문 : the income tax department search at karnataka energy minister dk shivakumar bengaluru residence on august has reportedly nothing copy of the of the raid showed that no money or jewellery was found at his residence karnataka cm siddaramaiah backed shivakumar and called the raids aimed at the minister as and political conspiracy \n",
      "실제 요약 : taka minister nothing report \n",
      "예측 요약 :  centre approves gst\n",
      "\n",
      "\n",
      "원문 : south korean pharmaceutical firm market value has surged by billion to billion in just seven days has replaced south korea largest automaker motor to become the country third largest company by market capitalisation samsung electronics is the most valuable company in south korea with market capitalisation of about billion \n",
      "실제 요약 : south korean value rises billion days \n",
      "예측 요약 :  market value value bn\n",
      "\n",
      "\n",
      "원문 : mob allegedly vandalised police station in mumbai on saturday where man was kept after being arrested for an objectionable post on social media the demanded the accused be handed over to them and they also set some police vehicles on fire outside the police station people were later arrested for the police said \n",
      "실제 요약 : mob police station mumbai man arrest \n",
      "예측 요약 :  delhi man arrested man\n",
      "\n",
      "\n",
      "원문 : nearly newspaper vendors have asked the authorities to stop the ongoing drive against them which was started after people were killed in stampede at mumbai elphinstone road railway station last month the vendors have also demanded the status of essential service providers as they are one of the communication channels between the government and people \n",
      "실제 요약 : mumbai seek protection drive \n",
      "예측 요약 :  cases mumbai mumbai\n",
      "\n",
      "\n",
      "원문 : the family of the jammu and kashmir police officer who was lynched by mob in srinagar asked is this the we are fighting for the family further asked what state we have reached that we kill person outside mosque on an night without any reason is this what the religion has taught us \n",
      "실제 요약 : asks cop kin \n",
      "예측 요약 :  police police\n",
      "\n",
      "\n",
      "원문 : driver from cab hailing platform has claimed he found google smartphone pixel in his cab after he dropped off some passengers the driver who earlier thought the phone was his own pixel took pictures of the phone before returning it to the owner the phone pictures show it features \n",
      "실제 요약 : passenger google phone report \n",
      "예측 요약 :  man loses lakh\n",
      "\n",
      "\n",
      "원문 : england woman cricketer who asked virat kohli to marry her on twitter in has revealed that the indian captain told her not to do things like that on twitter he said to me they take things seriously was like okay sorry added kohli gifted bat when they met during india england tour in \n",
      "실제 요약 : cannot tweet kohli player proposed \n",
      "예측 요약 :  cannot kohli kohli\n",
      "\n",
      "\n",
      "원문 : at least people including an officer were killed after gunman opened fire inside bar in california us on late wednesday the office said the venue was hosting college event and there were possibly several hundred people inside the gunman was shot dead by the police \n",
      "실제 요약 : dead opens fire inside california bar \n",
      "예측 요약 :  killed injured shooting\n",
      "\n",
      "\n",
      "원문 : agarwal the employee who was arrested for leaking details about nuclear capable missile to an isi from pakistan was lured with job offer of per month in canada according to reports canada based woman reportedly sent malware link to on linkedin through which substantial data was stolen from his computer \n",
      "실제 요약 : arrested employee leaked job reports \n",
      "예측 요약 :  man arrested iran iran\n",
      "\n",
      "\n",
      "원문 : facebook ceo mark zuckerberg chan zuckerberg initiative and bill gates bill gates foundation have partnered to in education the initiative will focus on writing and skills that with things like memory and self control the teams would produce models practices and other resources designed to achieve specific in student \n",
      "실제 요약 : zuckerberg partner education \n",
      "예측 요약 :  facebook make free\n",
      "\n",
      "\n",
      "원문 : shraddha kapoor will be playing pakistani dancer in the upcoming varun dhawan starrer as per reports varun will be seen playing the role of punjabi boy in the film reports added most of the film will reportedly be shot in london and shraddha will join the film team in february to begin her shooting schedule \n",
      "실제 요약 : shraddha kapoor play pakistani reports \n",
      "예측 요약 :  ranbir anushka starrer biopic\n",
      "\n",
      "\n",
      "원문 : an accused in the bhopal passenger train blast during the interrogation has reportedly revealed that the blast was gift from islamic state leader abu al this announcement by the islamic state was made in the form of letter which was wrapped around the bomb that caused the explosion \n",
      "실제 요약 : train blast gift leader probe \n",
      "예측 요약 :  women bomb isis\n",
      "\n",
      "\n",
      "원문 : aadhaar issuing authority uidai has asked digital and of mutual funds to stop authentication using the digit unique identification number this comes after supreme court in september termed aadhaar authentication by private companies as unconstitutional notably uidai had in june restricted digital wallet companies from its database citing security concerns \n",
      "실제 요약 : digital stopped using aadhaar \n",
      "예측 요약 :  aadhaar mandatory aadhaar extended\n",
      "\n",
      "\n",
      "원문 : airtel has said that due to tsunami of calls coming from jio airtel every minute amounting to crore per quarter jio is seeking an end to usage charge to transfer its own costs of crore year to other operators airtel said airtel further accused jio of using design to create \n",
      "실제 요약 : lost cr quarter jio calls airtel \n",
      "예측 요약 :  airtel idea merger\n",
      "\n",
      "\n",
      "원문 : the border security force on wednesday said it has seized over kg of narcotics between december and october this year of these over kg was seized from the eastern border and kg from the western border in the same period it also recovered of fake indian currency notes pieces of ammunition and weapons \n",
      "실제 요약 : bsf seized kg since dec \n",
      "예측 요약 :  indian militants killed\n",
      "\n",
      "\n",
      "원문 : the of private school in maharashtra thane allegedly slapped an year old student after he during the morning prayer the boy father later went to her with the complaint to which she said that students will be punished if they in the police registered offences against her after the father complaint \n",
      "실제 요약 : student \n",
      "예측 요약 :  doctors boy birth child\n",
      "\n",
      "\n",
      "원문 : whatsapp ceo jan sold or gifted almost million facebook shares in the past year which would be worth over billion based on facebook stock value on the dates of the sales the stock made up over half of facebook holdings whatsapp messaging app was acquired by facebook in for final price of billion \n",
      "실제 요약 : whatsapp ceo half facebook stock year \n",
      "예측 요약 :  amazon buy stake million\n",
      "\n",
      "\n",
      "원문 : union minister bharti on monday said that since no opposition has been left in india the bjp will have to perform the role of the opposition as well these election results have shown that we have reached position which the congress had occupied for long time but at that time we were strong opposition she added \n",
      "실제 요약 : bjp perform role well \n",
      "예측 요약 :  opposition parties parties parties parties minister\n",
      "\n",
      "\n",
      "원문 : in domestic match at the lord on june umpire declared batsman as he had to himself was the last batsman to come out to bat and the umpire admitted that he the player out as he would have himself had he not ended the innings \n",
      "실제 요약 : declared batsman \n",
      "예측 요약 :  player called\n",
      "\n",
      "\n",
      "원문 : an egyptian man was arrested on tuesday for allegedly trying to smuggle over kg of gold worth crore at delhi indira gandhi international airport it is one of the largest of gold at the airport in recent times the accused who arrived from dubai concealed gold bars in designed customs official said \n",
      "실제 요약 : held gold worth crore delhi airport \n",
      "예측 요약 :  man held smuggling lakh delhi airport\n",
      "\n",
      "\n",
      "원문 : motorcycle borne gunmen on tuesday mayor in town in the philippines province the second such killing of an official in two days was leaving government office when the gunmen approached his sport vehicle and shot him dead on monday city mayor was shot dead by \n",
      "실제 요약 : second philippine mayor shot dead two days \n",
      "예측 요약 :  soldier shot dead\n",
      "\n",
      "\n",
      "원문 : aimim chief asaduddin owaisi has slammed the government for the trial in the babri masjid demolition case calling it more serious than mahatma gandhi assassination babri accused have been made union ministers padma he said in tweet this comes after the supreme court allowed trial against bjp leaders for criminal conspiracy in the case \n",
      "실제 요약 : gandhi killing owaisi \n",
      "예측 요약 :  owaisi owaisi\n",
      "\n",
      "\n",
      "원문 : the supreme court has allowed candidates aged above to take national eligibility cum entrance test however it said their admission would be subject to the final outcome of the case on validity of cbse decision to fix upper age limit it further directed national testing agency to extend the deadline for form by one week \n",
      "실제 요약 : sc allows candidates \n",
      "예측 요약 :  sc sc sc\n",
      "\n",
      "\n",
      "원문 : village in district of telangana has claimed literacy and complete of liquor board at the village gram panchayat office further house tax collection school going children construction of toilets and in small savings the village also follows family planning norms with each family having maximum of two children \n",
      "실제 요약 : telangana village claims liquor \n",
      "예측 요약 :  haryana bans students\n",
      "\n",
      "\n",
      "원문 : two spectators were killed on sunday in event that created world record for hosting the maximum number of in tamil nadu district one of them died on the way to hospital while the other one succumbed to his injuries at the hospital reports said at least bull were also injured in the incident \n",
      "실제 요약 : breaks world record killed \n",
      "예측 요약 :  injured injured\n",
      "\n",
      "\n",
      "원문 : workers in maharashtra have announced plans to continue their strike despite the government announcing raise of in their salaries on friday terming the raise as they demanded that salary be based on the workers began their indefinite strike on september and demanded higher pays along with better quality food for the centres \n",
      "실제 요약 : maha protest pay raise \n",
      "예측 요약 :  maharashtra get\n",
      "\n",
      "\n",
      "원문 : wikileaks is now fully owned subsidiary of russian intelligence former us presidential candidate hillary clinton has claimed wikileaks founder julian assange with the russian government in the lead up to the us presidential elections she added notably wikileaks had released thousands of emails hacked from the account of clinton presidential campaign during the elections \n",
      "실제 요약 : russian \n",
      "예측 요약 :  russia russian prez putin\n",
      "\n",
      "\n",
      "원문 : singer williams has sent legal warning to us president donald trump after his song happy was played at campaign rally hours after people were killed in mass shooting at claiming that the move copyright infringement letter on williams behalf stated that he will never trump to publicly use his music \n",
      "실제 요약 : threatens trump playing happy rally \n",
      "예측 요약 :  trump calls\n",
      "\n",
      "\n",
      "원문 : the teaser of anil kapoor and aishwarya rai bachchan starrer khan has been released while anil will reportedly play the role of father to teenage daughter who has musical aishwarya will reportedly be seen playing the role of singer in the film directed by manjrekar khan is scheduled to release on august \n",
      "실제 요약 : teaser anil aishwarya starrer khan released \n",
      "예측 요약 :  teaser abhishek arjun starrer\n",
      "\n",
      "\n",
      "원문 : its order on the national anthem supreme court on tuesday said that it is not mandatory to play the anthem in cinema before movie this comes day after the centre urged the apex court to recall the order stating that an inter ministerial committee has been formed for guidelines on the matter \n",
      "실제 요약 : playing national anthem cinema sc \n",
      "예측 요약 :  sc rejects plea\n",
      "\n",
      "\n",
      "원문 : the family of man killed last year in crash involving tesla defended the electric car maker in statement released earlier this week we heard numerous times that the car killed our son that is simply not the case they said the statement came day before the scheduled hearing for the cause of the crash \n",
      "실제 요약 : family man killed tesla crash company \n",
      "예측 요약 :  man car tesla car\n",
      "\n",
      "\n",
      "원문 : after us president donald trump daughter ivanka trump the word as peak twitter user wrote can any of the spell some other users tweeted you are member of the first family do you care about nothing and it is called they want the back \n",
      "실제 요약 : twitter mocks ivanka trump \n",
      "예측 요약 :  twitter mocks ivanka trump\n",
      "\n",
      "\n",
      "원문 : year old indian man won million in lottery in dubai on tuesday who has been working as an in dubai for years said have never thought that could win this big at such young age meanwhile another man from jordan also won million in the draw \n",
      "실제 요약 : year old indian wins crore lottery dubai \n",
      "예측 요약 :  man wins lottery crore lottery\n",
      "\n",
      "\n",
      "원문 : media firm ndtv has sold stake in subsidiary red ventures to chadha and co the of its office premises in new delhi ndtv holds about stake of the red ventures the sale proceeds will be by the company to meet working capital requirements and pay outstanding rent \n",
      "실제 요약 : sells stake unit delhi office \n",
      "예측 요약 :  amazon sell stake mn\n",
      "\n",
      "\n",
      "원문 : apple has reduced the replacement cost of out of batteries in india by reported price of over for iphone models and beyond initially the price for the same was plus taxes and has now been reduced to plus taxes this comes after apple faced criticism for down older iphones with new and updated ios software \n",
      "실제 요약 : apple battery price india \n",
      "예측 요약 :  apple iphone charging\n",
      "\n",
      "\n",
      "원문 : the number of dengue cases in delhi reached after new cases were reported till november according to government data the number of and cases recorded stood at and respectively in the same period the first death in the city this year due to the borne disease was reported in august \n",
      "실제 요약 : cases recorded delhi year \n",
      "예측 요약 :  delhi cases cases cases\n",
      "\n",
      "\n",
      "원문 : sports celebrities rahul dravid saina nehwal and prakash padukone lost crores of after being duped by bengaluru based firm named vikram investment company bengaluru police revealed that the firm has cheated over investors with reported sum of crore the investment firm had promised up to return on the investment as per reports \n",
      "실제 요약 : dravid saina among cr bengaluru firm \n",
      "예측 요약 :  kapil sharma shares picture report\n",
      "\n",
      "\n",
      "원문 : japanese cryptocurrency exchange has confirmed it lost about million after suffering hack which stole million tokens said to be the biggest cryptocurrency hack ever the th largest cryptocurrency by market value fell over hour period following the hack the previous largest theft was at million in from tokyo based exchange \n",
      "실제 요약 : million go missing largest cryptocurrency hack ever \n",
      "예측 요약 :  crypto exchange loses million hack hack\n",
      "\n",
      "\n",
      "원문 : hundreds of protesters were arrested in after they took to the streets of the country capital and other cities to protest against president alexander saying they want an end to his under the president crackdown the internet was shut down across the country and police used water on the protesters \n",
      "실제 요약 : end arrested \n",
      "예측 요약 :  held israel\n",
      "\n",
      "\n",
      "원문 : ex south africa cricketer ab de villiers holds the records for scoring the fastest fifty hundred and in odis de villiers slammed odi fastest ever century off balls against windies in january in the same innings he made the fastest fifty taking balls he hit the fastest odi off balls against windies in world cup \n",
      "실제 요약 : holds records fastest odi \n",
      "예측 요약 :  becomes fastest runs runs runs\n",
      "\n",
      "\n"
     ]
    }
   ],
   "source": [
    "for i in range(50, 100):\n",
    "    print(\"원문 :\", seq2text(encoder_input_test[i]))\n",
    "    print(\"실제 요약 :\", seq2summary(decoder_input_test[i]))\n",
    "    print(\"예측 요약 :\", decode_sequence(encoder_input_test[i].reshape(1, text_max_len)))\n",
    "    print(\"\\n\")"
   ]
  },
  {
   "cell_type": "markdown",
   "id": "weekly-norwegian",
   "metadata": {},
   "source": [
    "1) 옳은 예\n",
    "\n",
    "- 원문 : 지하철 관계자에 따르면 델리 지하철에서 일하는 동안 3명이 사망하고 2명이 부상당했으며 전동차 청소 도중 전봇대에서 떨어지면서 부상당한 부상의 본질에 대해 열차에 탑승한 후 1명이 사망했다고 한다.\n",
    "- 실제 요약 : 델리 지하철 근로자들이 부상당해 사망했습니다.\n",
    "- 예측 요약 : 델리 지하철 화재 사망 -> 나름대로 요약이 잘 된 것 같습니다.\n",
    "\n",
    "2) 잘못된 예\n",
    "\n",
    "- 원문 : 대부분의 관광버스들이 뭄바이 시내버스의 교통경찰이 오전부터 자정까지 남부 뭄바이 시내버스의 진입을 명령함에 따라 화요일부터 이틀간의 파업을 위협하고 있다. 이번 파업은 주정부간 및 주정부간 버스 운행에 영향을 미칠 것으로 알려졌으며 남부 뭄바이 경찰은 버스 진입이 금지되었다고 말했다.\n",
    "- 실제 요약 : 무거운 물건을 놓치는 아이들 -> 무거운 물건이나 아이들에 대한 내용이 원문에 나오지 않았으나 요약이 되는 경우가 있었습니다.\n",
    "\n",
    "\n",
    "3) 잘못된 예\n",
    "\n",
    "- 원문 : 스리랑카에서 홍수와 산사태가 발생, 실종상태로 남아 있는 가운데, 금요일 이른 계절에 전국적으로 군인들을 중심으로 한 수백명의 사람들이 경찰과 민간 기관을 돕기 위해 배와 헬리콥터로 배치되었다고 정부 관계자가 말한 후, 적어도 사망자는 있었다.\n",
    "- 실제 요약 : 홍수로 스리랑카 사망\n",
    "- 예측 요약 : 사이클론으로 인한 홍수 -> 홍수라는 키워드가 원문에 나오기는 하였으나 사이클론이라는 원문에 없는 단어가 나왔습니다.\n"
   ]
  },
  {
   "cell_type": "markdown",
   "id": "herbal-report",
   "metadata": {},
   "source": [
    "- 위에서 보여준 예시 말고도 다양한 값들을 테스트 결과로 내보았으나 크게 다르지 않았습니다.\n",
    "- 요약 결과 역시 의미 할 정도로 적당한 문장이 만들어지는 결과도 있었지만, 그렇지 않은 경우가 훨씬 많아 보였습니다."
   ]
  },
  {
   "cell_type": "markdown",
   "id": "representative-vietnamese",
   "metadata": {},
   "source": [
    "## Step 5. Summa을 이용해서 추출적 요약해보기\n",
    "\n",
    "추상적 요약은 추출적 요약과는 달리 문장의 표현력을 다양하게 가져갈 수 있지만, 추출적 요약에 비해서 난이도가 높아요. 반대로 말하면 추출적 요약은 추상적 요약에 비해 난이도가 낮고 기존 문장에서 문장을 꺼내오는 것이므로 잘못된 요약이 나올 가능성이 낮아요.\n",
    "\n",
    "Summa의 summarize를 사용하여 추출적 요약을 해보세요."
   ]
  },
  {
   "cell_type": "markdown",
   "id": "encouraging-congo",
   "metadata": {},
   "source": [
    "### 5-1. 데이터 다운로드 하기"
   ]
  },
  {
   "cell_type": "code",
   "execution_count": 48,
   "id": "strategic-employment",
   "metadata": {},
   "outputs": [],
   "source": [
    "import requests\n",
    "from summa.summarizer import summarize"
   ]
  },
  {
   "cell_type": "code",
   "execution_count": 49,
   "id": "stock-pledge",
   "metadata": {},
   "outputs": [
    {
     "data": {
      "text/plain": [
       "0        Saurav Kant, an alumnus of upGrad and IIIT-B's...\n",
       "1        Kunal Shah's credit card bill payment platform...\n",
       "2        New Zealand defeated India by 8 wickets in the...\n",
       "3        With Aegon Life iTerm Insurance plan, customer...\n",
       "4        Speaking about the sexual harassment allegatio...\n",
       "                               ...                        \n",
       "98396    A CRPF jawan was on Tuesday axed to death with...\n",
       "98397    'Uff Yeh', the first song from the Sonakshi Si...\n",
       "98398    According to reports, a new version of the 199...\n",
       "98399    A new music video shows rapper Snoop Dogg aimi...\n",
       "98400    Madhesi Morcha, an alliance of seven political...\n",
       "Name: text, Length: 98401, dtype: object"
      ]
     },
     "execution_count": 49,
     "metadata": {},
     "output_type": "execute_result"
    }
   ],
   "source": [
    "data_news = pd.read_csv('news_summary_more.csv', encoding='iso-8859-1')\n",
    "data_news[\"text\"]"
   ]
  },
  {
   "cell_type": "code",
   "execution_count": 50,
   "id": "affecting-development",
   "metadata": {},
   "outputs": [
    {
     "name": "stdout",
     "output_type": "stream",
     "text": [
      "                                              headlines  \\\n",
      "0     upGrad learner switches to career in ML & Al w...   \n",
      "1     Delhi techie wins free food from Swiggy for on...   \n",
      "2     New Zealand end Rohit Sharma-led India's 12-ma...   \n",
      "3     Aegon life iTerm insurance plan helps customer...   \n",
      "4     Have known Hirani for yrs, what if MeToo claim...   \n",
      "...                                                 ...   \n",
      "1495  Have seen Sachin Tendulkar get angry but not M...   \n",
      "1496  Player ensures wife stays dry in rain during A...   \n",
      "1497  Federer denied entry into locker room by secur...   \n",
      "1498  42/42 seats in West Bengal: CM Mamata's cutout...   \n",
      "1499  Court refuses chargesheet by Delhi Police agai...   \n",
      "\n",
      "                                                   text  \n",
      "0     Saurav Kant, an alumnus of upGrad and IIIT-B's...  \n",
      "1     Kunal Shah's credit card bill payment platform...  \n",
      "2     New Zealand defeated India by 8 wickets in the...  \n",
      "3     With Aegon Life iTerm Insurance plan, customer...  \n",
      "4     Speaking about the sexual harassment allegatio...  \n",
      "...                                                 ...  \n",
      "1495  India head coach Ravi Shastri has said that he...  \n",
      "1496  Italian tennis player Andreas Seppi ensured hi...  \n",
      "1497  World number three Roger Federer was stopped b...  \n",
      "1498  A cutout of TMC chief and West Bengal CM Mamat...  \n",
      "1499  A Delhi court on Saturday pulled up Delhi Poli...  \n",
      "\n",
      "[1500 rows x 2 columns]\n"
     ]
    }
   ],
   "source": [
    "print(data_news[:1500])"
   ]
  },
  {
   "cell_type": "markdown",
   "id": "demanding-formation",
   "metadata": {},
   "source": [
    "### 5-2. summarize 사용하기\n",
    "\n",
    "- text (str) : 요약할 테스트.\n",
    "- ratio (float, optional) – 요약문에서 원본에서 선택되는 문장 비율. 0~1 사이값\n",
    "- words (int or None, optional) – 출력에 포함할 단어 수.\n",
    "- 만약, ratio와 함께 두 파라미터가 모두 제공되는 경우 ratio는 무시한다.\n",
    "- split (bool, optional) – True면 문장 list / False는 조인(join)된 문자열을 반환"
   ]
  },
  {
   "cell_type": "code",
   "execution_count": 51,
   "id": "elect-active",
   "metadata": {},
   "outputs": [
    {
     "name": "stdout",
     "output_type": "stream",
     "text": [
      "Summary:\n",
      "He added decisions like demonetisation and RERA have put a check on black money that used to be \"parked in the real estate sector\".\n"
     ]
    }
   ],
   "source": [
    "print('Summary:')\n",
    "print(summarize(data_news[\"text\"][i], ratio=0.5))"
   ]
  },
  {
   "cell_type": "code",
   "execution_count": 52,
   "id": "major-reverse",
   "metadata": {},
   "outputs": [
    {
     "name": "stdout",
     "output_type": "stream",
     "text": [
      "Summary:\n",
      "['He added decisions like demonetisation and RERA have put a check on black money that used to be \"parked in the real estate sector\".']\n"
     ]
    }
   ],
   "source": [
    "print('Summary:')\n",
    "print(summarize(data_news[\"text\"][i], ratio=0.5, split=True))"
   ]
  },
  {
   "cell_type": "code",
   "execution_count": 53,
   "id": "civilian-consent",
   "metadata": {},
   "outputs": [
    {
     "name": "stdout",
     "output_type": "stream",
     "text": [
      "Summary:\n",
      "Prime Minister Narendra Modi on Wednesday said his government's demonetisation decision made houses affordable for the aspiring youth.\n",
      "He added decisions like demonetisation and RERA have put a check on black money that used to be \"parked in the real estate sector\".\n"
     ]
    }
   ],
   "source": [
    "print('Summary:')\n",
    "print(summarize(data_news[\"text\"][i], words=50))"
   ]
  },
  {
   "cell_type": "markdown",
   "id": "dirty-benefit",
   "metadata": {},
   "source": [
    "- summarize를 진행해 본 결과, 핵심이라고 생각되는 문장을 가지고 오는 듯 하였으나, 과연 일반인이 실생활에서 사용하기에 유용한가? 라는 생각을 할 정도의 결과값을 만들어 내었다고 생각합니다."
   ]
  },
  {
   "cell_type": "markdown",
   "id": "later-energy",
   "metadata": {},
   "source": [
    "## Step 6. 루브릭 & 회고"
   ]
  },
  {
   "cell_type": "markdown",
   "id": "aquatic-gregory",
   "metadata": {},
   "source": [
    "평가기준\n",
    "---\n",
    "- 분석단계, 정제단계, 정규화와 불용어 제거, 데이터셋 분리, 인코딩 과정이 빠짐없이 체계적으로 진행되었다.\n",
    "- 모델학습이 안정적으로 수렴되었음을 그래프를 통해 확인하였으며, 실제 요약문과 유사한 요약문장을 얻을 수 있었다.\n",
    "- 두 요약 결과를 문법완성도 측면과 핵심단어 포함 측면으로 나누어 비교분석 결과를 제시하였다."
   ]
  },
  {
   "cell_type": "markdown",
   "id": "amber-collins",
   "metadata": {},
   "source": [
    "회고\n",
    "---\n",
    "1. 이번 프로젝트는 다루는 데이터의 양이 많아서 그런지 혹은 모델링 과정에서 저의 미숙함 때문인지 earlystoping이 있더라도 학습을 진행하는 데 많은 시간이 소요 되었던 것 같습니다.\n",
    "\n",
    "2. 또한 영어 요약이라 한국어로 재 번역을 '파파고'를 이용해서 진행하면서 번역의 오류일 수도 있지만, 생각보다 요약이 제가 생각했었던 것 만큼 이루어지지 못해서 아쉬움이 조금 남았던 것 같습니다.\n",
    "\n",
    "3. 아마도 추상적인 요약이 잘 되기 위해서는 하이퍼 파라미터를 조금 더 잘 조정해야 할 것이라고 추측하지만, 시간관계 상 마무리 하지 못한 것에서 아쉬움을 느꼈습니다.\n",
    "\n",
    "4. 추가적으로 이러한 요약을 잘 하는 모델을 생성하기 위해서는 전처리 과정에서 추가적인 작업이 필요할 것이라고 추측은 하지만 정확하게 어떤 것을 추가해야할 지 몰라 이것저것 알아 보기만 하고 해결하지 못한 것에서 아쉬움을 느꼈습니다.\n",
    "\n",
    "5. 아마도 다음 기회에 이러한 요약 모델을 할 기회가 생긴다면, 다수의 데이터를 적절하게 전처리하고 가장 최적의 학습 방법을 찾아낸 후 적합한 요약 방식을 선정해서 모델링을 진행해야 원하는 뉴스 요약이 가능할 것 같다는 생각을 할 수 있었던 프로젝트라고 생각합니다."
   ]
  },
  {
   "cell_type": "code",
   "execution_count": null,
   "id": "virtual-middle",
   "metadata": {},
   "outputs": [],
   "source": []
  }
 ],
 "metadata": {
  "kernelspec": {
   "display_name": "Python 3",
   "language": "python",
   "name": "python3"
  },
  "language_info": {
   "codemirror_mode": {
    "name": "ipython",
    "version": 3
   },
   "file_extension": ".py",
   "mimetype": "text/x-python",
   "name": "python",
   "nbconvert_exporter": "python",
   "pygments_lexer": "ipython3",
   "version": "3.7.9"
  }
 },
 "nbformat": 4,
 "nbformat_minor": 5
}
