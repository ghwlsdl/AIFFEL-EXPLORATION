{
 "cells": [
  {
   "cell_type": "markdown",
   "id": "small-disclosure",
   "metadata": {},
   "source": [
    "# 9-9. 프로젝트 - Movielens 영화 추천 실습\n",
    "\n",
    "이전 스텝에서 배운 MF 모델 학습 방법을 토대로, 내가 좋아할 만한 영화 추천 시스템을 제작해 보겠습니다.\n",
    "\n",
    "cloud jupyter 를 열고 aiffel/recommendata_iu/ 디렉토리에 python3로 ipynb파일을 생성 해 주세요 jupyter notebook 환경에서 프로젝트 코드를 작성하고 제출하시면 됩니다.\n",
    "\n",
    "이번에 활용할 데이터셋은 추천시스템의 MNIST라고 부를만한 Movielens 데이터입니다.\n",
    "\n",
    "- 유저가 영화에 대해 평점을 매긴 데이터가 데이터 크기 별로 있습니다. MovieLens 1M Dataset 사용을 권장합니다.\n",
    "- 별점 데이터는 대표적인 explicit 데이터입니다. 하지만 implicit 데이터로 간주하고 테스트해볼 수 있습니다.\n",
    "- 별점을 **시청횟수** 로 해석해서 생각하겠습니다.\n",
    "- 또한 유저가 3점 미만으로 준 데이터는 선호하지 않는다고 가정하고 제외하겠습니다.\n",
    "\n",
    "Cloud Storage에 미리 업로드 된 ml-1m폴더 내 파일을 심볼릭 링크로 개인 storage에 연결 해 줍니다.\n",
    "\n",
    "Cloud shell에서 아래 명령어를 입력해주세요.\n",
    "\n",
    "- mkdir -p ~/aiffel/recommendata_iu/data/ml-1m\n",
    "- ln -s ~/data/ml-1m/* ~/aiffel/recommendata_iu/data/ml-1m"
   ]
  },
  {
   "cell_type": "markdown",
   "id": "collect-strand",
   "metadata": {},
   "source": [
    "목차\n",
    "---\n",
    "1) 데이터 준비와 전처리.  \n",
    "2) 분석해 봅시다.  \n",
    "3) 내가 선호하는 영화를 5가지 골라서 ratings에 추가해 줍시다.  \n",
    "4) CSR matrix를 직접 만들어 봅시다.  \n",
    "5) als_model = AlternatingLeastSquares 모델을 직접 구성하여 훈련시켜 봅시다.  \n",
    "6) 내가 선호하는 5가지 영화 중 하나와 그 외의 영화 하나를 골라 훈련된 모델이 예측한 나의 선호도를 파악해 보세요.  \n",
    "7) 내가 좋아하는 영화와 비슷한 영화를 추천받아 봅시다.  \n",
    "8) 내가 가장 좋아할 만한 영화들을 추천받아 봅시다"
   ]
  },
  {
   "cell_type": "markdown",
   "id": "premium-antibody",
   "metadata": {},
   "source": [
    "## 1) 데이터 준비와 전처리.\n",
    "---\n",
    "Movielens 데이터는 rating.dat 안에 이미 인덱싱까지 완료된 사용자-영화-평점 데이터가 깔끔하게 정리되어 있습니다."
   ]
  },
  {
   "cell_type": "code",
   "execution_count": 27,
   "id": "occasional-wagner",
   "metadata": {},
   "outputs": [],
   "source": [
    "# 필요한 모듈 import\n",
    "import numpy as np\n",
    "import pandas as pd\n",
    "import os"
   ]
  },
  {
   "cell_type": "code",
   "execution_count": 28,
   "id": "worse-gossip",
   "metadata": {},
   "outputs": [
    {
     "data": {
      "text/html": [
       "<div>\n",
       "<style scoped>\n",
       "    .dataframe tbody tr th:only-of-type {\n",
       "        vertical-align: middle;\n",
       "    }\n",
       "\n",
       "    .dataframe tbody tr th {\n",
       "        vertical-align: top;\n",
       "    }\n",
       "\n",
       "    .dataframe thead th {\n",
       "        text-align: right;\n",
       "    }\n",
       "</style>\n",
       "<table border=\"1\" class=\"dataframe\">\n",
       "  <thead>\n",
       "    <tr style=\"text-align: right;\">\n",
       "      <th></th>\n",
       "      <th>user_id</th>\n",
       "      <th>movie_id</th>\n",
       "      <th>ratings</th>\n",
       "      <th>timestamp</th>\n",
       "    </tr>\n",
       "  </thead>\n",
       "  <tbody>\n",
       "    <tr>\n",
       "      <th>0</th>\n",
       "      <td>1</td>\n",
       "      <td>1193</td>\n",
       "      <td>5</td>\n",
       "      <td>978300760</td>\n",
       "    </tr>\n",
       "    <tr>\n",
       "      <th>1</th>\n",
       "      <td>1</td>\n",
       "      <td>661</td>\n",
       "      <td>3</td>\n",
       "      <td>978302109</td>\n",
       "    </tr>\n",
       "    <tr>\n",
       "      <th>2</th>\n",
       "      <td>1</td>\n",
       "      <td>914</td>\n",
       "      <td>3</td>\n",
       "      <td>978301968</td>\n",
       "    </tr>\n",
       "    <tr>\n",
       "      <th>3</th>\n",
       "      <td>1</td>\n",
       "      <td>3408</td>\n",
       "      <td>4</td>\n",
       "      <td>978300275</td>\n",
       "    </tr>\n",
       "    <tr>\n",
       "      <th>4</th>\n",
       "      <td>1</td>\n",
       "      <td>2355</td>\n",
       "      <td>5</td>\n",
       "      <td>978824291</td>\n",
       "    </tr>\n",
       "  </tbody>\n",
       "</table>\n",
       "</div>"
      ],
      "text/plain": [
       "   user_id  movie_id  ratings  timestamp\n",
       "0        1      1193        5  978300760\n",
       "1        1       661        3  978302109\n",
       "2        1       914        3  978301968\n",
       "3        1      3408        4  978300275\n",
       "4        1      2355        5  978824291"
      ]
     },
     "execution_count": 28,
     "metadata": {},
     "output_type": "execute_result"
    }
   ],
   "source": [
    "rating_file_path=os.getenv('HOME') + '/aiffel/recommendata_iu/data/ml-1m/ratings.dat'\n",
    "ratings_cols = ['user_id', 'movie_id', 'ratings', 'timestamp']\n",
    "ratings = pd.read_csv(rating_file_path, sep='::', names=ratings_cols, engine='python', encoding = \"ISO-8859-1\")\n",
    "orginal_data_size = len(ratings)\n",
    "ratings.head()"
   ]
  },
  {
   "cell_type": "code",
   "execution_count": 29,
   "id": "funny-looking",
   "metadata": {},
   "outputs": [
    {
     "name": "stdout",
     "output_type": "stream",
     "text": [
      "orginal_data_size: 1000209, filtered_data_size: 836478\n",
      "Ratio of Remaining Data is 83.63%\n"
     ]
    }
   ],
   "source": [
    "# 3점 이상만 남깁니다.\n",
    "ratings = ratings[ratings['ratings']>=3]\n",
    "filtered_data_size = len(ratings)\n",
    "\n",
    "print(f'orginal_data_size: {orginal_data_size}, filtered_data_size: {filtered_data_size}')\n",
    "print(f'Ratio of Remaining Data is {filtered_data_size / orginal_data_size:.2%}')"
   ]
  },
  {
   "cell_type": "markdown",
   "id": "verified-ghost",
   "metadata": {},
   "source": [
    "3점 이상인 영화의 비율이 83.63% 임을 알 수 있습니다."
   ]
  },
  {
   "cell_type": "code",
   "execution_count": 30,
   "id": "sophisticated-characteristic",
   "metadata": {},
   "outputs": [],
   "source": [
    "# ratings 컬럼의 이름을 counts로 바꿉니다.\n",
    "ratings.rename(columns={'ratings':'counts'}, inplace=True)"
   ]
  },
  {
   "cell_type": "code",
   "execution_count": 31,
   "id": "saved-accent",
   "metadata": {},
   "outputs": [
    {
     "data": {
      "text/plain": [
       "0          5\n",
       "1          3\n",
       "2          3\n",
       "3          4\n",
       "4          5\n",
       "          ..\n",
       "1000203    3\n",
       "1000205    5\n",
       "1000206    5\n",
       "1000207    4\n",
       "1000208    4\n",
       "Name: counts, Length: 836478, dtype: int64"
      ]
     },
     "execution_count": 31,
     "metadata": {},
     "output_type": "execute_result"
    }
   ],
   "source": [
    "ratings['counts']"
   ]
  },
  {
   "cell_type": "code",
   "execution_count": 32,
   "id": "accessible-resident",
   "metadata": {},
   "outputs": [
    {
     "data": {
      "text/html": [
       "<div>\n",
       "<style scoped>\n",
       "    .dataframe tbody tr th:only-of-type {\n",
       "        vertical-align: middle;\n",
       "    }\n",
       "\n",
       "    .dataframe tbody tr th {\n",
       "        vertical-align: top;\n",
       "    }\n",
       "\n",
       "    .dataframe thead th {\n",
       "        text-align: right;\n",
       "    }\n",
       "</style>\n",
       "<table border=\"1\" class=\"dataframe\">\n",
       "  <thead>\n",
       "    <tr style=\"text-align: right;\">\n",
       "      <th></th>\n",
       "      <th>movie_id</th>\n",
       "      <th>title</th>\n",
       "      <th>genre</th>\n",
       "    </tr>\n",
       "  </thead>\n",
       "  <tbody>\n",
       "    <tr>\n",
       "      <th>0</th>\n",
       "      <td>1</td>\n",
       "      <td>Toy Story (1995)</td>\n",
       "      <td>Animation|Children's|Comedy</td>\n",
       "    </tr>\n",
       "    <tr>\n",
       "      <th>1</th>\n",
       "      <td>2</td>\n",
       "      <td>Jumanji (1995)</td>\n",
       "      <td>Adventure|Children's|Fantasy</td>\n",
       "    </tr>\n",
       "    <tr>\n",
       "      <th>2</th>\n",
       "      <td>3</td>\n",
       "      <td>Grumpier Old Men (1995)</td>\n",
       "      <td>Comedy|Romance</td>\n",
       "    </tr>\n",
       "    <tr>\n",
       "      <th>3</th>\n",
       "      <td>4</td>\n",
       "      <td>Waiting to Exhale (1995)</td>\n",
       "      <td>Comedy|Drama</td>\n",
       "    </tr>\n",
       "    <tr>\n",
       "      <th>4</th>\n",
       "      <td>5</td>\n",
       "      <td>Father of the Bride Part II (1995)</td>\n",
       "      <td>Comedy</td>\n",
       "    </tr>\n",
       "  </tbody>\n",
       "</table>\n",
       "</div>"
      ],
      "text/plain": [
       "   movie_id                               title                         genre\n",
       "0         1                    Toy Story (1995)   Animation|Children's|Comedy\n",
       "1         2                      Jumanji (1995)  Adventure|Children's|Fantasy\n",
       "2         3             Grumpier Old Men (1995)                Comedy|Romance\n",
       "3         4            Waiting to Exhale (1995)                  Comedy|Drama\n",
       "4         5  Father of the Bride Part II (1995)                        Comedy"
      ]
     },
     "execution_count": 32,
     "metadata": {},
     "output_type": "execute_result"
    }
   ],
   "source": [
    "# 영화 제목을 보기 위해 메타 데이터를 읽어옵니다.\n",
    "movie_file_path=os.getenv('HOME') + '/aiffel/recommendata_iu/data/ml-1m/movies.dat'\n",
    "cols = ['movie_id', 'title', 'genre'] \n",
    "movies = pd.read_csv(movie_file_path, sep='::', names=cols, engine='python', encoding='ISO-8859-1')\n",
    "movies.head()"
   ]
  },
  {
   "cell_type": "markdown",
   "id": "relevant-numbers",
   "metadata": {},
   "source": [
    "여기까지가 전처리입니다. 이후에는 이전 스텝에 소개했던 것과 동일한 방식으로 MF model을 구성하여 내가 좋아할 만한 영화를 추천해 볼 수 있습니다."
   ]
  },
  {
   "cell_type": "code",
   "execution_count": 33,
   "id": "oriented-butterfly",
   "metadata": {},
   "outputs": [
    {
     "data": {
      "text/html": [
       "<div>\n",
       "<style scoped>\n",
       "    .dataframe tbody tr th:only-of-type {\n",
       "        vertical-align: middle;\n",
       "    }\n",
       "\n",
       "    .dataframe tbody tr th {\n",
       "        vertical-align: top;\n",
       "    }\n",
       "\n",
       "    .dataframe thead th {\n",
       "        text-align: right;\n",
       "    }\n",
       "</style>\n",
       "<table border=\"1\" class=\"dataframe\">\n",
       "  <thead>\n",
       "    <tr style=\"text-align: right;\">\n",
       "      <th></th>\n",
       "      <th>movie_id</th>\n",
       "      <th>title</th>\n",
       "      <th>genre</th>\n",
       "    </tr>\n",
       "  </thead>\n",
       "  <tbody>\n",
       "    <tr>\n",
       "      <th>0</th>\n",
       "      <td>1</td>\n",
       "      <td>toy story (1995)</td>\n",
       "      <td>Animation|Children's|Comedy</td>\n",
       "    </tr>\n",
       "    <tr>\n",
       "      <th>1</th>\n",
       "      <td>2</td>\n",
       "      <td>jumanji (1995)</td>\n",
       "      <td>Adventure|Children's|Fantasy</td>\n",
       "    </tr>\n",
       "    <tr>\n",
       "      <th>2</th>\n",
       "      <td>3</td>\n",
       "      <td>grumpier old men (1995)</td>\n",
       "      <td>Comedy|Romance</td>\n",
       "    </tr>\n",
       "    <tr>\n",
       "      <th>3</th>\n",
       "      <td>4</td>\n",
       "      <td>waiting to exhale (1995)</td>\n",
       "      <td>Comedy|Drama</td>\n",
       "    </tr>\n",
       "    <tr>\n",
       "      <th>4</th>\n",
       "      <td>5</td>\n",
       "      <td>father of the bride part ii (1995)</td>\n",
       "      <td>Comedy</td>\n",
       "    </tr>\n",
       "    <tr>\n",
       "      <th>5</th>\n",
       "      <td>6</td>\n",
       "      <td>heat (1995)</td>\n",
       "      <td>Action|Crime|Thriller</td>\n",
       "    </tr>\n",
       "    <tr>\n",
       "      <th>6</th>\n",
       "      <td>7</td>\n",
       "      <td>sabrina (1995)</td>\n",
       "      <td>Comedy|Romance</td>\n",
       "    </tr>\n",
       "    <tr>\n",
       "      <th>7</th>\n",
       "      <td>8</td>\n",
       "      <td>tom and huck (1995)</td>\n",
       "      <td>Adventure|Children's</td>\n",
       "    </tr>\n",
       "    <tr>\n",
       "      <th>8</th>\n",
       "      <td>9</td>\n",
       "      <td>sudden death (1995)</td>\n",
       "      <td>Action</td>\n",
       "    </tr>\n",
       "    <tr>\n",
       "      <th>9</th>\n",
       "      <td>10</td>\n",
       "      <td>goldeneye (1995)</td>\n",
       "      <td>Action|Adventure|Thriller</td>\n",
       "    </tr>\n",
       "  </tbody>\n",
       "</table>\n",
       "</div>"
      ],
      "text/plain": [
       "   movie_id                               title                         genre\n",
       "0         1                    toy story (1995)   Animation|Children's|Comedy\n",
       "1         2                      jumanji (1995)  Adventure|Children's|Fantasy\n",
       "2         3             grumpier old men (1995)                Comedy|Romance\n",
       "3         4            waiting to exhale (1995)                  Comedy|Drama\n",
       "4         5  father of the bride part ii (1995)                        Comedy\n",
       "5         6                         heat (1995)         Action|Crime|Thriller\n",
       "6         7                      sabrina (1995)                Comedy|Romance\n",
       "7         8                 tom and huck (1995)          Adventure|Children's\n",
       "8         9                 sudden death (1995)                        Action\n",
       "9        10                    goldeneye (1995)     Action|Adventure|Thriller"
      ]
     },
     "execution_count": 33,
     "metadata": {},
     "output_type": "execute_result"
    }
   ],
   "source": [
    "# 영화 제목 검색을 쉽게하기 위해 아티스트 문자열을 소문자로 바꿔 줍시다.\n",
    "movies['title'] = movies['title'].str.lower() # 검색을 쉽게하기 위해 아티스트 문자열을 소문자로 바꿔줍시다.\n",
    "movies.head(10)"
   ]
  },
  {
   "cell_type": "code",
   "execution_count": 34,
   "id": "sticky-findings",
   "metadata": {},
   "outputs": [
    {
     "data": {
      "text/html": [
       "<div>\n",
       "<style scoped>\n",
       "    .dataframe tbody tr th:only-of-type {\n",
       "        vertical-align: middle;\n",
       "    }\n",
       "\n",
       "    .dataframe tbody tr th {\n",
       "        vertical-align: top;\n",
       "    }\n",
       "\n",
       "    .dataframe thead th {\n",
       "        text-align: right;\n",
       "    }\n",
       "</style>\n",
       "<table border=\"1\" class=\"dataframe\">\n",
       "  <thead>\n",
       "    <tr style=\"text-align: right;\">\n",
       "      <th></th>\n",
       "      <th>user_id</th>\n",
       "      <th>movie_id</th>\n",
       "      <th>counts</th>\n",
       "      <th>timestamp</th>\n",
       "      <th>title</th>\n",
       "      <th>genre</th>\n",
       "    </tr>\n",
       "  </thead>\n",
       "  <tbody>\n",
       "    <tr>\n",
       "      <th>0</th>\n",
       "      <td>1</td>\n",
       "      <td>1193</td>\n",
       "      <td>5</td>\n",
       "      <td>978300760</td>\n",
       "      <td>one flew over the cuckoo's nest (1975)</td>\n",
       "      <td>Drama</td>\n",
       "    </tr>\n",
       "    <tr>\n",
       "      <th>1</th>\n",
       "      <td>1</td>\n",
       "      <td>661</td>\n",
       "      <td>3</td>\n",
       "      <td>978302109</td>\n",
       "      <td>james and the giant peach (1996)</td>\n",
       "      <td>Animation|Children's|Musical</td>\n",
       "    </tr>\n",
       "    <tr>\n",
       "      <th>2</th>\n",
       "      <td>1</td>\n",
       "      <td>914</td>\n",
       "      <td>3</td>\n",
       "      <td>978301968</td>\n",
       "      <td>my fair lady (1964)</td>\n",
       "      <td>Musical|Romance</td>\n",
       "    </tr>\n",
       "    <tr>\n",
       "      <th>3</th>\n",
       "      <td>1</td>\n",
       "      <td>3408</td>\n",
       "      <td>4</td>\n",
       "      <td>978300275</td>\n",
       "      <td>erin brockovich (2000)</td>\n",
       "      <td>Drama</td>\n",
       "    </tr>\n",
       "    <tr>\n",
       "      <th>4</th>\n",
       "      <td>1</td>\n",
       "      <td>2355</td>\n",
       "      <td>5</td>\n",
       "      <td>978824291</td>\n",
       "      <td>bug's life, a (1998)</td>\n",
       "      <td>Animation|Children's|Comedy</td>\n",
       "    </tr>\n",
       "  </tbody>\n",
       "</table>\n",
       "</div>"
      ],
      "text/plain": [
       "   user_id  movie_id  counts  timestamp  \\\n",
       "0        1      1193       5  978300760   \n",
       "1        1       661       3  978302109   \n",
       "2        1       914       3  978301968   \n",
       "3        1      3408       4  978300275   \n",
       "4        1      2355       5  978824291   \n",
       "\n",
       "                                    title                         genre  \n",
       "0  one flew over the cuckoo's nest (1975)                         Drama  \n",
       "1        james and the giant peach (1996)  Animation|Children's|Musical  \n",
       "2                     my fair lady (1964)               Musical|Romance  \n",
       "3                  erin brockovich (2000)                         Drama  \n",
       "4                    bug's life, a (1998)   Animation|Children's|Comedy  "
      ]
     },
     "execution_count": 34,
     "metadata": {},
     "output_type": "execute_result"
    }
   ],
   "source": [
    "# ratings 와 movies 데이터 프레임 합치기\n",
    "data = ratings.join(movies.set_index('movie_id'), on='movie_id')\n",
    "\n",
    "data.head()"
   ]
  },
  {
   "cell_type": "code",
   "execution_count": 35,
   "id": "cosmetic-dividend",
   "metadata": {},
   "outputs": [
    {
     "data": {
      "text/html": [
       "<div>\n",
       "<style scoped>\n",
       "    .dataframe tbody tr th:only-of-type {\n",
       "        vertical-align: middle;\n",
       "    }\n",
       "\n",
       "    .dataframe tbody tr th {\n",
       "        vertical-align: top;\n",
       "    }\n",
       "\n",
       "    .dataframe thead th {\n",
       "        text-align: right;\n",
       "    }\n",
       "</style>\n",
       "<table border=\"1\" class=\"dataframe\">\n",
       "  <thead>\n",
       "    <tr style=\"text-align: right;\">\n",
       "      <th></th>\n",
       "      <th>user_id</th>\n",
       "      <th>movie_id</th>\n",
       "      <th>counts</th>\n",
       "      <th>title</th>\n",
       "      <th>genre</th>\n",
       "    </tr>\n",
       "  </thead>\n",
       "  <tbody>\n",
       "    <tr>\n",
       "      <th>0</th>\n",
       "      <td>1</td>\n",
       "      <td>1193</td>\n",
       "      <td>5</td>\n",
       "      <td>one flew over the cuckoo's nest (1975)</td>\n",
       "      <td>Drama</td>\n",
       "    </tr>\n",
       "    <tr>\n",
       "      <th>1</th>\n",
       "      <td>1</td>\n",
       "      <td>661</td>\n",
       "      <td>3</td>\n",
       "      <td>james and the giant peach (1996)</td>\n",
       "      <td>Animation|Children's|Musical</td>\n",
       "    </tr>\n",
       "    <tr>\n",
       "      <th>2</th>\n",
       "      <td>1</td>\n",
       "      <td>914</td>\n",
       "      <td>3</td>\n",
       "      <td>my fair lady (1964)</td>\n",
       "      <td>Musical|Romance</td>\n",
       "    </tr>\n",
       "    <tr>\n",
       "      <th>3</th>\n",
       "      <td>1</td>\n",
       "      <td>3408</td>\n",
       "      <td>4</td>\n",
       "      <td>erin brockovich (2000)</td>\n",
       "      <td>Drama</td>\n",
       "    </tr>\n",
       "    <tr>\n",
       "      <th>4</th>\n",
       "      <td>1</td>\n",
       "      <td>2355</td>\n",
       "      <td>5</td>\n",
       "      <td>bug's life, a (1998)</td>\n",
       "      <td>Animation|Children's|Comedy</td>\n",
       "    </tr>\n",
       "  </tbody>\n",
       "</table>\n",
       "</div>"
      ],
      "text/plain": [
       "   user_id  movie_id  counts                                   title  \\\n",
       "0        1      1193       5  one flew over the cuckoo's nest (1975)   \n",
       "1        1       661       3        james and the giant peach (1996)   \n",
       "2        1       914       3                     my fair lady (1964)   \n",
       "3        1      3408       4                  erin brockovich (2000)   \n",
       "4        1      2355       5                    bug's life, a (1998)   \n",
       "\n",
       "                          genre  \n",
       "0                         Drama  \n",
       "1  Animation|Children's|Musical  \n",
       "2               Musical|Romance  \n",
       "3                         Drama  \n",
       "4   Animation|Children's|Comedy  "
      ]
     },
     "execution_count": 35,
     "metadata": {},
     "output_type": "execute_result"
    }
   ],
   "source": [
    "# 필요없는 timestamp 을 지워줍니다.\n",
    "del data['timestamp']\n",
    "data.head()"
   ]
  },
  {
   "cell_type": "code",
   "execution_count": 36,
   "id": "operating-covering",
   "metadata": {},
   "outputs": [
    {
     "data": {
      "text/plain": [
       "0                one flew over the cuckoo's nest (1975)\n",
       "1                      james and the giant peach (1996)\n",
       "2                                   my fair lady (1964)\n",
       "3                                erin brockovich (2000)\n",
       "4                                  bug's life, a (1998)\n",
       "5                            princess bride, the (1987)\n",
       "6                                        ben-hur (1959)\n",
       "7                             christmas story, a (1983)\n",
       "8                snow white and the seven dwarfs (1937)\n",
       "9                              wizard of oz, the (1939)\n",
       "10                          beauty and the beast (1991)\n",
       "11                                          gigi (1958)\n",
       "12                        miracle on 34th street (1947)\n",
       "13                      ferris bueller's day off (1986)\n",
       "14                           sound of music, the (1965)\n",
       "15                                     airplane! (1980)\n",
       "16                                        tarzan (1999)\n",
       "17                                         bambi (1942)\n",
       "18                                    awakenings (1990)\n",
       "19                                           big (1988)\n",
       "20                                 pleasantville (1998)\n",
       "21    wallace & gromit: the best of aardman animatio...\n",
       "22                            back to the future (1985)\n",
       "23                              schindler's list (1993)\n",
       "24                                meet joe black (1998)\n",
       "25                                    pocahontas (1995)\n",
       "26                    e.t. the extra-terrestrial (1982)\n",
       "27                                       titanic (1997)\n",
       "28                                       ponette (1996)\n",
       "29                                close shave, a (1995)\n",
       "30                                          antz (1998)\n",
       "31                             girl, interrupted (1999)\n",
       "32                                      hercules (1997)\n",
       "33                                       aladdin (1992)\n",
       "34                                         mulan (1998)\n",
       "35                  hunchback of notre dame, the (1996)\n",
       "36                       last days of disco, the (1998)\n",
       "37                                    cinderella (1950)\n",
       "38                              sixth sense, the (1999)\n",
       "39                                     apollo 13 (1995)\n",
       "40                                     toy story (1995)\n",
       "41                                      rain man (1988)\n",
       "42                            driving miss daisy (1989)\n",
       "43                     run lola run (lola rennt) (1998)\n",
       "44            star wars: episode iv - a new hope (1977)\n",
       "45                                  mary poppins (1964)\n",
       "46                                         dumbo (1941)\n",
       "47                         to kill a mockingbird (1962)\n",
       "48                           saving private ryan (1998)\n",
       "49                            secret garden, the (1993)\n",
       "50                                   toy story 2 (1999)\n",
       "51                                         fargo (1996)\n",
       "52                            dead poets society (1989)\n",
       "Name: title, dtype: object"
      ]
     },
     "execution_count": 36,
     "metadata": {},
     "output_type": "execute_result"
    }
   ],
   "source": [
    "# user_id가 1인 사용자가 어떤 영화를 시청했는지 확인해봅니다.\n",
    "movie_user_id_1 = data[data['user_id']==1]['title']\n",
    "movie_user_id_1"
   ]
  },
  {
   "cell_type": "markdown",
   "id": "olympic-crowd",
   "metadata": {},
   "source": [
    "## 2) 분석해 봅시다.\n",
    "---\n",
    "- ratings에 있는 유니크한 영화 개수\n",
    "- ratings에 있는 유니크한 사용자 수\n",
    "- 가장 인기 있는 영화 30개(인기순)"
   ]
  },
  {
   "cell_type": "markdown",
   "id": "wrapped-remainder",
   "metadata": {},
   "source": [
    "### 2-1. ratings에 있는 유니크한 영화 개수"
   ]
  },
  {
   "cell_type": "code",
   "execution_count": 37,
   "id": "accepting-silicon",
   "metadata": {},
   "outputs": [
    {
     "data": {
      "text/plain": [
       "3628"
      ]
     },
     "execution_count": 37,
     "metadata": {},
     "output_type": "execute_result"
    }
   ],
   "source": [
    "ratings['movie_id'].nunique()"
   ]
  },
  {
   "cell_type": "markdown",
   "id": "painful-modern",
   "metadata": {},
   "source": [
    "### 2-2. ratings에 있는 유니크한 사용자 수"
   ]
  },
  {
   "cell_type": "code",
   "execution_count": 38,
   "id": "starting-challenge",
   "metadata": {},
   "outputs": [
    {
     "data": {
      "text/plain": [
       "6039"
      ]
     },
     "execution_count": 38,
     "metadata": {},
     "output_type": "execute_result"
    }
   ],
   "source": [
    "ratings['user_id'].nunique()"
   ]
  },
  {
   "cell_type": "markdown",
   "id": "aware-printing",
   "metadata": {},
   "source": [
    "### 2-3. 가장 인기 있는 영화 30개(인기순)"
   ]
  },
  {
   "cell_type": "code",
   "execution_count": 39,
   "id": "fossil-nigeria",
   "metadata": {},
   "outputs": [
    {
     "data": {
      "text/plain": [
       "title\n",
       "american beauty (1999)                                   3211\n",
       "star wars: episode iv - a new hope (1977)                2910\n",
       "star wars: episode v - the empire strikes back (1980)    2885\n",
       "star wars: episode vi - return of the jedi (1983)        2716\n",
       "saving private ryan (1998)                               2561\n",
       "terminator 2: judgment day (1991)                        2509\n",
       "silence of the lambs, the (1991)                         2498\n",
       "raiders of the lost ark (1981)                           2473\n",
       "back to the future (1985)                                2460\n",
       "matrix, the (1999)                                       2434\n",
       "jurassic park (1993)                                     2413\n",
       "sixth sense, the (1999)                                  2385\n",
       "fargo (1996)                                             2371\n",
       "braveheart (1995)                                        2314\n",
       "men in black (1997)                                      2297\n",
       "schindler's list (1993)                                  2257\n",
       "princess bride, the (1987)                               2252\n",
       "shakespeare in love (1998)                               2213\n",
       "l.a. confidential (1997)                                 2210\n",
       "shawshank redemption, the (1994)                         2194\n",
       "godfather, the (1972)                                    2167\n",
       "groundhog day (1993)                                     2121\n",
       "e.t. the extra-terrestrial (1982)                        2102\n",
       "being john malkovich (1999)                              2066\n",
       "ghostbusters (1984)                                      2051\n",
       "pulp fiction (1994)                                      2030\n",
       "forrest gump (1994)                                      2022\n",
       "terminator, the (1984)                                   2019\n",
       "toy story (1995)                                         2000\n",
       "fugitive, the (1993)                                     1941\n",
       "Name: user_id, dtype: int64"
      ]
     },
     "execution_count": 39,
     "metadata": {},
     "output_type": "execute_result"
    }
   ],
   "source": [
    "data_count = data.groupby('title')['user_id'].count()\n",
    "data_count.sort_values(ascending=False).head(30)"
   ]
  },
  {
   "cell_type": "code",
   "execution_count": 40,
   "id": "rural-flooring",
   "metadata": {
    "scrolled": true
   },
   "outputs": [
    {
     "data": {
      "text/plain": [
       "count    6039.000000\n",
       "mean      138.512668\n",
       "std       156.241599\n",
       "min         1.000000\n",
       "25%        38.000000\n",
       "50%        81.000000\n",
       "75%       177.000000\n",
       "max      1968.000000\n",
       "Name: movie_id, dtype: float64"
      ]
     },
     "execution_count": 40,
     "metadata": {},
     "output_type": "execute_result"
    }
   ],
   "source": [
    "# 유저별 몇 편의 영화를 시청했는지에 대한 통계\n",
    "user_count = data.groupby('user_id')['movie_id'].count()\n",
    "user_count.describe()"
   ]
  },
  {
   "cell_type": "markdown",
   "id": "generous-terrorist",
   "metadata": {},
   "source": [
    "## 3) 내가 선호하는 영화를 5가지 골라서 ratings에 추가해 줍시다.\n",
    "---"
   ]
  },
  {
   "cell_type": "markdown",
   "id": "fresh-entity",
   "metadata": {},
   "source": [
    "우선 keyword로 영화를 찾고 movie_id를 이용해서 영화를 찾습니다."
   ]
  },
  {
   "cell_type": "code",
   "execution_count": 41,
   "id": "monetary-bride",
   "metadata": {},
   "outputs": [
    {
     "data": {
      "text/html": [
       "<div>\n",
       "<style scoped>\n",
       "    .dataframe tbody tr th:only-of-type {\n",
       "        vertical-align: middle;\n",
       "    }\n",
       "\n",
       "    .dataframe tbody tr th {\n",
       "        vertical-align: top;\n",
       "    }\n",
       "\n",
       "    .dataframe thead th {\n",
       "        text-align: right;\n",
       "    }\n",
       "</style>\n",
       "<table border=\"1\" class=\"dataframe\">\n",
       "  <thead>\n",
       "    <tr style=\"text-align: right;\">\n",
       "      <th></th>\n",
       "      <th>movie_id</th>\n",
       "      <th>title</th>\n",
       "      <th>genre</th>\n",
       "    </tr>\n",
       "  </thead>\n",
       "  <tbody>\n",
       "    <tr>\n",
       "      <th>585</th>\n",
       "      <td>589</td>\n",
       "      <td>terminator 2: judgment day (1991)</td>\n",
       "      <td>Action|Sci-Fi|Thriller</td>\n",
       "    </tr>\n",
       "    <tr>\n",
       "      <th>1220</th>\n",
       "      <td>1240</td>\n",
       "      <td>terminator, the (1984)</td>\n",
       "      <td>Action|Sci-Fi|Thriller</td>\n",
       "    </tr>\n",
       "  </tbody>\n",
       "</table>\n",
       "</div>"
      ],
      "text/plain": [
       "      movie_id                              title                   genre\n",
       "585        589  terminator 2: judgment day (1991)  Action|Sci-Fi|Thriller\n",
       "1220      1240             terminator, the (1984)  Action|Sci-Fi|Thriller"
      ]
     },
     "execution_count": 41,
     "metadata": {},
     "output_type": "execute_result"
    }
   ],
   "source": [
    "# keyword 로 영화 찾기\n",
    "movies[movies['title'].str.lower().str.contains('terminator', regex=False)]"
   ]
  },
  {
   "cell_type": "code",
   "execution_count": 42,
   "id": "southeast-thought",
   "metadata": {},
   "outputs": [
    {
     "data": {
      "text/html": [
       "<div>\n",
       "<style scoped>\n",
       "    .dataframe tbody tr th:only-of-type {\n",
       "        vertical-align: middle;\n",
       "    }\n",
       "\n",
       "    .dataframe tbody tr th {\n",
       "        vertical-align: top;\n",
       "    }\n",
       "\n",
       "    .dataframe thead th {\n",
       "        text-align: right;\n",
       "    }\n",
       "</style>\n",
       "<table border=\"1\" class=\"dataframe\">\n",
       "  <thead>\n",
       "    <tr style=\"text-align: right;\">\n",
       "      <th></th>\n",
       "      <th>movie_id</th>\n",
       "      <th>title</th>\n",
       "      <th>genre</th>\n",
       "    </tr>\n",
       "  </thead>\n",
       "  <tbody>\n",
       "    <tr>\n",
       "      <th>315</th>\n",
       "      <td>318</td>\n",
       "      <td>shawshank redemption, the (1994)</td>\n",
       "      <td>Drama</td>\n",
       "    </tr>\n",
       "  </tbody>\n",
       "</table>\n",
       "</div>"
      ],
      "text/plain": [
       "     movie_id                             title  genre\n",
       "315       318  shawshank redemption, the (1994)  Drama"
      ]
     },
     "execution_count": 42,
     "metadata": {},
     "output_type": "execute_result"
    }
   ],
   "source": [
    "# keyword 로 영화 찾기\n",
    "movies[movies['title'].str.lower().str.contains('shawshank', regex=False)]"
   ]
  },
  {
   "cell_type": "code",
   "execution_count": 43,
   "id": "interpreted-practitioner",
   "metadata": {},
   "outputs": [
    {
     "data": {
      "text/html": [
       "<div>\n",
       "<style scoped>\n",
       "    .dataframe tbody tr th:only-of-type {\n",
       "        vertical-align: middle;\n",
       "    }\n",
       "\n",
       "    .dataframe tbody tr th {\n",
       "        vertical-align: top;\n",
       "    }\n",
       "\n",
       "    .dataframe thead th {\n",
       "        text-align: right;\n",
       "    }\n",
       "</style>\n",
       "<table border=\"1\" class=\"dataframe\">\n",
       "  <thead>\n",
       "    <tr style=\"text-align: right;\">\n",
       "      <th></th>\n",
       "      <th>movie_id</th>\n",
       "      <th>title</th>\n",
       "      <th>genre</th>\n",
       "    </tr>\n",
       "  </thead>\n",
       "  <tbody>\n",
       "    <tr>\n",
       "      <th>2502</th>\n",
       "      <td>2571</td>\n",
       "      <td>matrix, the (1999)</td>\n",
       "      <td>Action|Sci-Fi|Thriller</td>\n",
       "    </tr>\n",
       "  </tbody>\n",
       "</table>\n",
       "</div>"
      ],
      "text/plain": [
       "      movie_id               title                   genre\n",
       "2502      2571  matrix, the (1999)  Action|Sci-Fi|Thriller"
      ]
     },
     "execution_count": 43,
     "metadata": {},
     "output_type": "execute_result"
    }
   ],
   "source": [
    "# keyword 로 영화 찾기\n",
    "movies[movies['title'].str.lower().str.contains('matrix', regex=False)]"
   ]
  },
  {
   "cell_type": "code",
   "execution_count": 44,
   "id": "sapphire-preview",
   "metadata": {},
   "outputs": [
    {
     "data": {
      "text/html": [
       "<div>\n",
       "<style scoped>\n",
       "    .dataframe tbody tr th:only-of-type {\n",
       "        vertical-align: middle;\n",
       "    }\n",
       "\n",
       "    .dataframe tbody tr th {\n",
       "        vertical-align: top;\n",
       "    }\n",
       "\n",
       "    .dataframe thead th {\n",
       "        text-align: right;\n",
       "    }\n",
       "</style>\n",
       "<table border=\"1\" class=\"dataframe\">\n",
       "  <thead>\n",
       "    <tr style=\"text-align: right;\">\n",
       "      <th></th>\n",
       "      <th>movie_id</th>\n",
       "      <th>title</th>\n",
       "      <th>genre</th>\n",
       "    </tr>\n",
       "  </thead>\n",
       "  <tbody>\n",
       "    <tr>\n",
       "      <th>352</th>\n",
       "      <td>356</td>\n",
       "      <td>forrest gump (1994)</td>\n",
       "      <td>Comedy|Romance|War</td>\n",
       "    </tr>\n",
       "  </tbody>\n",
       "</table>\n",
       "</div>"
      ],
      "text/plain": [
       "     movie_id                title               genre\n",
       "352       356  forrest gump (1994)  Comedy|Romance|War"
      ]
     },
     "execution_count": 44,
     "metadata": {},
     "output_type": "execute_result"
    }
   ],
   "source": [
    "# keyword 로 영화 찾기\n",
    "movies[movies['title'].str.lower().str.contains('forrest', regex=False)]"
   ]
  },
  {
   "cell_type": "code",
   "execution_count": 45,
   "id": "pleasant-breed",
   "metadata": {},
   "outputs": [
    {
     "data": {
      "text/html": [
       "<div>\n",
       "<style scoped>\n",
       "    .dataframe tbody tr th:only-of-type {\n",
       "        vertical-align: middle;\n",
       "    }\n",
       "\n",
       "    .dataframe tbody tr th {\n",
       "        vertical-align: top;\n",
       "    }\n",
       "\n",
       "    .dataframe thead th {\n",
       "        text-align: right;\n",
       "    }\n",
       "</style>\n",
       "<table border=\"1\" class=\"dataframe\">\n",
       "  <thead>\n",
       "    <tr style=\"text-align: right;\">\n",
       "      <th></th>\n",
       "      <th>movie_id</th>\n",
       "      <th>title</th>\n",
       "      <th>genre</th>\n",
       "    </tr>\n",
       "  </thead>\n",
       "  <tbody>\n",
       "    <tr>\n",
       "      <th>0</th>\n",
       "      <td>1</td>\n",
       "      <td>toy story (1995)</td>\n",
       "      <td>Animation|Children's|Comedy</td>\n",
       "    </tr>\n",
       "    <tr>\n",
       "      <th>1948</th>\n",
       "      <td>2017</td>\n",
       "      <td>babes in toyland (1961)</td>\n",
       "      <td>Children's|Fantasy|Musical</td>\n",
       "    </tr>\n",
       "    <tr>\n",
       "      <th>2184</th>\n",
       "      <td>2253</td>\n",
       "      <td>toys (1992)</td>\n",
       "      <td>Action|Comedy|Fantasy</td>\n",
       "    </tr>\n",
       "    <tr>\n",
       "      <th>2411</th>\n",
       "      <td>2480</td>\n",
       "      <td>dry cleaning (nettoyage à sec) (1997)</td>\n",
       "      <td>Drama</td>\n",
       "    </tr>\n",
       "    <tr>\n",
       "      <th>3017</th>\n",
       "      <td>3086</td>\n",
       "      <td>march of the wooden soldiers (a.k.a. laurel &amp; ...</td>\n",
       "      <td>Comedy</td>\n",
       "    </tr>\n",
       "    <tr>\n",
       "      <th>3045</th>\n",
       "      <td>3114</td>\n",
       "      <td>toy story 2 (1999)</td>\n",
       "      <td>Animation|Children's|Comedy</td>\n",
       "    </tr>\n",
       "  </tbody>\n",
       "</table>\n",
       "</div>"
      ],
      "text/plain": [
       "      movie_id                                              title  \\\n",
       "0            1                                   toy story (1995)   \n",
       "1948      2017                            babes in toyland (1961)   \n",
       "2184      2253                                        toys (1992)   \n",
       "2411      2480              dry cleaning (nettoyage à sec) (1997)   \n",
       "3017      3086  march of the wooden soldiers (a.k.a. laurel & ...   \n",
       "3045      3114                                 toy story 2 (1999)   \n",
       "\n",
       "                            genre  \n",
       "0     Animation|Children's|Comedy  \n",
       "1948   Children's|Fantasy|Musical  \n",
       "2184        Action|Comedy|Fantasy  \n",
       "2411                        Drama  \n",
       "3017                       Comedy  \n",
       "3045  Animation|Children's|Comedy  "
      ]
     },
     "execution_count": 45,
     "metadata": {},
     "output_type": "execute_result"
    }
   ],
   "source": [
    "# keyword 로 영화 찾기\n",
    "movies[movies['title'].str.lower().str.contains('toy', regex=False)]"
   ]
  },
  {
   "cell_type": "code",
   "execution_count": 46,
   "id": "persistent-seminar",
   "metadata": {},
   "outputs": [
    {
     "data": {
      "text/html": [
       "<div>\n",
       "<style scoped>\n",
       "    .dataframe tbody tr th:only-of-type {\n",
       "        vertical-align: middle;\n",
       "    }\n",
       "\n",
       "    .dataframe tbody tr th {\n",
       "        vertical-align: top;\n",
       "    }\n",
       "\n",
       "    .dataframe thead th {\n",
       "        text-align: right;\n",
       "    }\n",
       "</style>\n",
       "<table border=\"1\" class=\"dataframe\">\n",
       "  <thead>\n",
       "    <tr style=\"text-align: right;\">\n",
       "      <th></th>\n",
       "      <th>user_id</th>\n",
       "      <th>movie_id</th>\n",
       "      <th>title</th>\n",
       "      <th>counts</th>\n",
       "    </tr>\n",
       "  </thead>\n",
       "  <tbody>\n",
       "    <tr>\n",
       "      <th>0</th>\n",
       "      <td>hojin</td>\n",
       "      <td>318</td>\n",
       "      <td>shawshank redemption, the (1994)</td>\n",
       "      <td>5</td>\n",
       "    </tr>\n",
       "    <tr>\n",
       "      <th>1</th>\n",
       "      <td>hojin</td>\n",
       "      <td>2571</td>\n",
       "      <td>matrix, the (1999)</td>\n",
       "      <td>5</td>\n",
       "    </tr>\n",
       "    <tr>\n",
       "      <th>2</th>\n",
       "      <td>hojin</td>\n",
       "      <td>356</td>\n",
       "      <td>forrest gump (1994)</td>\n",
       "      <td>5</td>\n",
       "    </tr>\n",
       "    <tr>\n",
       "      <th>3</th>\n",
       "      <td>hojin</td>\n",
       "      <td>589</td>\n",
       "      <td>terminator 2: judgment day (1991)</td>\n",
       "      <td>5</td>\n",
       "    </tr>\n",
       "    <tr>\n",
       "      <th>4</th>\n",
       "      <td>hojin</td>\n",
       "      <td>1</td>\n",
       "      <td>toy story (1995)</td>\n",
       "      <td>5</td>\n",
       "    </tr>\n",
       "  </tbody>\n",
       "</table>\n",
       "</div>"
      ],
      "text/plain": [
       "  user_id  movie_id                              title  counts\n",
       "0   hojin       318   shawshank redemption, the (1994)       5\n",
       "1   hojin      2571                 matrix, the (1999)       5\n",
       "2   hojin       356                forrest gump (1994)       5\n",
       "3   hojin       589  terminator 2: judgment day (1991)       5\n",
       "4   hojin         1                   toy story (1995)       5"
      ]
     },
     "execution_count": 46,
     "metadata": {},
     "output_type": "execute_result"
    }
   ],
   "source": [
    "# 내가 선호하는 영화 5개 선정\n",
    "# (한글)영화 이름 /(영어) 영화 이름 / movie_id\n",
    "# 쇼생크 탈출 / shawshank redemption, the (1994) / 318\n",
    "# 매트릭스 / matrix, the (1999) / 2571\n",
    "# 포레스트 검프 / forrest gump (1994) / 356\n",
    "# 터미네이터 2 / terminator 2: judgment day (1991) / 589\n",
    "# 토이스토리 / toy story (1995) / 1\n",
    "\n",
    "# 내가 선호하는 영화 id 리스트화\n",
    "my_favoite_movie_id = [318, 2571, 356 , 589, 1]\n",
    "\n",
    "# id 리스트를 title 리스트로 변환\n",
    "my_favorite_movie = []\n",
    "for mid in my_favoite_movie_id:\n",
    "    my_favorite_movie.append(list(movies[movies['movie_id']==mid]['title'])[0])\n",
    "\n",
    "# 'hojin'이라는 user_id가 위 영화를 5회씩 시청했다고 가정하겠습니다.\n",
    "my_watchlist = pd.DataFrame({'user_id': ['hojin']*5, 'movie_id': my_favoite_movie_id, 'title': my_favorite_movie, 'counts':[5]*5})\n",
    "\n",
    "if not data.isin({'user_id':['hojin']})['user_id'].any():  # user_id에 'hojin'이라는 데이터가 없다면\n",
    "    data = data.append(my_watchlist)                           # 위에 임의로 만든 my_favorite 데이터를 추가해 줍니다. \n",
    "\n",
    "data = data[['user_id', 'movie_id', 'title', 'counts']]\n",
    "data.tail()"
   ]
  },
  {
   "cell_type": "markdown",
   "id": "initial-tuning",
   "metadata": {},
   "source": [
    "## 4) CSR matrix를 직접 만들어 봅시다.\n",
    "---"
   ]
  },
  {
   "cell_type": "code",
   "execution_count": 51,
   "id": "determined-stylus",
   "metadata": {},
   "outputs": [],
   "source": [
    "from scipy.sparse import csr_matrix"
   ]
  },
  {
   "cell_type": "code",
   "execution_count": 47,
   "id": "agreed-porcelain",
   "metadata": {},
   "outputs": [],
   "source": [
    "# 고유한 유저, 영화를 찾기\n",
    "user_unique = data['user_id'].unique()\n",
    "movie_unique = data['title'].unique()"
   ]
  },
  {
   "cell_type": "code",
   "execution_count": 48,
   "id": "handmade-conditioning",
   "metadata": {},
   "outputs": [],
   "source": [
    "# 유저, 영화 indexing\n",
    "user_to_idx = {v:k for k,v in enumerate(user_unique)}\n",
    "movie_to_idx = {v:k for k,v in enumerate(movie_unique)}"
   ]
  },
  {
   "cell_type": "code",
   "execution_count": 49,
   "id": "underlying-foundation",
   "metadata": {},
   "outputs": [
    {
     "name": "stdout",
     "output_type": "stream",
     "text": [
      "6039\n",
      "40\n"
     ]
    }
   ],
   "source": [
    "# indexing 여부 확인\n",
    "print(user_to_idx['hojin']) \n",
    "print(movie_to_idx['toy story (1995)'])"
   ]
  },
  {
   "cell_type": "code",
   "execution_count": 53,
   "id": "female-jefferson",
   "metadata": {
    "scrolled": false
   },
   "outputs": [
    {
     "name": "stdout",
     "output_type": "stream",
     "text": [
      "user_id column indexing OK!!\n",
      "movie column indexing OK!!\n"
     ]
    },
    {
     "data": {
      "text/html": [
       "<div>\n",
       "<style scoped>\n",
       "    .dataframe tbody tr th:only-of-type {\n",
       "        vertical-align: middle;\n",
       "    }\n",
       "\n",
       "    .dataframe tbody tr th {\n",
       "        vertical-align: top;\n",
       "    }\n",
       "\n",
       "    .dataframe thead th {\n",
       "        text-align: right;\n",
       "    }\n",
       "</style>\n",
       "<table border=\"1\" class=\"dataframe\">\n",
       "  <thead>\n",
       "    <tr style=\"text-align: right;\">\n",
       "      <th></th>\n",
       "      <th>user_id</th>\n",
       "      <th>movie_id</th>\n",
       "      <th>title</th>\n",
       "      <th>counts</th>\n",
       "      <th>user_id2</th>\n",
       "      <th>movie_id2</th>\n",
       "    </tr>\n",
       "  </thead>\n",
       "  <tbody>\n",
       "    <tr>\n",
       "      <th>0</th>\n",
       "      <td>1</td>\n",
       "      <td>1193</td>\n",
       "      <td>one flew over the cuckoo's nest (1975)</td>\n",
       "      <td>5</td>\n",
       "      <td>0</td>\n",
       "      <td>0</td>\n",
       "    </tr>\n",
       "    <tr>\n",
       "      <th>1</th>\n",
       "      <td>1</td>\n",
       "      <td>661</td>\n",
       "      <td>james and the giant peach (1996)</td>\n",
       "      <td>3</td>\n",
       "      <td>0</td>\n",
       "      <td>1</td>\n",
       "    </tr>\n",
       "    <tr>\n",
       "      <th>2</th>\n",
       "      <td>1</td>\n",
       "      <td>914</td>\n",
       "      <td>my fair lady (1964)</td>\n",
       "      <td>3</td>\n",
       "      <td>0</td>\n",
       "      <td>2</td>\n",
       "    </tr>\n",
       "    <tr>\n",
       "      <th>3</th>\n",
       "      <td>1</td>\n",
       "      <td>3408</td>\n",
       "      <td>erin brockovich (2000)</td>\n",
       "      <td>4</td>\n",
       "      <td>0</td>\n",
       "      <td>3</td>\n",
       "    </tr>\n",
       "    <tr>\n",
       "      <th>4</th>\n",
       "      <td>1</td>\n",
       "      <td>2355</td>\n",
       "      <td>bug's life, a (1998)</td>\n",
       "      <td>5</td>\n",
       "      <td>0</td>\n",
       "      <td>4</td>\n",
       "    </tr>\n",
       "    <tr>\n",
       "      <th>...</th>\n",
       "      <td>...</td>\n",
       "      <td>...</td>\n",
       "      <td>...</td>\n",
       "      <td>...</td>\n",
       "      <td>...</td>\n",
       "      <td>...</td>\n",
       "    </tr>\n",
       "    <tr>\n",
       "      <th>0</th>\n",
       "      <td>hojin</td>\n",
       "      <td>318</td>\n",
       "      <td>shawshank redemption, the (1994)</td>\n",
       "      <td>5</td>\n",
       "      <td>6039</td>\n",
       "      <td>157</td>\n",
       "    </tr>\n",
       "    <tr>\n",
       "      <th>1</th>\n",
       "      <td>hojin</td>\n",
       "      <td>2571</td>\n",
       "      <td>matrix, the (1999)</td>\n",
       "      <td>5</td>\n",
       "      <td>6039</td>\n",
       "      <td>124</td>\n",
       "    </tr>\n",
       "    <tr>\n",
       "      <th>2</th>\n",
       "      <td>hojin</td>\n",
       "      <td>356</td>\n",
       "      <td>forrest gump (1994)</td>\n",
       "      <td>5</td>\n",
       "      <td>6039</td>\n",
       "      <td>160</td>\n",
       "    </tr>\n",
       "    <tr>\n",
       "      <th>3</th>\n",
       "      <td>hojin</td>\n",
       "      <td>589</td>\n",
       "      <td>terminator 2: judgment day (1991)</td>\n",
       "      <td>5</td>\n",
       "      <td>6039</td>\n",
       "      <td>92</td>\n",
       "    </tr>\n",
       "    <tr>\n",
       "      <th>4</th>\n",
       "      <td>hojin</td>\n",
       "      <td>1</td>\n",
       "      <td>toy story (1995)</td>\n",
       "      <td>5</td>\n",
       "      <td>6039</td>\n",
       "      <td>40</td>\n",
       "    </tr>\n",
       "  </tbody>\n",
       "</table>\n",
       "<p>836483 rows × 6 columns</p>\n",
       "</div>"
      ],
      "text/plain": [
       "   user_id  movie_id                                   title  counts  \\\n",
       "0        1      1193  one flew over the cuckoo's nest (1975)       5   \n",
       "1        1       661        james and the giant peach (1996)       3   \n",
       "2        1       914                     my fair lady (1964)       3   \n",
       "3        1      3408                  erin brockovich (2000)       4   \n",
       "4        1      2355                    bug's life, a (1998)       5   \n",
       "..     ...       ...                                     ...     ...   \n",
       "0    hojin       318        shawshank redemption, the (1994)       5   \n",
       "1    hojin      2571                      matrix, the (1999)       5   \n",
       "2    hojin       356                     forrest gump (1994)       5   \n",
       "3    hojin       589       terminator 2: judgment day (1991)       5   \n",
       "4    hojin         1                        toy story (1995)       5   \n",
       "\n",
       "    user_id2  movie_id2  \n",
       "0          0          0  \n",
       "1          0          1  \n",
       "2          0          2  \n",
       "3          0          3  \n",
       "4          0          4  \n",
       "..       ...        ...  \n",
       "0       6039        157  \n",
       "1       6039        124  \n",
       "2       6039        160  \n",
       "3       6039         92  \n",
       "4       6039         40  \n",
       "\n",
       "[836483 rows x 6 columns]"
      ]
     },
     "execution_count": 53,
     "metadata": {},
     "output_type": "execute_result"
    }
   ],
   "source": [
    "# 데이터 컬럼 내 값을 indexing된 값으로 교체\n",
    "\n",
    "# user_to_idx.get을 통해 user_id 컬럼의 모든 값을 인덱싱한 Series를 구해 봅시다. \n",
    "# 혹시 정상적으로 인덱싱되지 않은 row가 있다면 인덱스가 NaN이 될 테니 dropna()로 제거합니다. \n",
    "temp_user_data = data['user_id'].map(user_to_idx.get).dropna()\n",
    "if len(temp_user_data) == len(data):   # 모든 row가 정상적으로 인덱싱되었다면\n",
    "    print('user_id column indexing OK!!')\n",
    "    data['new_user_id'] = temp_user_data   # data['user_id']을 인덱싱된 Series로 교체해 줍니다. \n",
    "else:\n",
    "    print('user_id column indexing Fail!!')\n",
    "    \n",
    "# movie_to_idx을 통해 title 컬럼도 동일한 방식으로 인덱싱해 줍니다. \n",
    "temp_movie_data = data['title'].map(movie_to_idx.get).dropna()\n",
    "if len(temp_movie_data) == len(data):\n",
    "    print('title column indexing OK!!')\n",
    "    data['new_movie_id'] = temp_movie_data\n",
    "else:\n",
    "    print('movie_id column indexing Fail!!')\n",
    "\n",
    "data"
   ]
  },
  {
   "cell_type": "code",
   "execution_count": 54,
   "id": "serial-allergy",
   "metadata": {},
   "outputs": [
    {
     "data": {
      "text/plain": [
       "<6040x3628 sparse matrix of type '<class 'numpy.longlong'>'\n",
       "\twith 836483 stored elements in Compressed Sparse Row format>"
      ]
     },
     "execution_count": 54,
     "metadata": {},
     "output_type": "execute_result"
    }
   ],
   "source": [
    "# CSR Matrix 생성\n",
    "num_user = data['user_id2'].nunique()\n",
    "num_movie = data['movie_id2'].nunique()\n",
    "\n",
    "# csr_matrix((data, (row_ind, col_ind)), [shape=(M, N)])\n",
    "csr_data = csr_matrix((data.counts, (data.user_id2, data.movie_id2)), shape= (num_user, num_movie))\n",
    "csr_data"
   ]
  },
  {
   "cell_type": "markdown",
   "id": "addressed-stretch",
   "metadata": {},
   "source": [
    "## 5) als_model = AlternatingLeastSquares 모델을 직접 구성하여 훈련시켜 봅시다.\n",
    "---"
   ]
  },
  {
   "cell_type": "markdown",
   "id": "foreign-camcorder",
   "metadata": {},
   "source": [
    "Matrix Factorization 모델을 implicit 패키지를 사용하여 학습시킵니다.\n",
    "\n",
    "- implicit 패키지는 암묵적(implicit) dataset을 사용하는 다양한 모델을 굉짱히 빠르게 학습할 수 있는 패키지입니다.\n",
    "- 이 패키지에서 구현된 als(AlternatingLeastSquares) 모델을 사용합니다."
   ]
  },
  {
   "cell_type": "code",
   "execution_count": 55,
   "id": "beginning-graham",
   "metadata": {},
   "outputs": [],
   "source": [
    "from implicit.als import AlternatingLeastSquares\n",
    "import os\n",
    "import numpy as np\n",
    "\n",
    "os.environ['OPENBLAS_NUM_THREADS']='1'\n",
    "os.environ['KMP_DUPLICATE_LIB_OK']='True'\n",
    "os.environ['MKL_NUM_THREADS']='1'"
   ]
  },
  {
   "cell_type": "markdown",
   "id": "corporate-prerequisite",
   "metadata": {},
   "source": [
    "AlternatingLeastSquares 클래스의 __init__ 파라미터를 살펴보면,\n",
    "\n",
    "1. factors : 유저와 아이템의 벡터를 몇 차원으로 할 것인지\n",
    "2. regularization : 과적합을 방지하기 위해 정규화 값을 얼마나 사용할 것인지\n",
    "3. use_gpu : GPU를 사용할 것인지\n",
    "4. iterations : epochs와 같은 의미입니다. 데이터를 몇 번 반복해서 학습할 것인지\n",
    "\n",
    "참고로 1,4를 늘릴수록 학습을 잘 하게 되지만 과적합의 우려가 있습니다."
   ]
  },
  {
   "cell_type": "code",
   "execution_count": 56,
   "id": "settled-division",
   "metadata": {},
   "outputs": [],
   "source": [
    "# Implicit AlternatingLeastSquares 모델의 선언\n",
    "als_model = AlternatingLeastSquares(factors=100, regularization=0.01, use_gpu=False, iterations=15, dtype=np.float32)"
   ]
  },
  {
   "cell_type": "code",
   "execution_count": 57,
   "id": "happy-ranking",
   "metadata": {},
   "outputs": [
    {
     "data": {
      "text/plain": [
       "<3628x6040 sparse matrix of type '<class 'numpy.longlong'>'\n",
       "\twith 836483 stored elements in Compressed Sparse Column format>"
      ]
     },
     "execution_count": 57,
     "metadata": {},
     "output_type": "execute_result"
    }
   ],
   "source": [
    "# als 모델은 input으로 item X user 꼴의 matrix를 받기 때문에 Transpose 해줍니다.\n",
    "csr_data_transpose = csr_data.T\n",
    "csr_data_transpose"
   ]
  },
  {
   "cell_type": "code",
   "execution_count": 58,
   "id": "latest-richardson",
   "metadata": {},
   "outputs": [
    {
     "data": {
      "application/vnd.jupyter.widget-view+json": {
       "model_id": "98391cf8ab054826956b6d67714b04fa",
       "version_major": 2,
       "version_minor": 0
      },
      "text/plain": [
       "  0%|          | 0/15 [00:00<?, ?it/s]"
      ]
     },
     "metadata": {},
     "output_type": "display_data"
    }
   ],
   "source": [
    "# 모델 훈련\n",
    "als_model.fit(csr_data_transpose)"
   ]
  },
  {
   "cell_type": "markdown",
   "id": "challenging-africa",
   "metadata": {},
   "source": [
    "## 6) 내가 선호하는 5가지 영화 중 하나와 그 외의 영화 하나를 골라 훈련된 모델이 예측한 나의 선호도를 파악해 보세요.\n",
    "---"
   ]
  },
  {
   "cell_type": "markdown",
   "id": "premium-integer",
   "metadata": {},
   "source": [
    "### 6-1) hojin user 벡터와 toy story (1995) 벡터 내적을 통한 선호도 파악"
   ]
  },
  {
   "cell_type": "code",
   "execution_count": 65,
   "id": "altered-holocaust",
   "metadata": {},
   "outputs": [],
   "source": [
    "hojin, toy_story = user_to_idx['hojin'], movie_to_idx['toy story (1995)']\n",
    "hojin_vector, toy_story_vector = als_model.user_factors[hojin], als_model.item_factors[toy_story]"
   ]
  },
  {
   "cell_type": "code",
   "execution_count": 66,
   "id": "arbitrary-albuquerque",
   "metadata": {},
   "outputs": [
    {
     "name": "stdout",
     "output_type": "stream",
     "text": [
      "(100,)\n"
     ]
    },
    {
     "data": {
      "text/plain": [
       "array([-0.31227317, -0.59012204,  0.8572613 , -0.03003868, -0.01154263,\n",
       "       -0.37485448,  0.17735931,  0.5475062 ,  0.40671805,  1.5321466 ,\n",
       "        0.8196254 ,  0.51811105,  0.5252771 , -0.38434356,  0.40973097,\n",
       "        1.2130378 ,  0.41677767, -0.37284306, -0.3784905 ,  0.23228931,\n",
       "        0.27963373, -0.11457254, -0.67198235, -1.2719319 , -0.06665768,\n",
       "       -0.1145003 ,  0.41595927,  0.4579617 ,  0.50138754, -0.12376873,\n",
       "        0.3499459 ,  0.31178138,  0.05197097, -0.8284335 , -0.15203242,\n",
       "        0.02410396, -0.00348074,  0.25616574,  0.2598439 , -0.15229937,\n",
       "        0.07414231, -0.7746767 , -0.8986872 , -0.10460604, -0.525213  ,\n",
       "       -0.5794111 , -0.34248823, -0.36557487, -0.31474927,  0.4966923 ,\n",
       "        0.1148603 , -0.48839307, -0.5833302 , -0.54751116,  0.1944994 ,\n",
       "        0.31648985,  0.64005345,  0.6981818 , -0.5176394 , -0.48766503,\n",
       "       -0.6015009 ,  0.45172703,  0.35486808, -0.29652384, -0.6683998 ,\n",
       "        0.5481966 , -0.22577198,  0.5079388 , -0.02790587, -0.05414722,\n",
       "        0.02718759, -0.5422698 ,  0.5534428 ,  0.04807004,  0.29738715,\n",
       "       -0.3247213 , -0.33398527, -0.27598372,  1.1225153 , -0.57763994,\n",
       "       -0.68643415, -0.27051508,  0.01175256, -0.10912063,  1.1851617 ,\n",
       "        0.3851059 , -0.58816206,  0.02056803,  0.86257905,  0.08964556,\n",
       "       -1.290469  , -0.8339223 , -0.3189119 ,  0.9978164 ,  0.182863  ,\n",
       "        0.4712316 ,  0.8088962 ,  0.07880183, -0.01153812,  0.52232575],\n",
       "      dtype=float32)"
      ]
     },
     "execution_count": 66,
     "metadata": {},
     "output_type": "execute_result"
    }
   ],
   "source": [
    "# hojin 벡터\n",
    "print(hojin_vector.shape)\n",
    "hojin_vector"
   ]
  },
  {
   "cell_type": "code",
   "execution_count": 67,
   "id": "rolled-challenge",
   "metadata": {},
   "outputs": [
    {
     "data": {
      "text/plain": [
       "array([-0.02599273, -0.01448067,  0.00206561,  0.01485701, -0.00671117,\n",
       "        0.0078555 ,  0.01303897,  0.04105201,  0.01287863,  0.04405019,\n",
       "        0.03125044,  0.03102317,  0.03272775, -0.00715868,  0.02101746,\n",
       "        0.03433464,  0.02658986,  0.00355085, -0.02518565,  0.01517774,\n",
       "        0.01847286, -0.00758658,  0.0110523 , -0.02681017,  0.02056097,\n",
       "        0.0103089 ,  0.02401089, -0.01786372,  0.02484703,  0.01484738,\n",
       "        0.00764076,  0.01340989, -0.0033003 , -0.02722387,  0.02493652,\n",
       "       -0.00461932,  0.00673437,  0.01241204, -0.00930156,  0.00101833,\n",
       "        0.01218679,  0.0245075 ,  0.00539652,  0.01144614, -0.02352067,\n",
       "        0.010469  , -0.02548653, -0.01731221,  0.02644469,  0.03065122,\n",
       "        0.02226518,  0.01457084,  0.01875001, -0.01737853,  0.00068611,\n",
       "       -0.0073206 , -0.00734477,  0.02498588, -0.00614583,  0.0162709 ,\n",
       "       -0.02145315,  0.02816755,  0.00693616, -0.00254425,  0.00721628,\n",
       "        0.04608276,  0.02851286,  0.01654456, -0.01022516, -0.01402058,\n",
       "        0.01006702, -0.04251577,  0.0056598 ,  0.01655751,  0.02190752,\n",
       "        0.02296481, -0.00708095, -0.00569949,  0.03042052, -0.02050067,\n",
       "       -0.02995562, -0.00126305, -0.0019079 , -0.01100186,  0.0430016 ,\n",
       "        0.02944864, -0.00040175,  0.0071838 ,  0.01607712,  0.00183854,\n",
       "       -0.02220064,  0.01214032, -0.00037588,  0.0149937 , -0.00550998,\n",
       "        0.00483124, -0.02981977,  0.02046221,  0.00685044,  0.01410915],\n",
       "      dtype=float32)"
      ]
     },
     "execution_count": 67,
     "metadata": {},
     "output_type": "execute_result"
    }
   ],
   "source": [
    "# toy_story 벡터\n",
    "toy_story_vector"
   ]
  },
  {
   "cell_type": "code",
   "execution_count": 83,
   "id": "atomic-people",
   "metadata": {},
   "outputs": [
    {
     "data": {
      "text/plain": [
       "0.5667861"
      ]
     },
     "execution_count": 83,
     "metadata": {},
     "output_type": "execute_result"
    }
   ],
   "source": [
    "# hojin 벡터와 toy_story 벡터 내적을 통한 선호도 파악 진행\n",
    "np.dot(hojin_vector, toy_story_vector)"
   ]
  },
  {
   "cell_type": "markdown",
   "id": "unavailable-parade",
   "metadata": {},
   "source": [
    "무작위로 선정한 american beauty (1999) 영화와 벡터 내적을 통한 선호도 파악 진행"
   ]
  },
  {
   "cell_type": "code",
   "execution_count": 81,
   "id": "vocal-canyon",
   "metadata": {},
   "outputs": [
    {
     "data": {
      "text/plain": [
       "0.16188025"
      ]
     },
     "execution_count": 81,
     "metadata": {},
     "output_type": "execute_result"
    }
   ],
   "source": [
    "american = movie_to_idx['american beauty (1999)']\n",
    "american_vector = als_model.item_factors[american]\n",
    "np.dot(hojin_vector, american_vector)"
   ]
  },
  {
   "cell_type": "markdown",
   "id": "nuclear-comedy",
   "metadata": {},
   "source": [
    "- hojin 벡터와 toy_story 벡터를 내적해 본 결과, 내가 선호하는 영화에선 0.5667861의 내적값을 보이고,  무작위로 선정한 american 벡터를 내적해 본 결과, 0.16188025의 내적값을 보임을 통해, 벡터의 내적값이 클 수록 hojin 이 선호할 만한 영화 임을 추측해볼 수 있습니다.  "
   ]
  },
  {
   "cell_type": "markdown",
   "id": "clean-sample",
   "metadata": {},
   "source": [
    "## 7) 내가 좋아하는 영화와 비슷한 영화를 추천받아 봅시다.\n",
    "---"
   ]
  },
  {
   "cell_type": "markdown",
   "id": "improved-audience",
   "metadata": {},
   "source": [
    "### 7-1) forrest gump (1994) 와 비슷한 영화 추천 받기"
   ]
  },
  {
   "cell_type": "code",
   "execution_count": 102,
   "id": "bound-aquarium",
   "metadata": {},
   "outputs": [
    {
     "data": {
      "text/plain": [
       "[(160, 1.0000001),\n",
       " (110, 0.60652167),\n",
       " (336, 0.5095103),\n",
       " (154, 0.46675903),\n",
       " (666, 0.46410143),\n",
       " (1151, 0.45613104),\n",
       " (508, 0.453468),\n",
       " (626, 0.45124596),\n",
       " (613, 0.44748613),\n",
       " (20, 0.44215488)]"
      ]
     },
     "execution_count": 102,
     "metadata": {},
     "output_type": "execute_result"
    }
   ],
   "source": [
    "# 좋아하는 영화와 비슷한 영화의 인덱스 얻기\n",
    "favorite_movie = 'forrest gump (1994)'\n",
    "movie_id = movie_to_idx[favorite_movie]\n",
    "similar_movie = als_model.similar_items(movie_id, N=10)\n",
    "similar_movie"
   ]
  },
  {
   "cell_type": "code",
   "execution_count": 103,
   "id": "small-traffic",
   "metadata": {},
   "outputs": [
    {
     "data": {
      "text/plain": [
       "['forrest gump (1994)',\n",
       " 'groundhog day (1993)',\n",
       " 'pretty woman (1990)',\n",
       " 'as good as it gets (1997)',\n",
       " 'sleepless in seattle (1993)',\n",
       " 'notting hill (1999)',\n",
       " 'ghost (1990)',\n",
       " \"you've got mail (1998)\",\n",
       " 'four weddings and a funeral (1994)',\n",
       " 'pleasantville (1998)']"
      ]
     },
     "execution_count": 103,
     "metadata": {},
     "output_type": "execute_result"
    }
   ],
   "source": [
    "# movie_to_idx 를 뒤집어, index로부터 movie 이름을 얻는 dict를 생성합니다. \n",
    "idx_to_movie = {v:k for k,v in movie_to_idx.items()}\n",
    "[idx_to_movie[i[0]] for i in similar_movie]"
   ]
  },
  {
   "cell_type": "code",
   "execution_count": 104,
   "id": "analyzed-witness",
   "metadata": {},
   "outputs": [],
   "source": [
    "# 위 과정을 함수로 만들기\n",
    "def get_similar_movie(movie_name: str):\n",
    "    movie_id2 = movie_to_idx[movie_name]\n",
    "    similar_movie = als_model.similar_items(movie_id2)\n",
    "    similar_movie = [idx_to_movie[i[0]] for i in similar_movie]\n",
    "    return similar_movie"
   ]
  },
  {
   "cell_type": "code",
   "execution_count": 106,
   "id": "prime-advocate",
   "metadata": {},
   "outputs": [
    {
     "data": {
      "text/html": [
       "<div>\n",
       "<style scoped>\n",
       "    .dataframe tbody tr th:only-of-type {\n",
       "        vertical-align: middle;\n",
       "    }\n",
       "\n",
       "    .dataframe tbody tr th {\n",
       "        vertical-align: top;\n",
       "    }\n",
       "\n",
       "    .dataframe thead th {\n",
       "        text-align: right;\n",
       "    }\n",
       "</style>\n",
       "<table border=\"1\" class=\"dataframe\">\n",
       "  <thead>\n",
       "    <tr style=\"text-align: right;\">\n",
       "      <th></th>\n",
       "      <th>title</th>\n",
       "    </tr>\n",
       "  </thead>\n",
       "  <tbody>\n",
       "    <tr>\n",
       "      <th>0</th>\n",
       "      <td>shawshank redemption, the (1994)</td>\n",
       "    </tr>\n",
       "    <tr>\n",
       "      <th>1</th>\n",
       "      <td>silence of the lambs, the (1991)</td>\n",
       "    </tr>\n",
       "    <tr>\n",
       "      <th>2</th>\n",
       "      <td>pulp fiction (1994)</td>\n",
       "    </tr>\n",
       "    <tr>\n",
       "      <th>3</th>\n",
       "      <td>schindler's list (1993)</td>\n",
       "    </tr>\n",
       "    <tr>\n",
       "      <th>4</th>\n",
       "      <td>good will hunting (1997)</td>\n",
       "    </tr>\n",
       "    <tr>\n",
       "      <th>5</th>\n",
       "      <td>fargo (1996)</td>\n",
       "    </tr>\n",
       "    <tr>\n",
       "      <th>6</th>\n",
       "      <td>goodfellas (1990)</td>\n",
       "    </tr>\n",
       "    <tr>\n",
       "      <th>7</th>\n",
       "      <td>usual suspects, the (1995)</td>\n",
       "    </tr>\n",
       "    <tr>\n",
       "      <th>8</th>\n",
       "      <td>dead man walking (1995)</td>\n",
       "    </tr>\n",
       "    <tr>\n",
       "      <th>9</th>\n",
       "      <td>saving private ryan (1998)</td>\n",
       "    </tr>\n",
       "  </tbody>\n",
       "</table>\n",
       "</div>"
      ],
      "text/plain": [
       "                              title\n",
       "0  shawshank redemption, the (1994)\n",
       "1  silence of the lambs, the (1991)\n",
       "2               pulp fiction (1994)\n",
       "3           schindler's list (1993)\n",
       "4          good will hunting (1997)\n",
       "5                      fargo (1996)\n",
       "6                 goodfellas (1990)\n",
       "7        usual suspects, the (1995)\n",
       "8           dead man walking (1995)\n",
       "9        saving private ryan (1998)"
      ]
     },
     "execution_count": 106,
     "metadata": {},
     "output_type": "execute_result"
    }
   ],
   "source": [
    "df = pd.DataFrame(get_similar_movie('shawshank redemption, the (1994)'))\n",
    "df.columns = ['title']\n",
    "df"
   ]
  },
  {
   "cell_type": "markdown",
   "id": "ahead-munich",
   "metadata": {},
   "source": [
    "- 'hojin user' 가 선호하는 영화 리스트 중 'shawshank redemption, the (1994)'와 비슷한 영화를 찾아본 결과 비슷한 장르의 영화가 나왔음을 확인 할 수 있었습니다."
   ]
  },
  {
   "cell_type": "markdown",
   "id": "included-experiment",
   "metadata": {},
   "source": [
    "## 8) 내가 가장 좋아할 만한 영화들을 추천받아 봅시다.\n",
    "---"
   ]
  },
  {
   "cell_type": "markdown",
   "id": "graduate-jackson",
   "metadata": {},
   "source": [
    "### 8-1) 내가 가장 좋아할 만한 영화 추천 받기"
   ]
  },
  {
   "cell_type": "code",
   "execution_count": 107,
   "id": "searching-commander",
   "metadata": {},
   "outputs": [
    {
     "data": {
      "text/plain": [
       "[(121, 0.5272483),\n",
       " (110, 0.45658916),\n",
       " (141, 0.4275483),\n",
       " (50, 0.42174715),\n",
       " (48, 0.41468155),\n",
       " (23, 0.41079432),\n",
       " (38, 0.39764827),\n",
       " (107, 0.38569254),\n",
       " (87, 0.36689222),\n",
       " (175, 0.3519129),\n",
       " (51, 0.3365376),\n",
       " (62, 0.30717495),\n",
       " (200, 0.28609446),\n",
       " (322, 0.285015),\n",
       " (22, 0.27338767),\n",
       " (248, 0.27177024),\n",
       " (224, 0.2495744),\n",
       " (222, 0.23679584),\n",
       " (233, 0.2346713),\n",
       " (4, 0.22879882)]"
      ]
     },
     "execution_count": 107,
     "metadata": {},
     "output_type": "execute_result"
    }
   ],
   "source": [
    "user = user_to_idx['hojin']\n",
    "\n",
    "# recommend에서는 user*item CSR Matrix를 받습니다.\n",
    "# filter_already_liked_items: 유저가 이미 평가한 아이템(아티스트)는 제외\n",
    "\n",
    "movie_recommended = als_model.recommend(user, csr_data, N=20, filter_already_liked_items=True)\n",
    "movie_recommended"
   ]
  },
  {
   "cell_type": "code",
   "execution_count": 109,
   "id": "informative-scenario",
   "metadata": {},
   "outputs": [
    {
     "data": {
      "text/html": [
       "<div>\n",
       "<style scoped>\n",
       "    .dataframe tbody tr th:only-of-type {\n",
       "        vertical-align: middle;\n",
       "    }\n",
       "\n",
       "    .dataframe tbody tr th {\n",
       "        vertical-align: top;\n",
       "    }\n",
       "\n",
       "    .dataframe thead th {\n",
       "        text-align: right;\n",
       "    }\n",
       "</style>\n",
       "<table border=\"1\" class=\"dataframe\">\n",
       "  <thead>\n",
       "    <tr style=\"text-align: right;\">\n",
       "      <th></th>\n",
       "      <th>title</th>\n",
       "    </tr>\n",
       "  </thead>\n",
       "  <tbody>\n",
       "    <tr>\n",
       "      <th>0</th>\n",
       "      <td>silence of the lambs, the (1991)</td>\n",
       "    </tr>\n",
       "    <tr>\n",
       "      <th>1</th>\n",
       "      <td>groundhog day (1993)</td>\n",
       "    </tr>\n",
       "    <tr>\n",
       "      <th>2</th>\n",
       "      <td>fugitive, the (1993)</td>\n",
       "    </tr>\n",
       "    <tr>\n",
       "      <th>3</th>\n",
       "      <td>toy story 2 (1999)</td>\n",
       "    </tr>\n",
       "    <tr>\n",
       "      <th>4</th>\n",
       "      <td>saving private ryan (1998)</td>\n",
       "    </tr>\n",
       "    <tr>\n",
       "      <th>5</th>\n",
       "      <td>schindler's list (1993)</td>\n",
       "    </tr>\n",
       "    <tr>\n",
       "      <th>6</th>\n",
       "      <td>sixth sense, the (1999)</td>\n",
       "    </tr>\n",
       "    <tr>\n",
       "      <th>7</th>\n",
       "      <td>jurassic park (1993)</td>\n",
       "    </tr>\n",
       "    <tr>\n",
       "      <th>8</th>\n",
       "      <td>braveheart (1995)</td>\n",
       "    </tr>\n",
       "    <tr>\n",
       "      <th>9</th>\n",
       "      <td>men in black (1997)</td>\n",
       "    </tr>\n",
       "    <tr>\n",
       "      <th>10</th>\n",
       "      <td>fargo (1996)</td>\n",
       "    </tr>\n",
       "    <tr>\n",
       "      <th>11</th>\n",
       "      <td>total recall (1990)</td>\n",
       "    </tr>\n",
       "    <tr>\n",
       "      <th>12</th>\n",
       "      <td>terminator, the (1984)</td>\n",
       "    </tr>\n",
       "    <tr>\n",
       "      <th>13</th>\n",
       "      <td>babe (1995)</td>\n",
       "    </tr>\n",
       "    <tr>\n",
       "      <th>14</th>\n",
       "      <td>back to the future (1985)</td>\n",
       "    </tr>\n",
       "    <tr>\n",
       "      <th>15</th>\n",
       "      <td>good will hunting (1997)</td>\n",
       "    </tr>\n",
       "    <tr>\n",
       "      <th>16</th>\n",
       "      <td>l.a. confidential (1997)</td>\n",
       "    </tr>\n",
       "    <tr>\n",
       "      <th>17</th>\n",
       "      <td>pulp fiction (1994)</td>\n",
       "    </tr>\n",
       "    <tr>\n",
       "      <th>18</th>\n",
       "      <td>usual suspects, the (1995)</td>\n",
       "    </tr>\n",
       "    <tr>\n",
       "      <th>19</th>\n",
       "      <td>bug's life, a (1998)</td>\n",
       "    </tr>\n",
       "  </tbody>\n",
       "</table>\n",
       "</div>"
      ],
      "text/plain": [
       "                               title\n",
       "0   silence of the lambs, the (1991)\n",
       "1               groundhog day (1993)\n",
       "2               fugitive, the (1993)\n",
       "3                 toy story 2 (1999)\n",
       "4         saving private ryan (1998)\n",
       "5            schindler's list (1993)\n",
       "6            sixth sense, the (1999)\n",
       "7               jurassic park (1993)\n",
       "8                  braveheart (1995)\n",
       "9                men in black (1997)\n",
       "10                      fargo (1996)\n",
       "11               total recall (1990)\n",
       "12            terminator, the (1984)\n",
       "13                       babe (1995)\n",
       "14         back to the future (1985)\n",
       "15          good will hunting (1997)\n",
       "16          l.a. confidential (1997)\n",
       "17               pulp fiction (1994)\n",
       "18        usual suspects, the (1995)\n",
       "19              bug's life, a (1998)"
      ]
     },
     "execution_count": 109,
     "metadata": {},
     "output_type": "execute_result"
    }
   ],
   "source": [
    "df2 = pd.DataFrame([idx_to_movie[i[0]] for i in movie_recommended])\n",
    "df2.columns = ['title']\n",
    "df2"
   ]
  },
  {
   "cell_type": "markdown",
   "id": "arabic-wedding",
   "metadata": {},
   "source": [
    "- 개인적으로 양들의 침묵이나, 토이스토리 2, 쉰들러 리스트 와 같은 영화를 좋아하는데, 추천받은 영화 중에 제가 선호하는 영화가 있음을 확인할 수 있었습니다."
   ]
  },
  {
   "cell_type": "code",
   "execution_count": 111,
   "id": "special-birmingham",
   "metadata": {},
   "outputs": [],
   "source": [
    "#  explain 메소드를 사용하면 기록을 남긴 데이터 중 이 추천에 기여한 정도를 확인\n",
    "terminator_2 = movie_to_idx['terminator 2: judgment day (1991)']\n",
    "explain = als_model.explain(user, csr_data, itemid=terminator_2)"
   ]
  },
  {
   "cell_type": "code",
   "execution_count": 112,
   "id": "atomic-aspect",
   "metadata": {},
   "outputs": [
    {
     "data": {
      "text/html": [
       "<div>\n",
       "<style scoped>\n",
       "    .dataframe tbody tr th:only-of-type {\n",
       "        vertical-align: middle;\n",
       "    }\n",
       "\n",
       "    .dataframe tbody tr th {\n",
       "        vertical-align: top;\n",
       "    }\n",
       "\n",
       "    .dataframe thead th {\n",
       "        text-align: right;\n",
       "    }\n",
       "</style>\n",
       "<table border=\"1\" class=\"dataframe\">\n",
       "  <thead>\n",
       "    <tr style=\"text-align: right;\">\n",
       "      <th></th>\n",
       "      <th>title</th>\n",
       "      <th>Contribution</th>\n",
       "    </tr>\n",
       "  </thead>\n",
       "  <tbody>\n",
       "    <tr>\n",
       "      <th>0</th>\n",
       "      <td>terminator 2: judgment day (1991)</td>\n",
       "      <td>0.367900</td>\n",
       "    </tr>\n",
       "    <tr>\n",
       "      <th>1</th>\n",
       "      <td>matrix, the (1999)</td>\n",
       "      <td>0.212908</td>\n",
       "    </tr>\n",
       "    <tr>\n",
       "      <th>2</th>\n",
       "      <td>shawshank redemption, the (1994)</td>\n",
       "      <td>0.010052</td>\n",
       "    </tr>\n",
       "    <tr>\n",
       "      <th>3</th>\n",
       "      <td>toy story (1995)</td>\n",
       "      <td>0.008298</td>\n",
       "    </tr>\n",
       "    <tr>\n",
       "      <th>4</th>\n",
       "      <td>forrest gump (1994)</td>\n",
       "      <td>-0.004308</td>\n",
       "    </tr>\n",
       "  </tbody>\n",
       "</table>\n",
       "</div>"
      ],
      "text/plain": [
       "                               title  Contribution\n",
       "0  terminator 2: judgment day (1991)      0.367900\n",
       "1                 matrix, the (1999)      0.212908\n",
       "2   shawshank redemption, the (1994)      0.010052\n",
       "3                   toy story (1995)      0.008298\n",
       "4                forrest gump (1994)     -0.004308"
      ]
     },
     "execution_count": 112,
     "metadata": {},
     "output_type": "execute_result"
    }
   ],
   "source": [
    "df3 = pd.DataFrame([(idx_to_movie[i[0]], i[1]) for i in explain[1]])\n",
    "df3.columns = ['title', 'Contribution']\n",
    "df3"
   ]
  },
  {
   "cell_type": "code",
   "execution_count": 113,
   "id": "comic-consumer",
   "metadata": {},
   "outputs": [],
   "source": [
    "matrix = movie_to_idx['matrix, the (1999)']\n",
    "explain = als_model.explain(user, csr_data, itemid = matrix)"
   ]
  },
  {
   "cell_type": "code",
   "execution_count": 114,
   "id": "useful-treatment",
   "metadata": {},
   "outputs": [
    {
     "data": {
      "text/html": [
       "<div>\n",
       "<style scoped>\n",
       "    .dataframe tbody tr th:only-of-type {\n",
       "        vertical-align: middle;\n",
       "    }\n",
       "\n",
       "    .dataframe tbody tr th {\n",
       "        vertical-align: top;\n",
       "    }\n",
       "\n",
       "    .dataframe thead th {\n",
       "        text-align: right;\n",
       "    }\n",
       "</style>\n",
       "<table border=\"1\" class=\"dataframe\">\n",
       "  <thead>\n",
       "    <tr style=\"text-align: right;\">\n",
       "      <th></th>\n",
       "      <th>title</th>\n",
       "      <th>Contribution</th>\n",
       "    </tr>\n",
       "  </thead>\n",
       "  <tbody>\n",
       "    <tr>\n",
       "      <th>0</th>\n",
       "      <td>matrix, the (1999)</td>\n",
       "      <td>0.297753</td>\n",
       "    </tr>\n",
       "    <tr>\n",
       "      <th>1</th>\n",
       "      <td>terminator 2: judgment day (1991)</td>\n",
       "      <td>0.212908</td>\n",
       "    </tr>\n",
       "    <tr>\n",
       "      <th>2</th>\n",
       "      <td>toy story (1995)</td>\n",
       "      <td>0.044122</td>\n",
       "    </tr>\n",
       "    <tr>\n",
       "      <th>3</th>\n",
       "      <td>shawshank redemption, the (1994)</td>\n",
       "      <td>0.025563</td>\n",
       "    </tr>\n",
       "    <tr>\n",
       "      <th>4</th>\n",
       "      <td>forrest gump (1994)</td>\n",
       "      <td>0.001476</td>\n",
       "    </tr>\n",
       "  </tbody>\n",
       "</table>\n",
       "</div>"
      ],
      "text/plain": [
       "                               title  Contribution\n",
       "0                 matrix, the (1999)      0.297753\n",
       "1  terminator 2: judgment day (1991)      0.212908\n",
       "2                   toy story (1995)      0.044122\n",
       "3   shawshank redemption, the (1994)      0.025563\n",
       "4                forrest gump (1994)      0.001476"
      ]
     },
     "execution_count": 114,
     "metadata": {},
     "output_type": "execute_result"
    }
   ],
   "source": [
    "df4 = pd.DataFrame([(idx_to_movie[i[0]], i[1]) for i in explain[1]])\n",
    "df4.columns = ['title', 'Contribution']\n",
    "df4"
   ]
  },
  {
   "cell_type": "markdown",
   "id": "accessory-desktop",
   "metadata": {},
   "source": [
    "- hojin 선호 영화 리스트 중, 터미네이터 2 와 매트릭스 로 끼여도를 확인해본 결과 터미네이터가 0.367900 으로 높은 기여도를 보였음을 알 수 있습니다."
   ]
  },
  {
   "cell_type": "markdown",
   "id": "naughty-medline",
   "metadata": {},
   "source": [
    "## 9) 루브릭 & 회고\n",
    "---\n",
    "\n",
    "### 루브릭\n",
    "\n",
    "1. CSR matrix가 정상적으로 만들어졌다.\n",
    "\n",
    "- 사용자와 아이템 개수를 바탕으로 정확한 사이즈로 만들었다.\n",
    "\n",
    "2. MF 모델이 정상적으로 훈련되어 그럴듯한 추천이 이루어졌다.\n",
    "\n",
    "- 사용자와 아이템 벡터 내적수치가 의미있게 형성되었다.\n",
    "\n",
    "3. 비슷한 영화 찾기와 유저에게 추천하기의 과정이 정상적으로 진행되었다.\n",
    "\n",
    "- MF모델이 예측한 유저 선호도 및 아이템간 유사도, 기여도가 의미있게 측정되었다."
   ]
  },
  {
   "cell_type": "markdown",
   "id": "exceptional-suffering",
   "metadata": {},
   "source": [
    "### 회고\n",
    "\n",
    "- 개인적으로 넷플릭스나 유튜브 알고리즘이 어떤 방식이길래 내가 좋아하는 영화나 영상을 상단에 리스트업 하는 지 개인적인 호기심을 가지고 있었습니다.\n",
    "\n",
    "- 하지만, 그 알고리즘에 대해서 개인적으로 알아보고 싶다는 호기심을 직접 코드를 입력을 해보며 호기심을 풀 수 있었던 프로젝트였다고 생각합니다.\n",
    "\n",
    "- 개인적인 어려움이 있었다면, 코드의 줄이 길어지면서 위에서 사용한 단어를 재사용할 때 오타로 인해 오류가 자주 발생하여 어려움을 겪었던 거 같습니다.\n",
    "\n",
    "- 또한, user의 관심도를 측정할 수 있는 시청횟수에 따른 영화 분포를 시각화하고 싶었으나, 시간적인 제약으로 인해 실행으로 옮기지 못한 것에 아쉬움을 느낍니다.\n",
    "\n",
    "- 항상 하는 말이지만... 시간이 넉넉하게 있었다면 다양한 시도를 할 수 있었을텐데... 라는 아쉬움을 가지며, 다음 프로젝트에선 더 좋은 결과물을 만들기 위해 노력해 보도록 하겠습니다."
   ]
  }
 ],
 "metadata": {
  "kernelspec": {
   "display_name": "Python 3",
   "language": "python",
   "name": "python3"
  },
  "language_info": {
   "codemirror_mode": {
    "name": "ipython",
    "version": 3
   },
   "file_extension": ".py",
   "mimetype": "text/x-python",
   "name": "python",
   "nbconvert_exporter": "python",
   "pygments_lexer": "ipython3",
   "version": "3.7.9"
  }
 },
 "nbformat": 4,
 "nbformat_minor": 5
}
